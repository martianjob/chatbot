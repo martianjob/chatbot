{
  "nbformat": 4,
  "nbformat_minor": 0,
  "metadata": {
    "kernelspec": {
      "display_name": "Python 3",
      "language": "python",
      "name": "python3"
    },
    "language_info": {
      "codemirror_mode": {
        "name": "ipython",
        "version": 3
      },
      "file_extension": ".py",
      "mimetype": "text/x-python",
      "name": "python",
      "nbconvert_exporter": "python",
      "pygments_lexer": "ipython3",
      "version": "3.7.4"
    },
    "colab": {
      "name": "Capstone_FINAL_CODE.ipynb",
      "provenance": [],
      "collapsed_sections": [],
      "include_colab_link": true
    }
  },
  "cells": [
    {
      "cell_type": "markdown",
      "metadata": {
        "id": "view-in-github",
        "colab_type": "text"
      },
      "source": [
        "<a href=\"https://colab.research.google.com/github/martianjob/chatbot/blob/main/Capstone_FINAL_CODE.ipynb\" target=\"_parent\"><img src=\"https://colab.research.google.com/assets/colab-badge.svg\" alt=\"Open In Colab\"/></a>"
      ]
    },
    {
      "cell_type": "code",
      "metadata": {
        "colab": {
          "base_uri": "https://localhost:8080/"
        },
        "id": "aVre8rXICGRw",
        "outputId": "f99b4bc5-695a-4127-ab63-8116287c0785"
      },
      "source": [
        "print('Importing Python Basic Libraries')\n",
        "import numpy as np\n",
        "import pandas as pd\n",
        "import matplotlib.pyplot as plt\n",
        "%matplotlib inline\n",
        "import os\n",
        "import string\n",
        "import random, re\n",
        "!pip install contractions\n",
        "import contractions\n",
        "import wordcloud\n",
        "from wordcloud import WordCloud\n",
        "import matplotlib.pyplot as plt\n",
        "% matplotlib inline\n",
        "# for Visual Graphs/Representations\n",
        "import matplotlib.pyplot as plt\n",
        "% matplotlib inline\n",
        "import plotly # for 3D representation\n",
        "print (\"Plotly Version : \")\n",
        "print(plotly.__version__)\n",
        "import seaborn as sns\n",
        "import plotly.express as px\n",
        "import plotly.graph_objects as go\n",
        "from sklearn.impute import SimpleImputer\n",
        "import numpy as np\n",
        "import pandas as pd\n",
        "import matplotlib.pyplot as plt\n",
        "import seaborn as sns\n",
        "import os\n",
        "import string\n",
        "import random, re\n",
        "from wordcloud import WordCloud,STOPWORDS\n",
        "import nltk \n",
        "from sklearn.feature_extraction.text import CountVectorizer \n",
        "from sklearn.feature_extraction.text import TfidfVectorizer\n",
        "from nltk.corpus import stopwords \n",
        "from nltk.tokenize import word_tokenize \n",
        "import pandas as pd \n",
        "import tensorflow as tf\n",
        "from tensorflow import keras\n",
        "from tensorflow.keras.preprocessing.text import Tokenizer\n",
        "from tensorflow.keras.preprocessing.sequence import pad_sequences\n",
        "import contractions\n",
        "\n",
        "# Basic packages\n",
        "import gc\n",
        "from scipy import stats; \n",
        "from scipy.stats import zscore, norm, randint\n",
        "import matplotlib.style as style; style.use('fivethirtyeight')\n",
        "\n",
        "# Models\n",
        "from sklearn.model_selection import train_test_split, GridSearchCV, StratifiedKFold, cross_val_score, learning_curve\n",
        "from wordcloud import WordCloud, STOPWORDS\n",
        "\n",
        "# Display settings\n",
        "pd.options.display.max_rows = 400\n",
        "pd.options.display.max_columns = 100\n",
        "pd.options.display.float_format = \"{:.2f}\".format\n",
        "\n",
        "random_state = 42\n",
        "np.random.seed(random_state)\n",
        "\n",
        "# Suppress warnings\n",
        "import warnings; warnings.filterwarnings('ignore')"
      ],
      "execution_count": 54,
      "outputs": [
        {
          "output_type": "stream",
          "text": [
            "Importing Python Basic Libraries\n",
            "Requirement already satisfied: contractions in /usr/local/lib/python3.6/dist-packages (0.0.45)\n",
            "Requirement already satisfied: textsearch in /usr/local/lib/python3.6/dist-packages (from contractions) (0.0.17)\n",
            "Requirement already satisfied: Unidecode in /usr/local/lib/python3.6/dist-packages (from textsearch->contractions) (1.1.2)\n",
            "Requirement already satisfied: pyahocorasick in /usr/local/lib/python3.6/dist-packages (from textsearch->contractions) (1.4.1)\n",
            "Plotly Version : \n",
            "4.4.1\n"
          ],
          "name": "stdout"
        }
      ]
    },
    {
      "cell_type": "code",
      "metadata": {
        "colab": {
          "base_uri": "https://localhost:8080/"
        },
        "id": "mEXN0Vi3OiHA",
        "outputId": "9a121952-186c-4afd-97a3-18e94e3c2a04"
      },
      "source": [
        "# Mounting Google Drive\r\n",
        "from google.colab import drive\r\n",
        "drive.mount('/content/drive')"
      ],
      "execution_count": 55,
      "outputs": [
        {
          "output_type": "stream",
          "text": [
            "Drive already mounted at /content/drive; to attempt to forcibly remount, call drive.mount(\"/content/drive\", force_remount=True).\n"
          ],
          "name": "stdout"
        }
      ]
    },
    {
      "cell_type": "code",
      "metadata": {
        "colab": {
          "base_uri": "https://localhost:8080/",
          "height": 313
        },
        "id": "20ms76V-CGRy",
        "outputId": "96c52e37-cee5-4e33-fff3-fbe904a2c60a"
      },
      "source": [
        "os.chdir('/content/drive/My Drive/Colab Notebooks')\n",
        "# locading input data from csv \n",
        "print(\"Loading the input csv data\")\n",
        "data = pd.read_csv(\"industrial_safety_and_health_db.csv\")\n",
        "data.head(5)"
      ],
      "execution_count": 56,
      "outputs": [
        {
          "output_type": "stream",
          "text": [
            "Loading the input csv data\n"
          ],
          "name": "stdout"
        },
        {
          "output_type": "execute_result",
          "data": {
            "text/html": [
              "<div>\n",
              "<style scoped>\n",
              "    .dataframe tbody tr th:only-of-type {\n",
              "        vertical-align: middle;\n",
              "    }\n",
              "\n",
              "    .dataframe tbody tr th {\n",
              "        vertical-align: top;\n",
              "    }\n",
              "\n",
              "    .dataframe thead th {\n",
              "        text-align: right;\n",
              "    }\n",
              "</style>\n",
              "<table border=\"1\" class=\"dataframe\">\n",
              "  <thead>\n",
              "    <tr style=\"text-align: right;\">\n",
              "      <th></th>\n",
              "      <th>Unnamed: 0</th>\n",
              "      <th>Data</th>\n",
              "      <th>Countries</th>\n",
              "      <th>Local</th>\n",
              "      <th>Industry Sector</th>\n",
              "      <th>Accident Level</th>\n",
              "      <th>Potential Accident Level</th>\n",
              "      <th>Genre</th>\n",
              "      <th>Employee or Third Party</th>\n",
              "      <th>Critical Risk</th>\n",
              "      <th>Description</th>\n",
              "    </tr>\n",
              "  </thead>\n",
              "  <tbody>\n",
              "    <tr>\n",
              "      <th>0</th>\n",
              "      <td>0</td>\n",
              "      <td>01-01-2016 00:00</td>\n",
              "      <td>Country_01</td>\n",
              "      <td>Local_01</td>\n",
              "      <td>Mining</td>\n",
              "      <td>I</td>\n",
              "      <td>IV</td>\n",
              "      <td>Male</td>\n",
              "      <td>Third Party</td>\n",
              "      <td>Pressed</td>\n",
              "      <td>While removing the drill rod of the Jumbo 08 f...</td>\n",
              "    </tr>\n",
              "    <tr>\n",
              "      <th>1</th>\n",
              "      <td>1</td>\n",
              "      <td>02-01-2016 00:00</td>\n",
              "      <td>Country_02</td>\n",
              "      <td>Local_02</td>\n",
              "      <td>Mining</td>\n",
              "      <td>I</td>\n",
              "      <td>IV</td>\n",
              "      <td>Male</td>\n",
              "      <td>Employee</td>\n",
              "      <td>Pressurized Systems</td>\n",
              "      <td>During the activation of a sodium sulphide pum...</td>\n",
              "    </tr>\n",
              "    <tr>\n",
              "      <th>2</th>\n",
              "      <td>2</td>\n",
              "      <td>06-01-2016 00:00</td>\n",
              "      <td>Country_01</td>\n",
              "      <td>Local_03</td>\n",
              "      <td>Mining</td>\n",
              "      <td>I</td>\n",
              "      <td>III</td>\n",
              "      <td>Male</td>\n",
              "      <td>Third Party (Remote)</td>\n",
              "      <td>Manual Tools</td>\n",
              "      <td>In the sub-station MILPO located at level +170...</td>\n",
              "    </tr>\n",
              "    <tr>\n",
              "      <th>3</th>\n",
              "      <td>3</td>\n",
              "      <td>08-01-2016 00:00</td>\n",
              "      <td>Country_01</td>\n",
              "      <td>Local_04</td>\n",
              "      <td>Mining</td>\n",
              "      <td>I</td>\n",
              "      <td>I</td>\n",
              "      <td>Male</td>\n",
              "      <td>Third Party</td>\n",
              "      <td>Others</td>\n",
              "      <td>Being 9:45 am. approximately in the Nv. 1880 C...</td>\n",
              "    </tr>\n",
              "    <tr>\n",
              "      <th>4</th>\n",
              "      <td>4</td>\n",
              "      <td>10-01-2016 00:00</td>\n",
              "      <td>Country_01</td>\n",
              "      <td>Local_04</td>\n",
              "      <td>Mining</td>\n",
              "      <td>IV</td>\n",
              "      <td>IV</td>\n",
              "      <td>Male</td>\n",
              "      <td>Third Party</td>\n",
              "      <td>Others</td>\n",
              "      <td>Approximately at 11:45 a.m. in circumstances t...</td>\n",
              "    </tr>\n",
              "  </tbody>\n",
              "</table>\n",
              "</div>"
            ],
            "text/plain": [
              "   Unnamed: 0              Data   Countries     Local Industry Sector  \\\n",
              "0           0  01-01-2016 00:00  Country_01  Local_01          Mining   \n",
              "1           1  02-01-2016 00:00  Country_02  Local_02          Mining   \n",
              "2           2  06-01-2016 00:00  Country_01  Local_03          Mining   \n",
              "3           3  08-01-2016 00:00  Country_01  Local_04          Mining   \n",
              "4           4  10-01-2016 00:00  Country_01  Local_04          Mining   \n",
              "\n",
              "  Accident Level Potential Accident Level Genre Employee or Third Party  \\\n",
              "0              I                       IV  Male             Third Party   \n",
              "1              I                       IV  Male                Employee   \n",
              "2              I                      III  Male    Third Party (Remote)   \n",
              "3              I                        I  Male             Third Party   \n",
              "4             IV                       IV  Male             Third Party   \n",
              "\n",
              "         Critical Risk                                        Description  \n",
              "0              Pressed  While removing the drill rod of the Jumbo 08 f...  \n",
              "1  Pressurized Systems  During the activation of a sodium sulphide pum...  \n",
              "2         Manual Tools  In the sub-station MILPO located at level +170...  \n",
              "3               Others  Being 9:45 am. approximately in the Nv. 1880 C...  \n",
              "4               Others  Approximately at 11:45 a.m. in circumstances t...  "
            ]
          },
          "metadata": {
            "tags": []
          },
          "execution_count": 56
        }
      ]
    },
    {
      "cell_type": "markdown",
      "metadata": {
        "id": "b-ykGQQbCGRz"
      },
      "source": [
        "# Study of the data, columns & attributes - Perform EDA"
      ]
    },
    {
      "cell_type": "code",
      "metadata": {
        "colab": {
          "base_uri": "https://localhost:8080/"
        },
        "id": "Kaucsi0wVdeU",
        "outputId": "5853fe19-1e75-4b0e-8db1-15776acfd006"
      },
      "source": [
        "data.shape ## Tells how many records are there in the input data and number of columns"
      ],
      "execution_count": 57,
      "outputs": [
        {
          "output_type": "execute_result",
          "data": {
            "text/plain": [
              "(425, 11)"
            ]
          },
          "metadata": {
            "tags": []
          },
          "execution_count": 57
        }
      ]
    },
    {
      "cell_type": "code",
      "metadata": {
        "colab": {
          "base_uri": "https://localhost:8080/"
        },
        "id": "V_fB9BfoCGRz",
        "outputId": "95320a2f-663f-4df4-ba16-65c65cc3a5bb"
      },
      "source": [
        "data.columns"
      ],
      "execution_count": 58,
      "outputs": [
        {
          "output_type": "execute_result",
          "data": {
            "text/plain": [
              "Index(['Unnamed: 0', 'Data', 'Countries', 'Local', 'Industry Sector',\n",
              "       'Accident Level', 'Potential Accident Level', 'Genre',\n",
              "       'Employee or Third Party', 'Critical Risk', 'Description'],\n",
              "      dtype='object')"
            ]
          },
          "metadata": {
            "tags": []
          },
          "execution_count": 58
        }
      ]
    },
    {
      "cell_type": "code",
      "metadata": {
        "id": "3UO8Z8ivCGR0"
      },
      "source": [
        "# Rename the Columns\n",
        "\n",
        "data.rename(columns={'Data':'Date', 'Countries':'Country', 'Genre':'Gender', 'Employee or Third Party':'Employee type'}, inplace=True)\n",
        "#data.head(5)"
      ],
      "execution_count": 59,
      "outputs": []
    },
    {
      "cell_type": "code",
      "metadata": {
        "colab": {
          "base_uri": "https://localhost:8080/"
        },
        "id": "MORLgY-lCGR0",
        "outputId": "dd4872e3-4636-4d50-f24c-af18546e6f18"
      },
      "source": [
        "data.info()"
      ],
      "execution_count": 60,
      "outputs": [
        {
          "output_type": "stream",
          "text": [
            "<class 'pandas.core.frame.DataFrame'>\n",
            "RangeIndex: 425 entries, 0 to 424\n",
            "Data columns (total 11 columns):\n",
            " #   Column                    Non-Null Count  Dtype \n",
            "---  ------                    --------------  ----- \n",
            " 0   Unnamed: 0                425 non-null    int64 \n",
            " 1   Date                      425 non-null    object\n",
            " 2   Country                   425 non-null    object\n",
            " 3   Local                     425 non-null    object\n",
            " 4   Industry Sector           425 non-null    object\n",
            " 5   Accident Level            425 non-null    object\n",
            " 6   Potential Accident Level  425 non-null    object\n",
            " 7   Gender                    425 non-null    object\n",
            " 8   Employee type             425 non-null    object\n",
            " 9   Critical Risk             425 non-null    object\n",
            " 10  Description               425 non-null    object\n",
            "dtypes: int64(1), object(10)\n",
            "memory usage: 36.6+ KB\n"
          ],
          "name": "stdout"
        }
      ]
    },
    {
      "cell_type": "code",
      "metadata": {
        "colab": {
          "base_uri": "https://localhost:8080/",
          "height": 284
        },
        "id": "PX1TtoNwP2gK",
        "outputId": "4b4a8bfe-c763-4cc7-c837-24e4f21a9adc"
      },
      "source": [
        "data.describe()"
      ],
      "execution_count": 61,
      "outputs": [
        {
          "output_type": "execute_result",
          "data": {
            "text/html": [
              "<div>\n",
              "<style scoped>\n",
              "    .dataframe tbody tr th:only-of-type {\n",
              "        vertical-align: middle;\n",
              "    }\n",
              "\n",
              "    .dataframe tbody tr th {\n",
              "        vertical-align: top;\n",
              "    }\n",
              "\n",
              "    .dataframe thead th {\n",
              "        text-align: right;\n",
              "    }\n",
              "</style>\n",
              "<table border=\"1\" class=\"dataframe\">\n",
              "  <thead>\n",
              "    <tr style=\"text-align: right;\">\n",
              "      <th></th>\n",
              "      <th>Unnamed: 0</th>\n",
              "    </tr>\n",
              "  </thead>\n",
              "  <tbody>\n",
              "    <tr>\n",
              "      <th>count</th>\n",
              "      <td>425.00</td>\n",
              "    </tr>\n",
              "    <tr>\n",
              "      <th>mean</th>\n",
              "      <td>224.08</td>\n",
              "    </tr>\n",
              "    <tr>\n",
              "      <th>std</th>\n",
              "      <td>125.53</td>\n",
              "    </tr>\n",
              "    <tr>\n",
              "      <th>min</th>\n",
              "      <td>0.00</td>\n",
              "    </tr>\n",
              "    <tr>\n",
              "      <th>25%</th>\n",
              "      <td>118.00</td>\n",
              "    </tr>\n",
              "    <tr>\n",
              "      <th>50%</th>\n",
              "      <td>226.00</td>\n",
              "    </tr>\n",
              "    <tr>\n",
              "      <th>75%</th>\n",
              "      <td>332.00</td>\n",
              "    </tr>\n",
              "    <tr>\n",
              "      <th>max</th>\n",
              "      <td>438.00</td>\n",
              "    </tr>\n",
              "  </tbody>\n",
              "</table>\n",
              "</div>"
            ],
            "text/plain": [
              "       Unnamed: 0\n",
              "count      425.00\n",
              "mean       224.08\n",
              "std        125.53\n",
              "min          0.00\n",
              "25%        118.00\n",
              "50%        226.00\n",
              "75%        332.00\n",
              "max        438.00"
            ]
          },
          "metadata": {
            "tags": []
          },
          "execution_count": 61
        }
      ]
    },
    {
      "cell_type": "markdown",
      "metadata": {
        "id": "1k1kcm4HSOSV"
      },
      "source": [
        "###The Input has 452 records.\r\n",
        "###There are 3 country data in the input data.\r\n",
        "### There are 12 Local uniqu values.\r\n",
        "### Threre are 5 accidient levels I till V  and for I level 316 records in the input.\r\n",
        "### There are 6 levels of Potential accodent levels & for IV level there are 143 records.\r\n",
        "### For Gender there are 2 catagories & for Male there are 403 records.\r\n",
        "### Thre are 3 types of Employee types and for Third Party  there are 189 records.\r\n",
        "### There are 425 records and 411 unique descriptions in the input data."
      ]
    },
    {
      "cell_type": "code",
      "metadata": {
        "colab": {
          "base_uri": "https://localhost:8080/"
        },
        "id": "jDTYo2k3CGR0",
        "outputId": "9ca7ad0b-1c92-42d2-dd02-d457647720a4"
      },
      "source": [
        "# Display Unique Values for all the Columns\n",
        "columns = ['Country','Local','Industry Sector','Accident Level','Potential Accident Level','Gender','Employee type','Critical Risk']\n",
        "for cols in columns:\n",
        "    print(\"*\"*100)\n",
        "    print(f'Unique values for {cols} is \\n{data[cols].unique()}\\nUnique count per label is:\\n{data[cols].value_counts()}\\n')"
      ],
      "execution_count": 62,
      "outputs": [
        {
          "output_type": "stream",
          "text": [
            "****************************************************************************************************\n",
            "Unique values for Country is \n",
            "['Country_01' 'Country_02' 'Country_03']\n",
            "Unique count per label is:\n",
            "Country_01    251\n",
            "Country_02    130\n",
            "Country_03     44\n",
            "Name: Country, dtype: int64\n",
            "\n",
            "****************************************************************************************************\n",
            "Unique values for Local is \n",
            "['Local_01' 'Local_02' 'Local_03' 'Local_04' 'Local_05' 'Local_06'\n",
            " 'Local_07' 'Local_08' 'Local_10' 'Local_09' 'Local_11' 'Local_12']\n",
            "Unique count per label is:\n",
            "Local_03    90\n",
            "Local_05    59\n",
            "Local_01    57\n",
            "Local_04    56\n",
            "Local_06    46\n",
            "Local_10    44\n",
            "Local_08    27\n",
            "Local_02    24\n",
            "Local_07    14\n",
            "Local_12     4\n",
            "Local_09     2\n",
            "Local_11     2\n",
            "Name: Local, dtype: int64\n",
            "\n",
            "****************************************************************************************************\n",
            "Unique values for Industry Sector is \n",
            "['Mining' 'Metals' 'Others']\n",
            "Unique count per label is:\n",
            "Mining    241\n",
            "Metals    134\n",
            "Others     50\n",
            "Name: Industry Sector, dtype: int64\n",
            "\n",
            "****************************************************************************************************\n",
            "Unique values for Accident Level is \n",
            "['I' 'IV' 'III' 'II' 'V']\n",
            "Unique count per label is:\n",
            "I      316\n",
            "II      40\n",
            "III     31\n",
            "IV      30\n",
            "V        8\n",
            "Name: Accident Level, dtype: int64\n",
            "\n",
            "****************************************************************************************************\n",
            "Unique values for Potential Accident Level is \n",
            "['IV' 'III' 'I' 'II' 'V' 'VI']\n",
            "Unique count per label is:\n",
            "IV     143\n",
            "III    106\n",
            "II      95\n",
            "I       49\n",
            "V       31\n",
            "VI       1\n",
            "Name: Potential Accident Level, dtype: int64\n",
            "\n",
            "****************************************************************************************************\n",
            "Unique values for Gender is \n",
            "['Male' 'Female']\n",
            "Unique count per label is:\n",
            "Male      403\n",
            "Female     22\n",
            "Name: Gender, dtype: int64\n",
            "\n",
            "****************************************************************************************************\n",
            "Unique values for Employee type is \n",
            "['Third Party' 'Employee' 'Third Party (Remote)']\n",
            "Unique count per label is:\n",
            "Third Party             189\n",
            "Employee                179\n",
            "Third Party (Remote)     57\n",
            "Name: Employee type, dtype: int64\n",
            "\n",
            "****************************************************************************************************\n",
            "Unique values for Critical Risk is \n",
            "['Pressed' 'Pressurized Systems' 'Manual Tools' 'Others'\n",
            " 'Fall prevention (same level)' 'Chemical substances' 'Liquid Metal'\n",
            " 'Electrical installation' 'Confined space'\n",
            " 'Pressurized Systems / Chemical Substances'\n",
            " 'Blocking and isolation of energies' 'Suspended Loads' 'Poll' 'Cut'\n",
            " 'Fall' 'Bees' 'Fall prevention' '\\nNot applicable' 'Traffic' 'Projection'\n",
            " 'Venomous Animals' 'Plates' 'Projection/Burning' 'remains of choco'\n",
            " 'Vehicles and Mobile Equipment' 'Projection/Choco' 'Machine Protection'\n",
            " 'Power lock' 'Burn' 'Projection/Manual Tools'\n",
            " 'Individual protection equipment' 'Electrical Shock'\n",
            " 'Projection of fragments']\n",
            "Unique count per label is:\n",
            "Others                                       232\n",
            "Pressed                                       24\n",
            "Manual Tools                                  20\n",
            "Chemical substances                           17\n",
            "Venomous Animals                              16\n",
            "Cut                                           14\n",
            "Projection                                    13\n",
            "Bees                                          10\n",
            "Fall                                           9\n",
            "Vehicles and Mobile Equipment                  8\n",
            "Fall prevention (same level)                   7\n",
            "Pressurized Systems                            7\n",
            "remains of choco                               7\n",
            "Fall prevention                                6\n",
            "Suspended Loads                                6\n",
            "Pressurized Systems / Chemical Substances      3\n",
            "Power lock                                     3\n",
            "Liquid Metal                                   3\n",
            "Blocking and isolation of energies             3\n",
            "Electrical Shock                               2\n",
            "Machine Protection                             2\n",
            "Projection of fragments                        2\n",
            "Burn                                           1\n",
            "Projection/Manual Tools                        1\n",
            "\\nNot applicable                               1\n",
            "Traffic                                        1\n",
            "Poll                                           1\n",
            "Projection/Burning                             1\n",
            "Individual protection equipment                1\n",
            "Confined space                                 1\n",
            "Projection/Choco                               1\n",
            "Electrical installation                        1\n",
            "Plates                                         1\n",
            "Name: Critical Risk, dtype: int64\n",
            "\n"
          ],
          "name": "stdout"
        }
      ]
    },
    {
      "cell_type": "code",
      "metadata": {
        "id": "r66WvhiKCGR1",
        "colab": {
          "base_uri": "https://localhost:8080/"
        },
        "outputId": "b3a15f6b-30c1-4118-f5e8-142d8dc9a89f"
      },
      "source": [
        "pip install pandas-profiling"
      ],
      "execution_count": 63,
      "outputs": [
        {
          "output_type": "stream",
          "text": [
            "Requirement already satisfied: pandas-profiling in /usr/local/lib/python3.6/dist-packages (1.4.1)\n",
            "Requirement already satisfied: six>=1.9 in /usr/local/lib/python3.6/dist-packages (from pandas-profiling) (1.15.0)\n",
            "Requirement already satisfied: jinja2>=2.8 in /usr/local/lib/python3.6/dist-packages (from pandas-profiling) (2.11.2)\n",
            "Requirement already satisfied: matplotlib>=1.4 in /usr/local/lib/python3.6/dist-packages (from pandas-profiling) (3.2.2)\n",
            "Requirement already satisfied: pandas>=0.19 in /usr/local/lib/python3.6/dist-packages (from pandas-profiling) (1.1.5)\n",
            "Requirement already satisfied: MarkupSafe>=0.23 in /usr/local/lib/python3.6/dist-packages (from jinja2>=2.8->pandas-profiling) (1.1.1)\n",
            "Requirement already satisfied: numpy>=1.11 in /usr/local/lib/python3.6/dist-packages (from matplotlib>=1.4->pandas-profiling) (1.19.5)\n",
            "Requirement already satisfied: python-dateutil>=2.1 in /usr/local/lib/python3.6/dist-packages (from matplotlib>=1.4->pandas-profiling) (2.8.1)\n",
            "Requirement already satisfied: kiwisolver>=1.0.1 in /usr/local/lib/python3.6/dist-packages (from matplotlib>=1.4->pandas-profiling) (1.3.1)\n",
            "Requirement already satisfied: cycler>=0.10 in /usr/local/lib/python3.6/dist-packages (from matplotlib>=1.4->pandas-profiling) (0.10.0)\n",
            "Requirement already satisfied: pyparsing!=2.0.4,!=2.1.2,!=2.1.6,>=2.0.1 in /usr/local/lib/python3.6/dist-packages (from matplotlib>=1.4->pandas-profiling) (2.4.7)\n",
            "Requirement already satisfied: pytz>=2017.2 in /usr/local/lib/python3.6/dist-packages (from pandas>=0.19->pandas-profiling) (2018.9)\n"
          ],
          "name": "stdout"
        }
      ]
    },
    {
      "cell_type": "code",
      "metadata": {
        "id": "nxpwXmnNCGR1"
      },
      "source": [
        "from pandas_profiling import ProfileReport\n",
        "import pandas_profiling\n"
      ],
      "execution_count": 64,
      "outputs": []
    },
    {
      "cell_type": "code",
      "metadata": {
        "id": "zPslHf_vaqt-"
      },
      "source": [
        ""
      ],
      "execution_count": 64,
      "outputs": []
    },
    {
      "cell_type": "code",
      "metadata": {
        "colab": {
          "base_uri": "https://localhost:8080/"
        },
        "id": "lIiTlYIFCGR2",
        "outputId": "c414ad42-8838-4a9f-c29a-be1b4eadd238"
      },
      "source": [
        "# Check for Null values\n",
        "data.isnull().values.any() # If there are any null values in data set"
      ],
      "execution_count": 65,
      "outputs": [
        {
          "output_type": "execute_result",
          "data": {
            "text/plain": [
              "False"
            ]
          },
          "metadata": {
            "tags": []
          },
          "execution_count": 65
        }
      ]
    },
    {
      "cell_type": "code",
      "metadata": {
        "colab": {
          "base_uri": "https://localhost:8080/"
        },
        "id": "bOGzAn25bV8Q",
        "outputId": "41ca4d44-55e9-45f1-852c-098e601f2622"
      },
      "source": [
        "from textblob import TextBlob  ## It has been verified that the language used is English\r\n",
        "L=data['Description']\r\n",
        "for i in L: \r\n",
        "      \r\n",
        "    # Language Detection \r\n",
        "    lang = TextBlob(i)  \r\n",
        "print(lang.detect_language())"
      ],
      "execution_count": 66,
      "outputs": [
        {
          "output_type": "stream",
          "text": [
            "en\n"
          ],
          "name": "stdout"
        }
      ]
    },
    {
      "cell_type": "code",
      "metadata": {
        "colab": {
          "base_uri": "https://localhost:8080/"
        },
        "id": "EyAr1HZObfDS",
        "outputId": "47d18db6-fd9d-4b06-c6ff-9dc0ec35abdb"
      },
      "source": [
        "data_split = pd.Series(' '.join(data.Description).split()).value_counts( ascending=False)[:50] ## Most used words \r\n",
        "data_split"
      ],
      "execution_count": 67,
      "outputs": [
        {
          "output_type": "execute_result",
          "data": {
            "text/plain": [
              "the             4171\n",
              "of              1515\n",
              "to               671\n",
              "and              606\n",
              "a                513\n",
              "in               476\n",
              "was              436\n",
              "that             293\n",
              "on               286\n",
              "with             261\n",
              "his              259\n",
              "at               211\n",
              "when             198\n",
              "The              182\n",
              "causing          166\n",
              "from             162\n",
              "he               155\n",
              "left             154\n",
              "right            153\n",
              "by               139\n",
              "At               138\n",
              "is               128\n",
              "it               127\n",
              "hand             117\n",
              "employee         115\n",
              "operator         113\n",
              "which            104\n",
              "for              103\n",
              "time              99\n",
              "-                 87\n",
              "one               77\n",
              "In                77\n",
              "During            72\n",
              "moment            68\n",
              "activity          68\n",
              "an                67\n",
              "this              64\n",
              "finger            64\n",
              "were              62\n",
              "When              62\n",
              "injury.           61\n",
              "collaborator      60\n",
              "out               59\n",
              "level             58\n",
              "work              58\n",
              "assistant         58\n",
              "equipment         55\n",
              "worker            55\n",
              "not               54\n",
              "Mr.               54\n",
              "dtype: int64"
            ]
          },
          "metadata": {
            "tags": []
          },
          "execution_count": 67
        }
      ]
    },
    {
      "cell_type": "code",
      "metadata": {
        "colab": {
          "base_uri": "https://localhost:8080/"
        },
        "id": "D7O_jHJ3b93M",
        "outputId": "fe384bae-8a59-4e14-9deb-f4c7f99a2873"
      },
      "source": [
        ""
      ],
      "execution_count": 68,
      "outputs": [
        {
          "output_type": "execute_result",
          "data": {
            "text/plain": [
              "discomfort.      1\n",
              "air),            1\n",
              "Vista            1\n",
              "direction.       1\n",
              "pocket,          1\n",
              "attending        1\n",
              "8B               1\n",
              "1940;            1\n",
              "strained         1\n",
              "antenna          1\n",
              "pre              1\n",
              "(7th             1\n",
              "de-sanding       1\n",
              "energy.          1\n",
              "(No.             1\n",
              "operations       1\n",
              "40cm             1\n",
              "shock-bearing    1\n",
              "MCEISA           1\n",
              "type,            1\n",
              "cluster          1\n",
              "formation,       1\n",
              "shake            1\n",
              "rapid            1\n",
              "overturning      1\n",
              "chooses          1\n",
              "flotation        1\n",
              "lemon            1\n",
              "fence,           1\n",
              "maneuver.        1\n",
              "found,           1\n",
              "pulleys          1\n",
              "cleaning.        1\n",
              "reshaping        1\n",
              "Stop             1\n",
              "supervise        1\n",
              "03/22/2017;      1\n",
              "managed          1\n",
              "LTDA             1\n",
              "Acid             1\n",
              "drive,           1\n",
              "sand             1\n",
              "Prospector       1\n",
              "level;           1\n",
              "212              1\n",
              "residues         1\n",
              "20:57            1\n",
              "Atenuz           1\n",
              "chirodactile     1\n",
              "tn)              1\n",
              "dtype: int64"
            ]
          },
          "metadata": {
            "tags": []
          },
          "execution_count": 68
        }
      ]
    },
    {
      "cell_type": "code",
      "metadata": {
        "colab": {
          "base_uri": "https://localhost:8080/"
        },
        "id": "cU6FGX2icZUe",
        "outputId": "54c3cfe1-af1d-444c-b0ed-f5f932219cc7"
      },
      "source": [
        "len(data['Description'])"
      ],
      "execution_count": 69,
      "outputs": [
        {
          "output_type": "execute_result",
          "data": {
            "text/plain": [
              "425"
            ]
          },
          "metadata": {
            "tags": []
          },
          "execution_count": 69
        }
      ]
    },
    {
      "cell_type": "code",
      "metadata": {
        "colab": {
          "base_uri": "https://localhost:8080/"
        },
        "id": "Qafy2hUGciMk",
        "outputId": "2163fef3-8ee2-48a4-c7c8-1255f4ae9718"
      },
      "source": [
        "#Tokenization\r\n",
        "vocab_size = 10000\r\n",
        "embedding_dim = 16\r\n",
        "max_length = 425\r\n",
        "trunc_type='post'\r\n",
        "oov_tok = \"<OOV>\"\r\n",
        "\r\n",
        "tokenizer = Tokenizer(num_words = vocab_size, oov_token=oov_tok)\r\n",
        "tokenizer.fit_on_texts(data['Description'])\r\n",
        "word_index = tokenizer.word_index\r\n",
        "sequences = tokenizer.texts_to_sequences(data['Description'])\r\n",
        "padded = pad_sequences(sequences,maxlen=max_length, truncating=trunc_type)\r\n",
        "padded"
      ],
      "execution_count": 70,
      "outputs": [
        {
          "output_type": "execute_result",
          "data": {
            "text/plain": [
              "array([[   0,    0,    0, ...,    3,    2,  400],\n",
              "       [   0,    0,    0, ..., 1876, 1877, 1878],\n",
              "       [   0,    0,    0, ...,   17,    2,   27],\n",
              "       ...,\n",
              "       [   0,    0,    0, ...,    2,   19,   16],\n",
              "       [   0,    0,    0, ...,    2,   19,   16],\n",
              "       [   0,    0,    0, ...,    2,   68,   27]], dtype=int32)"
            ]
          },
          "metadata": {
            "tags": []
          },
          "execution_count": 70
        }
      ]
    },
    {
      "cell_type": "code",
      "metadata": {
        "colab": {
          "base_uri": "https://localhost:8080/"
        },
        "id": "Elrj7X2dc22q",
        "outputId": "48095206-4d38-4fc5-8674-5aa4734d0dd4"
      },
      "source": [
        "# Getting bigrams  \r\n",
        "vectorizer = CountVectorizer(ngram_range =(2, 2)) \r\n",
        "X1 = vectorizer.fit_transform(data)  \r\n",
        "features = (vectorizer.get_feature_names()) \r\n",
        "print(\"\\n\\nX1 : \\n\", X1.toarray()) \r\n",
        "  "
      ],
      "execution_count": 71,
      "outputs": [
        {
          "output_type": "stream",
          "text": [
            "\n",
            "\n",
            "X1 : \n",
            " [[0 0 0 0 0]\n",
            " [0 0 0 0 0]\n",
            " [0 0 0 0 0]\n",
            " [0 0 0 0 0]\n",
            " [0 0 0 1 0]\n",
            " [1 0 0 0 0]\n",
            " [1 0 0 0 1]\n",
            " [0 0 0 0 0]\n",
            " [0 0 1 0 0]\n",
            " [0 1 0 0 0]\n",
            " [0 0 0 0 0]]\n"
          ],
          "name": "stdout"
        }
      ]
    },
    {
      "cell_type": "code",
      "metadata": {
        "colab": {
          "base_uri": "https://localhost:8080/"
        },
        "id": "8R0CCsP0dBek",
        "outputId": "52d2c7d8-1c5c-4ad6-c3c7-c1d6a296b8aa"
      },
      "source": [
        "# Applying TFIDF \r\n",
        "vectorizer = TfidfVectorizer(ngram_range = (2, 2)) \r\n",
        "X2 = vectorizer.fit_transform(data) \r\n",
        "scores = (X2.toarray()) \r\n",
        "print(\"\\n\\nScores : \\n\", scores) "
      ],
      "execution_count": 72,
      "outputs": [
        {
          "output_type": "stream",
          "text": [
            "\n",
            "\n",
            "Scores : \n",
            " [[0.         0.         0.         0.         0.        ]\n",
            " [0.         0.         0.         0.         0.        ]\n",
            " [0.         0.         0.         0.         0.        ]\n",
            " [0.         0.         0.         0.         0.        ]\n",
            " [0.         0.         0.         1.         0.        ]\n",
            " [1.         0.         0.         0.         0.        ]\n",
            " [0.64974816 0.         0.         0.         0.76014955]\n",
            " [0.         0.         0.         0.         0.        ]\n",
            " [0.         0.         1.         0.         0.        ]\n",
            " [0.         1.         0.         0.         0.        ]\n",
            " [0.         0.         0.         0.         0.        ]]\n"
          ],
          "name": "stdout"
        }
      ]
    },
    {
      "cell_type": "code",
      "metadata": {
        "colab": {
          "base_uri": "https://localhost:8080/",
          "height": 195
        },
        "id": "etrMxRp_dG7N",
        "outputId": "58c466d2-b5af-4c76-c3cf-b13237bb18b9"
      },
      "source": [
        "# Getting top ranking features \r\n",
        "sums = X2.sum(axis = 0) \r\n",
        "data1 = [] \r\n",
        "for col, term in enumerate(features): \r\n",
        "    data1.append( (term, sums[0, col] )) \r\n",
        "ranking = pd.DataFrame(data1, columns = ['term', 'rank']) \r\n",
        "words = (ranking.sort_values('rank', ascending = False)) \r\n",
        "words.head()"
      ],
      "execution_count": 73,
      "outputs": [
        {
          "output_type": "execute_result",
          "data": {
            "text/html": [
              "<div>\n",
              "<style scoped>\n",
              "    .dataframe tbody tr th:only-of-type {\n",
              "        vertical-align: middle;\n",
              "    }\n",
              "\n",
              "    .dataframe tbody tr th {\n",
              "        vertical-align: top;\n",
              "    }\n",
              "\n",
              "    .dataframe thead th {\n",
              "        text-align: right;\n",
              "    }\n",
              "</style>\n",
              "<table border=\"1\" class=\"dataframe\">\n",
              "  <thead>\n",
              "    <tr style=\"text-align: right;\">\n",
              "      <th></th>\n",
              "      <th>term</th>\n",
              "      <th>rank</th>\n",
              "    </tr>\n",
              "  </thead>\n",
              "  <tbody>\n",
              "    <tr>\n",
              "      <th>0</th>\n",
              "      <td>accident level</td>\n",
              "      <td>1.65</td>\n",
              "    </tr>\n",
              "    <tr>\n",
              "      <th>1</th>\n",
              "      <td>critical risk</td>\n",
              "      <td>1.00</td>\n",
              "    </tr>\n",
              "    <tr>\n",
              "      <th>2</th>\n",
              "      <td>employee type</td>\n",
              "      <td>1.00</td>\n",
              "    </tr>\n",
              "    <tr>\n",
              "      <th>3</th>\n",
              "      <td>industry sector</td>\n",
              "      <td>1.00</td>\n",
              "    </tr>\n",
              "    <tr>\n",
              "      <th>4</th>\n",
              "      <td>potential accident</td>\n",
              "      <td>0.76</td>\n",
              "    </tr>\n",
              "  </tbody>\n",
              "</table>\n",
              "</div>"
            ],
            "text/plain": [
              "                 term  rank\n",
              "0      accident level  1.65\n",
              "1       critical risk  1.00\n",
              "2       employee type  1.00\n",
              "3     industry sector  1.00\n",
              "4  potential accident  0.76"
            ]
          },
          "metadata": {
            "tags": []
          },
          "execution_count": 73
        }
      ]
    },
    {
      "cell_type": "code",
      "metadata": {
        "colab": {
          "base_uri": "https://localhost:8080/",
          "height": 203
        },
        "id": "vIFxmuEYCGR3",
        "outputId": "ed9bf5a9-821a-422d-d764-258b0384c2b5"
      },
      "source": [
        "#For time series analysis\n",
        "data['Date'] = pd.to_datetime(data['Date'])\n",
        "data['Year'] = data['Date'].apply(lambda x : x.year)\n",
        "data['Month'] = data['Date'].apply(lambda x : x.month)\n",
        "data['Day'] = data['Date'].apply(lambda x : x.day)\n",
        "data['Weekday'] = data['Date'].apply(lambda x : x.day_name())\n",
        "data.head(3)"
      ],
      "execution_count": 74,
      "outputs": [
        {
          "output_type": "execute_result",
          "data": {
            "text/html": [
              "<div>\n",
              "<style scoped>\n",
              "    .dataframe tbody tr th:only-of-type {\n",
              "        vertical-align: middle;\n",
              "    }\n",
              "\n",
              "    .dataframe tbody tr th {\n",
              "        vertical-align: top;\n",
              "    }\n",
              "\n",
              "    .dataframe thead th {\n",
              "        text-align: right;\n",
              "    }\n",
              "</style>\n",
              "<table border=\"1\" class=\"dataframe\">\n",
              "  <thead>\n",
              "    <tr style=\"text-align: right;\">\n",
              "      <th></th>\n",
              "      <th>Unnamed: 0</th>\n",
              "      <th>Date</th>\n",
              "      <th>Country</th>\n",
              "      <th>Local</th>\n",
              "      <th>Industry Sector</th>\n",
              "      <th>Accident Level</th>\n",
              "      <th>Potential Accident Level</th>\n",
              "      <th>Gender</th>\n",
              "      <th>Employee type</th>\n",
              "      <th>Critical Risk</th>\n",
              "      <th>Description</th>\n",
              "      <th>Year</th>\n",
              "      <th>Month</th>\n",
              "      <th>Day</th>\n",
              "      <th>Weekday</th>\n",
              "    </tr>\n",
              "  </thead>\n",
              "  <tbody>\n",
              "    <tr>\n",
              "      <th>0</th>\n",
              "      <td>0</td>\n",
              "      <td>2016-01-01</td>\n",
              "      <td>Country_01</td>\n",
              "      <td>Local_01</td>\n",
              "      <td>Mining</td>\n",
              "      <td>I</td>\n",
              "      <td>IV</td>\n",
              "      <td>Male</td>\n",
              "      <td>Third Party</td>\n",
              "      <td>Pressed</td>\n",
              "      <td>While removing the drill rod of the Jumbo 08 f...</td>\n",
              "      <td>2016</td>\n",
              "      <td>1</td>\n",
              "      <td>1</td>\n",
              "      <td>Friday</td>\n",
              "    </tr>\n",
              "    <tr>\n",
              "      <th>1</th>\n",
              "      <td>1</td>\n",
              "      <td>2016-02-01</td>\n",
              "      <td>Country_02</td>\n",
              "      <td>Local_02</td>\n",
              "      <td>Mining</td>\n",
              "      <td>I</td>\n",
              "      <td>IV</td>\n",
              "      <td>Male</td>\n",
              "      <td>Employee</td>\n",
              "      <td>Pressurized Systems</td>\n",
              "      <td>During the activation of a sodium sulphide pum...</td>\n",
              "      <td>2016</td>\n",
              "      <td>2</td>\n",
              "      <td>1</td>\n",
              "      <td>Monday</td>\n",
              "    </tr>\n",
              "    <tr>\n",
              "      <th>2</th>\n",
              "      <td>2</td>\n",
              "      <td>2016-06-01</td>\n",
              "      <td>Country_01</td>\n",
              "      <td>Local_03</td>\n",
              "      <td>Mining</td>\n",
              "      <td>I</td>\n",
              "      <td>III</td>\n",
              "      <td>Male</td>\n",
              "      <td>Third Party (Remote)</td>\n",
              "      <td>Manual Tools</td>\n",
              "      <td>In the sub-station MILPO located at level +170...</td>\n",
              "      <td>2016</td>\n",
              "      <td>6</td>\n",
              "      <td>1</td>\n",
              "      <td>Wednesday</td>\n",
              "    </tr>\n",
              "  </tbody>\n",
              "</table>\n",
              "</div>"
            ],
            "text/plain": [
              "   Unnamed: 0       Date     Country     Local Industry Sector Accident Level  \\\n",
              "0           0 2016-01-01  Country_01  Local_01          Mining              I   \n",
              "1           1 2016-02-01  Country_02  Local_02          Mining              I   \n",
              "2           2 2016-06-01  Country_01  Local_03          Mining              I   \n",
              "\n",
              "  Potential Accident Level Gender         Employee type        Critical Risk  \\\n",
              "0                       IV   Male           Third Party              Pressed   \n",
              "1                       IV   Male              Employee  Pressurized Systems   \n",
              "2                      III   Male  Third Party (Remote)         Manual Tools   \n",
              "\n",
              "                                         Description  Year  Month  Day  \\\n",
              "0  While removing the drill rod of the Jumbo 08 f...  2016      1    1   \n",
              "1  During the activation of a sodium sulphide pum...  2016      2    1   \n",
              "2  In the sub-station MILPO located at level +170...  2016      6    1   \n",
              "\n",
              "     Weekday  \n",
              "0     Friday  \n",
              "1     Monday  \n",
              "2  Wednesday  "
            ]
          },
          "metadata": {
            "tags": []
          },
          "execution_count": 74
        }
      ]
    },
    {
      "cell_type": "code",
      "metadata": {
        "colab": {
          "base_uri": "https://localhost:8080/",
          "height": 296
        },
        "id": "-3sQxQOtCGR3",
        "outputId": "c7af9f2d-4ea4-495c-a635-4eb50ed61359"
      },
      "source": [
        "def month_quarter_Conversion(x):\n",
        "    if x in [10, 11, 12]:\n",
        "        season = 'Fourth'\n",
        "    elif x in [1, 2, 3]:\n",
        "        season = 'First'\n",
        "    elif x in [4, 5, 6]:\n",
        "        season = 'Second'\n",
        "    elif x in [7, 8, 9]:\n",
        "        season = 'Third'\n",
        "    return season\n",
        "data['Quarter'] = data['Month'].apply(month_quarter_Conversion)\n",
        "data.tail()"
      ],
      "execution_count": 75,
      "outputs": [
        {
          "output_type": "execute_result",
          "data": {
            "text/html": [
              "<div>\n",
              "<style scoped>\n",
              "    .dataframe tbody tr th:only-of-type {\n",
              "        vertical-align: middle;\n",
              "    }\n",
              "\n",
              "    .dataframe tbody tr th {\n",
              "        vertical-align: top;\n",
              "    }\n",
              "\n",
              "    .dataframe thead th {\n",
              "        text-align: right;\n",
              "    }\n",
              "</style>\n",
              "<table border=\"1\" class=\"dataframe\">\n",
              "  <thead>\n",
              "    <tr style=\"text-align: right;\">\n",
              "      <th></th>\n",
              "      <th>Unnamed: 0</th>\n",
              "      <th>Date</th>\n",
              "      <th>Country</th>\n",
              "      <th>Local</th>\n",
              "      <th>Industry Sector</th>\n",
              "      <th>Accident Level</th>\n",
              "      <th>Potential Accident Level</th>\n",
              "      <th>Gender</th>\n",
              "      <th>Employee type</th>\n",
              "      <th>Critical Risk</th>\n",
              "      <th>Description</th>\n",
              "      <th>Year</th>\n",
              "      <th>Month</th>\n",
              "      <th>Day</th>\n",
              "      <th>Weekday</th>\n",
              "      <th>Quarter</th>\n",
              "    </tr>\n",
              "  </thead>\n",
              "  <tbody>\n",
              "    <tr>\n",
              "      <th>420</th>\n",
              "      <td>434</td>\n",
              "      <td>2017-04-07</td>\n",
              "      <td>Country_01</td>\n",
              "      <td>Local_04</td>\n",
              "      <td>Mining</td>\n",
              "      <td>I</td>\n",
              "      <td>III</td>\n",
              "      <td>Male</td>\n",
              "      <td>Third Party</td>\n",
              "      <td>Others</td>\n",
              "      <td>Being approximately 5:00 a.m. approximately, w...</td>\n",
              "      <td>2017</td>\n",
              "      <td>4</td>\n",
              "      <td>7</td>\n",
              "      <td>Friday</td>\n",
              "      <td>Second</td>\n",
              "    </tr>\n",
              "    <tr>\n",
              "      <th>421</th>\n",
              "      <td>435</td>\n",
              "      <td>2017-04-07</td>\n",
              "      <td>Country_01</td>\n",
              "      <td>Local_03</td>\n",
              "      <td>Mining</td>\n",
              "      <td>I</td>\n",
              "      <td>II</td>\n",
              "      <td>Female</td>\n",
              "      <td>Employee</td>\n",
              "      <td>Others</td>\n",
              "      <td>The collaborator moved from the infrastructure...</td>\n",
              "      <td>2017</td>\n",
              "      <td>4</td>\n",
              "      <td>7</td>\n",
              "      <td>Friday</td>\n",
              "      <td>Second</td>\n",
              "    </tr>\n",
              "    <tr>\n",
              "      <th>422</th>\n",
              "      <td>436</td>\n",
              "      <td>2017-05-07</td>\n",
              "      <td>Country_02</td>\n",
              "      <td>Local_09</td>\n",
              "      <td>Metals</td>\n",
              "      <td>I</td>\n",
              "      <td>II</td>\n",
              "      <td>Male</td>\n",
              "      <td>Employee</td>\n",
              "      <td>Venomous Animals</td>\n",
              "      <td>During the environmental monitoring activity i...</td>\n",
              "      <td>2017</td>\n",
              "      <td>5</td>\n",
              "      <td>7</td>\n",
              "      <td>Sunday</td>\n",
              "      <td>Second</td>\n",
              "    </tr>\n",
              "    <tr>\n",
              "      <th>423</th>\n",
              "      <td>437</td>\n",
              "      <td>2017-06-07</td>\n",
              "      <td>Country_02</td>\n",
              "      <td>Local_05</td>\n",
              "      <td>Metals</td>\n",
              "      <td>I</td>\n",
              "      <td>II</td>\n",
              "      <td>Male</td>\n",
              "      <td>Employee</td>\n",
              "      <td>Cut</td>\n",
              "      <td>The Employee performed the activity of strippi...</td>\n",
              "      <td>2017</td>\n",
              "      <td>6</td>\n",
              "      <td>7</td>\n",
              "      <td>Wednesday</td>\n",
              "      <td>Second</td>\n",
              "    </tr>\n",
              "    <tr>\n",
              "      <th>424</th>\n",
              "      <td>438</td>\n",
              "      <td>2017-09-07</td>\n",
              "      <td>Country_01</td>\n",
              "      <td>Local_04</td>\n",
              "      <td>Mining</td>\n",
              "      <td>I</td>\n",
              "      <td>II</td>\n",
              "      <td>Female</td>\n",
              "      <td>Third Party</td>\n",
              "      <td>Fall prevention (same level)</td>\n",
              "      <td>At 10:00 a.m., when the assistant cleaned the ...</td>\n",
              "      <td>2017</td>\n",
              "      <td>9</td>\n",
              "      <td>7</td>\n",
              "      <td>Thursday</td>\n",
              "      <td>Third</td>\n",
              "    </tr>\n",
              "  </tbody>\n",
              "</table>\n",
              "</div>"
            ],
            "text/plain": [
              "     Unnamed: 0       Date     Country     Local Industry Sector  \\\n",
              "420         434 2017-04-07  Country_01  Local_04          Mining   \n",
              "421         435 2017-04-07  Country_01  Local_03          Mining   \n",
              "422         436 2017-05-07  Country_02  Local_09          Metals   \n",
              "423         437 2017-06-07  Country_02  Local_05          Metals   \n",
              "424         438 2017-09-07  Country_01  Local_04          Mining   \n",
              "\n",
              "    Accident Level Potential Accident Level  Gender Employee type  \\\n",
              "420              I                      III    Male   Third Party   \n",
              "421              I                       II  Female      Employee   \n",
              "422              I                       II    Male      Employee   \n",
              "423              I                       II    Male      Employee   \n",
              "424              I                       II  Female   Third Party   \n",
              "\n",
              "                    Critical Risk  \\\n",
              "420                        Others   \n",
              "421                        Others   \n",
              "422              Venomous Animals   \n",
              "423                           Cut   \n",
              "424  Fall prevention (same level)   \n",
              "\n",
              "                                           Description  Year  Month  Day  \\\n",
              "420  Being approximately 5:00 a.m. approximately, w...  2017      4    7   \n",
              "421  The collaborator moved from the infrastructure...  2017      4    7   \n",
              "422  During the environmental monitoring activity i...  2017      5    7   \n",
              "423  The Employee performed the activity of strippi...  2017      6    7   \n",
              "424  At 10:00 a.m., when the assistant cleaned the ...  2017      9    7   \n",
              "\n",
              "       Weekday Quarter  \n",
              "420     Friday  Second  \n",
              "421     Friday  Second  \n",
              "422     Sunday  Second  \n",
              "423  Wednesday  Second  \n",
              "424   Thursday   Third  "
            ]
          },
          "metadata": {
            "tags": []
          },
          "execution_count": 75
        }
      ]
    },
    {
      "cell_type": "markdown",
      "metadata": {
        "id": "IxUS6inCCGR4"
      },
      "source": [
        "# Perform Univariate Analysis"
      ]
    },
    {
      "cell_type": "code",
      "metadata": {
        "colab": {
          "base_uri": "https://localhost:8080/",
          "height": 340
        },
        "id": "fQKUaz3gCGR4",
        "outputId": "f7a7153b-c359-45a3-c89e-c04df1391dbf"
      },
      "source": [
        "fig,ax = plt.subplots(nrows=1,ncols=2,figsize=(20,5))\n",
        "acc_level = \"Accident Level\"\n",
        "data[acc_level].reset_index().groupby(acc_level).count().sort_values(by= \n",
        "       \"index\").plot(kind=\"barh\", legend=False, \n",
        "        ax=ax[0]).grid(axis='x')\n",
        "\n",
        "pot_acc_level = \"Potential Accident Level\"\n",
        "data[pot_acc_level].reset_index().groupby(pot_acc_level).count().sort_values(by= \n",
        "       \"index\").plot(kind=\"barh\", legend=False, \n",
        "        ax=ax[1]).grid(axis='x')\n",
        "\n",
        "plt.show()"
      ],
      "execution_count": 76,
      "outputs": [
        {
          "output_type": "display_data",
          "data": {
            "image/png": "[encoded data removed]",
            "text/plain": [
              "<Figure size 1440x360 with 2 Axes>"
            ]
          },
          "metadata": {
            "tags": []
          }
        }
      ]
    },
    {
      "cell_type": "code",
      "metadata": {
        "colab": {
          "base_uri": "https://localhost:8080/",
          "height": 542
        },
        "id": "NeB6Az11CGR4",
        "outputId": "0016fd94-caab-45ff-bc0b-17bbe8f36cd7"
      },
      "source": [
        "# Country-wise Stats\n",
        "fig = px.pie(data, names='Country', template='seaborn')\n",
        "fig.update_traces(rotation=90, pull=[0.2,0.03,0.1,0.03,0.1], textinfo=\"percent+label\", showlegend=False)\n",
        "fig.show()"
      ],
      "execution_count": 77,
      "outputs": [
        {
          "output_type": "display_data",
          "data": {
            "text/html": [
              "<html>\n",
              "<head><meta charset=\"utf-8\" /></head>\n",
              "<body>\n",
              "    <div>\n",
              "            <script src=\"https://cdnjs.cloudflare.com/ajax/libs/mathjax/2.7.5/MathJax.js?config=TeX-AMS-MML_SVG\"></script><script type=\"text/javascript\">if (window.MathJax) {MathJax.Hub.Config({SVG: {font: \"STIX-Web\"}});}</script>\n",
              "                <script type=\"text/javascript\">window.PlotlyConfig = {MathJaxConfig: 'local'};</script>\n",
              "        <script src=\"https://cdn.plot.ly/plotly-latest.min.js\"></script>    \n",
              "            <div id=\"e7549ec1-a9fb-481e-8983-4b33c0809362\" class=\"plotly-graph-div\" style=\"height:525px; width:100%;\"></div>\n",
              "            <script type=\"text/javascript\">\n",
              "                \n",
              "                    window.PLOTLYENV=window.PLOTLYENV || {};\n",
              "                    \n",
              "                if (document.getElementById(\"e7549ec1-a9fb-481e-8983-4b33c0809362\")) {\n",
              "                    Plotly.newPlot(\n",
              "                        'e7549ec1-a9fb-481e-8983-4b33c0809362',\n",
              "                        [{\"domain\": {\"x\": [0.0, 1.0], \"y\": [0.0, 1.0]}, \"hoverlabel\": {\"namelength\": 0}, \"hovertemplate\": \"Country=%{label}\", \"labels\": [\"Country_01\", \"Country_02\", \"Country_01\", \"Country_01\", \"Country_01\", \"Country_02\", \"Country_02\", \"Country_01\", \"Country_02\", \"Country_01\", \"Country_01\", \"Country_01\", \"Country_02\", \"Country_01\", \"Country_02\", \"Country_02\", \"Country_01\", \"Country_01\", \"Country_01\", \"Country_01\", \"Country_01\", \"Country_01\", \"Country_01\", \"Country_02\", \"Country_01\", \"Country_01\", \"Country_01\", \"Country_01\", \"Country_01\", \"Country_02\", \"Country_01\", \"Country_01\", \"Country_01\", \"Country_01\", \"Country_02\", \"Country_02\", \"Country_01\", \"Country_02\", \"Country_02\", \"Country_01\", \"Country_02\", \"Country_01\", \"Country_01\", \"Country_02\", \"Country_01\", \"Country_01\", \"Country_01\", \"Country_01\", \"Country_01\", \"Country_01\", \"Country_01\", \"Country_01\", \"Country_01\", \"Country_01\", \"Country_02\", \"Country_01\", \"Country_01\", \"Country_01\", \"Country_02\", \"Country_01\", \"Country_02\", \"Country_01\", \"Country_01\", \"Country_02\", \"Country_02\", \"Country_02\", \"Country_01\", \"Country_01\", \"Country_01\", \"Country_01\", \"Country_01\", \"Country_01\", \"Country_02\", \"Country_01\", \"Country_01\", \"Country_01\", \"Country_01\", \"Country_01\", \"Country_03\", \"Country_03\", \"Country_03\", \"Country_01\", \"Country_02\", \"Country_01\", \"Country_02\", \"Country_01\", \"Country_01\", \"Country_01\", \"Country_01\", \"Country_02\", \"Country_01\", \"Country_01\", \"Country_01\", \"Country_01\", \"Country_02\", \"Country_01\", \"Country_02\", \"Country_01\", \"Country_01\", \"Country_02\", \"Country_02\", \"Country_02\", \"Country_01\", \"Country_02\", \"Country_01\", \"Country_01\", \"Country_01\", \"Country_02\", \"Country_03\", \"Country_01\", \"Country_01\", \"Country_02\", \"Country_02\", \"Country_02\", \"Country_02\", \"Country_01\", \"Country_01\", \"Country_01\", \"Country_01\", \"Country_01\", \"Country_01\", \"Country_02\", \"Country_02\", \"Country_01\", \"Country_01\", \"Country_03\", \"Country_01\", \"Country_01\", \"Country_02\", \"Country_03\", \"Country_03\", \"Country_03\", \"Country_02\", \"Country_02\", \"Country_01\", \"Country_01\", \"Country_03\", \"Country_01\", \"Country_01\", \"Country_01\", \"Country_01\", \"Country_01\", \"Country_01\", \"Country_03\", \"Country_03\", \"Country_02\", \"Country_01\", \"Country_01\", \"Country_03\", \"Country_03\", \"Country_03\", \"Country_03\", \"Country_03\", \"Country_03\", \"Country_02\", \"Country_01\", \"Country_01\", \"Country_01\", \"Country_02\", \"Country_01\", \"Country_01\", \"Country_01\", \"Country_01\", \"Country_01\", \"Country_01\", \"Country_01\", \"Country_01\", \"Country_01\", \"Country_01\", \"Country_03\", \"Country_01\", \"Country_02\", \"Country_01\", \"Country_02\", \"Country_01\", \"Country_01\", \"Country_02\", \"Country_02\", \"Country_02\", \"Country_01\", \"Country_01\", \"Country_02\", \"Country_02\", \"Country_02\", \"Country_03\", \"Country_01\", \"Country_02\", \"Country_02\", \"Country_02\", \"Country_01\", \"Country_01\", \"Country_02\", \"Country_01\", \"Country_01\", \"Country_01\", \"Country_02\", \"Country_02\", \"Country_01\", \"Country_01\", \"Country_02\", \"Country_01\", \"Country_02\", \"Country_01\", \"Country_02\", \"Country_01\", \"Country_01\", \"Country_01\", \"Country_01\", \"Country_02\", \"Country_02\", \"Country_02\", \"Country_01\", \"Country_01\", \"Country_02\", \"Country_03\", \"Country_01\", \"Country_02\", \"Country_03\", \"Country_02\", \"Country_01\", \"Country_01\", \"Country_02\", \"Country_01\", \"Country_01\", \"Country_01\", \"Country_01\", \"Country_01\", \"Country_01\", \"Country_01\", \"Country_02\", \"Country_02\", \"Country_01\", \"Country_03\", \"Country_01\", \"Country_01\", \"Country_01\", \"Country_02\", \"Country_02\", \"Country_01\", \"Country_01\", \"Country_01\", \"Country_02\", \"Country_02\", \"Country_01\", \"Country_01\", \"Country_01\", \"Country_01\", \"Country_02\", \"Country_01\", \"Country_01\", \"Country_02\", \"Country_01\", \"Country_01\", \"Country_01\", \"Country_03\", \"Country_01\", \"Country_01\", \"Country_02\", \"Country_01\", \"Country_02\", \"Country_01\", \"Country_01\", \"Country_01\", \"Country_01\", \"Country_01\", \"Country_01\", \"Country_02\", \"Country_01\", \"Country_02\", \"Country_02\", \"Country_01\", \"Country_02\", \"Country_01\", \"Country_02\", \"Country_01\", \"Country_02\", \"Country_01\", \"Country_01\", \"Country_02\", \"Country_01\", \"Country_01\", \"Country_01\", \"Country_02\", \"Country_01\", \"Country_01\", \"Country_01\", \"Country_01\", \"Country_01\", \"Country_02\", \"Country_01\", \"Country_01\", \"Country_02\", \"Country_01\", \"Country_01\", \"Country_03\", \"Country_02\", \"Country_01\", \"Country_01\", \"Country_02\", \"Country_02\", \"Country_01\", \"Country_01\", \"Country_02\", \"Country_02\", \"Country_01\", \"Country_02\", \"Country_03\", \"Country_01\", \"Country_01\", \"Country_01\", \"Country_01\", \"Country_02\", \"Country_01\", \"Country_03\", \"Country_02\", \"Country_03\", \"Country_01\", \"Country_01\", \"Country_01\", \"Country_02\", \"Country_02\", \"Country_01\", \"Country_01\", \"Country_01\", \"Country_01\", \"Country_02\", \"Country_02\", \"Country_02\", \"Country_01\", \"Country_03\", \"Country_01\", \"Country_01\", \"Country_01\", \"Country_01\", \"Country_01\", \"Country_02\", \"Country_01\", \"Country_01\", \"Country_03\", \"Country_01\", \"Country_02\", \"Country_01\", \"Country_02\", \"Country_01\", \"Country_03\", \"Country_03\", \"Country_03\", \"Country_02\", \"Country_01\", \"Country_03\", \"Country_01\", \"Country_01\", \"Country_02\", \"Country_01\", \"Country_03\", \"Country_03\", \"Country_02\", \"Country_01\", \"Country_01\", \"Country_01\", \"Country_03\", \"Country_02\", \"Country_02\", \"Country_02\", \"Country_02\", \"Country_03\", \"Country_01\", \"Country_01\", \"Country_02\", \"Country_03\", \"Country_01\", \"Country_01\", \"Country_02\", \"Country_01\", \"Country_03\", \"Country_01\", \"Country_03\", \"Country_01\", \"Country_03\", \"Country_02\", \"Country_01\", \"Country_01\", \"Country_02\", \"Country_02\", \"Country_02\", \"Country_02\", \"Country_01\", \"Country_02\", \"Country_02\", \"Country_01\", \"Country_02\", \"Country_01\", \"Country_02\", \"Country_02\", \"Country_01\", \"Country_01\", \"Country_01\", \"Country_01\", \"Country_01\", \"Country_02\", \"Country_02\", \"Country_01\", \"Country_01\", \"Country_01\", \"Country_01\", \"Country_01\", \"Country_01\", \"Country_02\", \"Country_01\", \"Country_01\", \"Country_01\", \"Country_01\", \"Country_01\", \"Country_01\", \"Country_01\", \"Country_02\", \"Country_03\", \"Country_03\", \"Country_03\", \"Country_02\", \"Country_01\", \"Country_01\", \"Country_02\", \"Country_02\", \"Country_01\"], \"legendgroup\": \"\", \"name\": \"\", \"pull\": [0.2, 0.03, 0.1, 0.03, 0.1], \"rotation\": 90, \"showlegend\": false, \"textinfo\": \"percent+label\", \"type\": \"pie\"}],\n",
              "                        {\"legend\": {\"tracegroupgap\": 0}, \"margin\": {\"t\": 60}, \"template\": {\"data\": {\"bar\": [{\"error_x\": {\"color\": \"rgb(36,36,36)\"}, \"error_y\": {\"color\": \"rgb(36,36,36)\"}, \"marker\": {\"line\": {\"color\": \"rgb(234,234,242)\", \"width\": 0.5}}, \"type\": \"bar\"}], \"barpolar\": [{\"marker\": {\"line\": {\"color\": \"rgb(234,234,242)\", \"width\": 0.5}}, \"type\": \"barpolar\"}], \"carpet\": [{\"aaxis\": {\"endlinecolor\": \"rgb(36,36,36)\", \"gridcolor\": \"white\", \"linecolor\": \"white\", \"minorgridcolor\": \"white\", \"startlinecolor\": \"rgb(36,36,36)\"}, \"baxis\": {\"endlinecolor\": \"rgb(36,36,36)\", \"gridcolor\": \"white\", \"linecolor\": \"white\", \"minorgridcolor\": \"white\", \"startlinecolor\": \"rgb(36,36,36)\"}, \"type\": \"carpet\"}], \"choropleth\": [{\"colorbar\": {\"outlinewidth\": 0, \"tickcolor\": \"rgb(36,36,36)\", \"ticklen\": 8, \"ticks\": \"outside\", \"tickwidth\": 2}, \"type\": \"choropleth\"}], \"contour\": [{\"colorbar\": {\"outlinewidth\": 0, \"tickcolor\": \"rgb(36,36,36)\", \"ticklen\": 8, \"ticks\": \"outside\", \"tickwidth\": 2}, \"colorscale\": [[0.0, \"rgb(2,4,25)\"], [0.06274509803921569, \"rgb(24,15,41)\"], [0.12549019607843137, \"rgb(47,23,57)\"], [0.18823529411764706, \"rgb(71,28,72)\"], [0.25098039215686274, \"rgb(97,30,82)\"], [0.3137254901960784, \"rgb(123,30,89)\"], [0.3764705882352941, \"rgb(150,27,91)\"], [0.4392156862745098, \"rgb(177,22,88)\"], [0.5019607843137255, \"rgb(203,26,79)\"], [0.5647058823529412, \"rgb(223,47,67)\"], [0.6274509803921569, \"rgb(236,76,61)\"], [0.6901960784313725, \"rgb(242,107,73)\"], [0.7529411764705882, \"rgb(244,135,95)\"], [0.8156862745098039, \"rgb(245,162,122)\"], [0.8784313725490196, \"rgb(246,188,153)\"], [0.9411764705882353, \"rgb(247,212,187)\"], [1.0, \"rgb(250,234,220)\"]], \"type\": \"contour\"}], \"contourcarpet\": [{\"colorbar\": {\"outlinewidth\": 0, \"tickcolor\": \"rgb(36,36,36)\", \"ticklen\": 8, \"ticks\": \"outside\", \"tickwidth\": 2}, \"type\": \"contourcarpet\"}], \"heatmap\": [{\"colorbar\": {\"outlinewidth\": 0, \"tickcolor\": \"rgb(36,36,36)\", \"ticklen\": 8, \"ticks\": \"outside\", \"tickwidth\": 2}, \"colorscale\": [[0.0, \"rgb(2,4,25)\"], [0.06274509803921569, \"rgb(24,15,41)\"], [0.12549019607843137, \"rgb(47,23,57)\"], [0.18823529411764706, \"rgb(71,28,72)\"], [0.25098039215686274, \"rgb(97,30,82)\"], [0.3137254901960784, \"rgb(123,30,89)\"], [0.3764705882352941, \"rgb(150,27,91)\"], [0.4392156862745098, \"rgb(177,22,88)\"], [0.5019607843137255, \"rgb(203,26,79)\"], [0.5647058823529412, \"rgb(223,47,67)\"], [0.6274509803921569, \"rgb(236,76,61)\"], [0.6901960784313725, \"rgb(242,107,73)\"], [0.7529411764705882, \"rgb(244,135,95)\"], [0.8156862745098039, \"rgb(245,162,122)\"], [0.8784313725490196, \"rgb(246,188,153)\"], [0.9411764705882353, \"rgb(247,212,187)\"], [1.0, \"rgb(250,234,220)\"]], \"type\": \"heatmap\"}], \"heatmapgl\": [{\"colorbar\": {\"outlinewidth\": 0, \"tickcolor\": \"rgb(36,36,36)\", \"ticklen\": 8, \"ticks\": \"outside\", \"tickwidth\": 2}, \"colorscale\": [[0.0, \"rgb(2,4,25)\"], [0.06274509803921569, \"rgb(24,15,41)\"], [0.12549019607843137, \"rgb(47,23,57)\"], [0.18823529411764706, \"rgb(71,28,72)\"], [0.25098039215686274, \"rgb(97,30,82)\"], [0.3137254901960784, \"rgb(123,30,89)\"], [0.3764705882352941, \"rgb(150,27,91)\"], [0.4392156862745098, \"rgb(177,22,88)\"], [0.5019607843137255, \"rgb(203,26,79)\"], [0.5647058823529412, \"rgb(223,47,67)\"], [0.6274509803921569, \"rgb(236,76,61)\"], [0.6901960784313725, \"rgb(242,107,73)\"], [0.7529411764705882, \"rgb(244,135,95)\"], [0.8156862745098039, \"rgb(245,162,122)\"], [0.8784313725490196, \"rgb(246,188,153)\"], [0.9411764705882353, \"rgb(247,212,187)\"], [1.0, \"rgb(250,234,220)\"]], \"type\": \"heatmapgl\"}], \"histogram\": [{\"marker\": {\"colorbar\": {\"outlinewidth\": 0, \"tickcolor\": \"rgb(36,36,36)\", \"ticklen\": 8, \"ticks\": \"outside\", \"tickwidth\": 2}}, \"type\": \"histogram\"}], \"histogram2d\": [{\"colorbar\": {\"outlinewidth\": 0, \"tickcolor\": \"rgb(36,36,36)\", \"ticklen\": 8, \"ticks\": \"outside\", \"tickwidth\": 2}, \"colorscale\": [[0.0, \"rgb(2,4,25)\"], [0.06274509803921569, \"rgb(24,15,41)\"], [0.12549019607843137, \"rgb(47,23,57)\"], [0.18823529411764706, \"rgb(71,28,72)\"], [0.25098039215686274, \"rgb(97,30,82)\"], [0.3137254901960784, \"rgb(123,30,89)\"], [0.3764705882352941, \"rgb(150,27,91)\"], [0.4392156862745098, \"rgb(177,22,88)\"], [0.5019607843137255, \"rgb(203,26,79)\"], [0.5647058823529412, \"rgb(223,47,67)\"], [0.6274509803921569, \"rgb(236,76,61)\"], [0.6901960784313725, \"rgb(242,107,73)\"], [0.7529411764705882, \"rgb(244,135,95)\"], [0.8156862745098039, \"rgb(245,162,122)\"], [0.8784313725490196, \"rgb(246,188,153)\"], [0.9411764705882353, \"rgb(247,212,187)\"], [1.0, \"rgb(250,234,220)\"]], \"type\": \"histogram2d\"}], \"histogram2dcontour\": [{\"colorbar\": {\"outlinewidth\": 0, \"tickcolor\": \"rgb(36,36,36)\", \"ticklen\": 8, \"ticks\": \"outside\", \"tickwidth\": 2}, \"colorscale\": [[0.0, \"rgb(2,4,25)\"], [0.06274509803921569, \"rgb(24,15,41)\"], [0.12549019607843137, \"rgb(47,23,57)\"], [0.18823529411764706, \"rgb(71,28,72)\"], [0.25098039215686274, \"rgb(97,30,82)\"], [0.3137254901960784, \"rgb(123,30,89)\"], [0.3764705882352941, \"rgb(150,27,91)\"], [0.4392156862745098, \"rgb(177,22,88)\"], [0.5019607843137255, \"rgb(203,26,79)\"], [0.5647058823529412, \"rgb(223,47,67)\"], [0.6274509803921569, \"rgb(236,76,61)\"], [0.6901960784313725, \"rgb(242,107,73)\"], [0.7529411764705882, \"rgb(244,135,95)\"], [0.8156862745098039, \"rgb(245,162,122)\"], [0.8784313725490196, \"rgb(246,188,153)\"], [0.9411764705882353, \"rgb(247,212,187)\"], [1.0, \"rgb(250,234,220)\"]], \"type\": \"histogram2dcontour\"}], \"mesh3d\": [{\"colorbar\": {\"outlinewidth\": 0, \"tickcolor\": \"rgb(36,36,36)\", \"ticklen\": 8, \"ticks\": \"outside\", \"tickwidth\": 2}, \"type\": \"mesh3d\"}], \"parcoords\": [{\"line\": {\"colorbar\": {\"outlinewidth\": 0, \"tickcolor\": \"rgb(36,36,36)\", \"ticklen\": 8, \"ticks\": \"outside\", \"tickwidth\": 2}}, \"type\": \"parcoords\"}], \"pie\": [{\"automargin\": true, \"type\": \"pie\"}], \"scatter\": [{\"marker\": {\"colorbar\": {\"outlinewidth\": 0, \"tickcolor\": \"rgb(36,36,36)\", \"ticklen\": 8, \"ticks\": \"outside\", \"tickwidth\": 2}}, \"type\": \"scatter\"}], \"scatter3d\": [{\"line\": {\"colorbar\": {\"outlinewidth\": 0, \"tickcolor\": \"rgb(36,36,36)\", \"ticklen\": 8, \"ticks\": \"outside\", \"tickwidth\": 2}}, \"marker\": {\"colorbar\": {\"outlinewidth\": 0, \"tickcolor\": \"rgb(36,36,36)\", \"ticklen\": 8, \"ticks\": \"outside\", \"tickwidth\": 2}}, \"type\": \"scatter3d\"}], \"scattercarpet\": [{\"marker\": {\"colorbar\": {\"outlinewidth\": 0, \"tickcolor\": \"rgb(36,36,36)\", \"ticklen\": 8, \"ticks\": \"outside\", \"tickwidth\": 2}}, \"type\": \"scattercarpet\"}], \"scattergeo\": [{\"marker\": {\"colorbar\": {\"outlinewidth\": 0, \"tickcolor\": \"rgb(36,36,36)\", \"ticklen\": 8, \"ticks\": \"outside\", \"tickwidth\": 2}}, \"type\": \"scattergeo\"}], \"scattergl\": [{\"marker\": {\"colorbar\": {\"outlinewidth\": 0, \"tickcolor\": \"rgb(36,36,36)\", \"ticklen\": 8, \"ticks\": \"outside\", \"tickwidth\": 2}}, \"type\": \"scattergl\"}], \"scattermapbox\": [{\"marker\": {\"colorbar\": {\"outlinewidth\": 0, \"tickcolor\": \"rgb(36,36,36)\", \"ticklen\": 8, \"ticks\": \"outside\", \"tickwidth\": 2}}, \"type\": \"scattermapbox\"}], \"scatterpolar\": [{\"marker\": {\"colorbar\": {\"outlinewidth\": 0, \"tickcolor\": \"rgb(36,36,36)\", \"ticklen\": 8, \"ticks\": \"outside\", \"tickwidth\": 2}}, \"type\": \"scatterpolar\"}], \"scatterpolargl\": [{\"marker\": {\"colorbar\": {\"outlinewidth\": 0, \"tickcolor\": \"rgb(36,36,36)\", \"ticklen\": 8, \"ticks\": \"outside\", \"tickwidth\": 2}}, \"type\": \"scatterpolargl\"}], \"scatterternary\": [{\"marker\": {\"colorbar\": {\"outlinewidth\": 0, \"tickcolor\": \"rgb(36,36,36)\", \"ticklen\": 8, \"ticks\": \"outside\", \"tickwidth\": 2}}, \"type\": \"scatterternary\"}], \"surface\": [{\"colorbar\": {\"outlinewidth\": 0, \"tickcolor\": \"rgb(36,36,36)\", \"ticklen\": 8, \"ticks\": \"outside\", \"tickwidth\": 2}, \"colorscale\": [[0.0, \"rgb(2,4,25)\"], [0.06274509803921569, \"rgb(24,15,41)\"], [0.12549019607843137, \"rgb(47,23,57)\"], [0.18823529411764706, \"rgb(71,28,72)\"], [0.25098039215686274, \"rgb(97,30,82)\"], [0.3137254901960784, \"rgb(123,30,89)\"], [0.3764705882352941, \"rgb(150,27,91)\"], [0.4392156862745098, \"rgb(177,22,88)\"], [0.5019607843137255, \"rgb(203,26,79)\"], [0.5647058823529412, \"rgb(223,47,67)\"], [0.6274509803921569, \"rgb(236,76,61)\"], [0.6901960784313725, \"rgb(242,107,73)\"], [0.7529411764705882, \"rgb(244,135,95)\"], [0.8156862745098039, \"rgb(245,162,122)\"], [0.8784313725490196, \"rgb(246,188,153)\"], [0.9411764705882353, \"rgb(247,212,187)\"], [1.0, \"rgb(250,234,220)\"]], \"type\": \"surface\"}], \"table\": [{\"cells\": {\"fill\": {\"color\": \"rgb(231,231,240)\"}, \"line\": {\"color\": \"white\"}}, \"header\": {\"fill\": {\"color\": \"rgb(183,183,191)\"}, \"line\": {\"color\": \"white\"}}, \"type\": \"table\"}]}, \"layout\": {\"annotationdefaults\": {\"arrowcolor\": \"rgb(67,103,167)\"}, \"coloraxis\": {\"colorbar\": {\"outlinewidth\": 0, \"tickcolor\": \"rgb(36,36,36)\", \"ticklen\": 8, \"ticks\": \"outside\", \"tickwidth\": 2}}, \"colorscale\": {\"sequential\": [[0.0, \"rgb(2,4,25)\"], [0.06274509803921569, \"rgb(24,15,41)\"], [0.12549019607843137, \"rgb(47,23,57)\"], [0.18823529411764706, \"rgb(71,28,72)\"], [0.25098039215686274, \"rgb(97,30,82)\"], [0.3137254901960784, \"rgb(123,30,89)\"], [0.3764705882352941, \"rgb(150,27,91)\"], [0.4392156862745098, \"rgb(177,22,88)\"], [0.5019607843137255, \"rgb(203,26,79)\"], [0.5647058823529412, \"rgb(223,47,67)\"], [0.6274509803921569, \"rgb(236,76,61)\"], [0.6901960784313725, \"rgb(242,107,73)\"], [0.7529411764705882, \"rgb(244,135,95)\"], [0.8156862745098039, \"rgb(245,162,122)\"], [0.8784313725490196, \"rgb(246,188,153)\"], [0.9411764705882353, \"rgb(247,212,187)\"], [1.0, \"rgb(250,234,220)\"]], \"sequentialminus\": [[0.0, \"rgb(2,4,25)\"], [0.06274509803921569, \"rgb(24,15,41)\"], [0.12549019607843137, \"rgb(47,23,57)\"], [0.18823529411764706, \"rgb(71,28,72)\"], [0.25098039215686274, \"rgb(97,30,82)\"], [0.3137254901960784, \"rgb(123,30,89)\"], [0.3764705882352941, \"rgb(150,27,91)\"], [0.4392156862745098, \"rgb(177,22,88)\"], [0.5019607843137255, \"rgb(203,26,79)\"], [0.5647058823529412, \"rgb(223,47,67)\"], [0.6274509803921569, \"rgb(236,76,61)\"], [0.6901960784313725, \"rgb(242,107,73)\"], [0.7529411764705882, \"rgb(244,135,95)\"], [0.8156862745098039, \"rgb(245,162,122)\"], [0.8784313725490196, \"rgb(246,188,153)\"], [0.9411764705882353, \"rgb(247,212,187)\"], [1.0, \"rgb(250,234,220)\"]]}, \"colorway\": [\"rgb(76,114,176)\", \"rgb(221,132,82)\", \"rgb(85,168,104)\", \"rgb(196,78,82)\", \"rgb(129,114,179)\", \"rgb(147,120,96)\", \"rgb(218,139,195)\", \"rgb(140,140,140)\", \"rgb(204,185,116)\", \"rgb(100,181,205)\"], \"font\": {\"color\": \"rgb(36,36,36)\"}, \"geo\": {\"bgcolor\": \"white\", \"lakecolor\": \"white\", \"landcolor\": \"rgb(234,234,242)\", \"showlakes\": true, \"showland\": true, \"subunitcolor\": \"white\"}, \"hoverlabel\": {\"align\": \"left\"}, \"hovermode\": \"closest\", \"paper_bgcolor\": \"white\", \"plot_bgcolor\": \"rgb(234,234,242)\", \"polar\": {\"angularaxis\": {\"gridcolor\": \"white\", \"linecolor\": \"white\", \"showgrid\": true, \"ticks\": \"\"}, \"bgcolor\": \"rgb(234,234,242)\", \"radialaxis\": {\"gridcolor\": \"white\", \"linecolor\": \"white\", \"showgrid\": true, \"ticks\": \"\"}}, \"scene\": {\"xaxis\": {\"backgroundcolor\": \"rgb(234,234,242)\", \"gridcolor\": \"white\", \"gridwidth\": 2, \"linecolor\": \"white\", \"showbackground\": true, \"showgrid\": true, \"ticks\": \"\", \"zerolinecolor\": \"white\"}, \"yaxis\": {\"backgroundcolor\": \"rgb(234,234,242)\", \"gridcolor\": \"white\", \"gridwidth\": 2, \"linecolor\": \"white\", \"showbackground\": true, \"showgrid\": true, \"ticks\": \"\", \"zerolinecolor\": \"white\"}, \"zaxis\": {\"backgroundcolor\": \"rgb(234,234,242)\", \"gridcolor\": \"white\", \"gridwidth\": 2, \"linecolor\": \"white\", \"showbackground\": true, \"showgrid\": true, \"ticks\": \"\", \"zerolinecolor\": \"white\"}}, \"shapedefaults\": {\"fillcolor\": \"rgb(67,103,167)\", \"line\": {\"width\": 0}, \"opacity\": 0.5}, \"ternary\": {\"aaxis\": {\"gridcolor\": \"white\", \"linecolor\": \"white\", \"showgrid\": true, \"ticks\": \"\"}, \"baxis\": {\"gridcolor\": \"white\", \"linecolor\": \"white\", \"showgrid\": true, \"ticks\": \"\"}, \"bgcolor\": \"rgb(234,234,242)\", \"caxis\": {\"gridcolor\": \"white\", \"linecolor\": \"white\", \"showgrid\": true, \"ticks\": \"\"}}, \"xaxis\": {\"automargin\": true, \"gridcolor\": \"white\", \"linecolor\": \"white\", \"showgrid\": true, \"ticks\": \"\", \"title\": {\"standoff\": 15}, \"zerolinecolor\": \"white\"}, \"yaxis\": {\"automargin\": true, \"gridcolor\": \"white\", \"linecolor\": \"white\", \"showgrid\": true, \"ticks\": \"\", \"title\": {\"standoff\": 15}, \"zerolinecolor\": \"white\"}}}},\n",
              "                        {\"responsive\": true}\n",
              "                    ).then(function(){\n",
              "                            \n",
              "var gd = document.getElementById('e7549ec1-a9fb-481e-8983-4b33c0809362');\n",
              "var x = new MutationObserver(function (mutations, observer) {{\n",
              "        var display = window.getComputedStyle(gd).display;\n",
              "        if (!display || display === 'none') {{\n",
              "            console.log([gd, 'removed!']);\n",
              "            Plotly.purge(gd);\n",
              "            observer.disconnect();\n",
              "        }}\n",
              "}});\n",
              "\n",
              "// Listen for the removal of the full notebook cells\n",
              "var notebookContainer = gd.closest('#notebook-container');\n",
              "if (notebookContainer) {{\n",
              "    x.observe(notebookContainer, {childList: true});\n",
              "}}\n",
              "\n",
              "// Listen for the clearing of the current output cell\n",
              "var outputEl = gd.closest('.output');\n",
              "if (outputEl) {{\n",
              "    x.observe(outputEl, {childList: true});\n",
              "}}\n",
              "\n",
              "                        })\n",
              "                };\n",
              "                \n",
              "            </script>\n",
              "        </div>\n",
              "</body>\n",
              "</html>"
            ]
          },
          "metadata": {
            "tags": []
          }
        }
      ]
    },
    {
      "cell_type": "markdown",
      "metadata": {
        "id": "tHlhJpw6W44b"
      },
      "source": [
        "### There are 59% record samples from Country_01  whereas  from country_02 and Country_03  30% and 10% sample has been taken"
      ]
    },
    {
      "cell_type": "code",
      "metadata": {
        "colab": {
          "base_uri": "https://localhost:8080/",
          "height": 542
        },
        "id": "ben7VjqgCGR5",
        "outputId": "9e0dab53-7d16-4ba0-a771-83a2c60296e4"
      },
      "source": [
        "# Sector-wise Stats\n",
        "fig = px.pie(data, names='Industry Sector', template='seaborn')\n",
        "fig.update_traces(rotation=90, pull=[0.2,0.03,0.1,0.03,0.1], textinfo=\"percent+label\", showlegend=False)\n",
        "fig.show()"
      ],
      "execution_count": 78,
      "outputs": [
        {
          "output_type": "display_data",
          "data": {
            "text/html": [
              "<html>\n",
              "<head><meta charset=\"utf-8\" /></head>\n",
              "<body>\n",
              "    <div>\n",
              "            <script src=\"https://cdnjs.cloudflare.com/ajax/libs/mathjax/2.7.5/MathJax.js?config=TeX-AMS-MML_SVG\"></script><script type=\"text/javascript\">if (window.MathJax) {MathJax.Hub.Config({SVG: {font: \"STIX-Web\"}});}</script>\n",
              "                <script type=\"text/javascript\">window.PlotlyConfig = {MathJaxConfig: 'local'};</script>\n",
              "        <script src=\"https://cdn.plot.ly/plotly-latest.min.js\"></script>    \n",
              "            <div id=\"3ddced2e-6e2b-48ee-b2d9-419af0411492\" class=\"plotly-graph-div\" style=\"height:525px; width:100%;\"></div>\n",
              "            <script type=\"text/javascript\">\n",
              "                \n",
              "                    window.PLOTLYENV=window.PLOTLYENV || {};\n",
              "                    \n",
              "                if (document.getElementById(\"3ddced2e-6e2b-48ee-b2d9-419af0411492\")) {\n",
              "                    Plotly.newPlot(\n",
              "                        '3ddced2e-6e2b-48ee-b2d9-419af0411492',\n",
              "                        [{\"domain\": {\"x\": [0.0, 1.0], \"y\": [0.0, 1.0]}, \"hoverlabel\": {\"namelength\": 0}, \"hovertemplate\": \"Industry Sector=%{label}\", \"labels\": [\"Mining\", \"Mining\", \"Mining\", \"Mining\", \"Mining\", \"Metals\", \"Metals\", \"Mining\", \"Mining\", \"Metals\", \"Mining\", \"Mining\", \"Metals\", \"Mining\", \"Metals\", \"Metals\", \"Mining\", \"Metals\", \"Metals\", \"Metals\", \"Metals\", \"Mining\", \"Mining\", \"Mining\", \"Metals\", \"Metals\", \"Mining\", \"Mining\", \"Mining\", \"Mining\", \"Mining\", \"Mining\", \"Mining\", \"Mining\", \"Metals\", \"Metals\", \"Mining\", \"Mining\", \"Mining\", \"Mining\", \"Mining\", \"Metals\", \"Mining\", \"Metals\", \"Metals\", \"Mining\", \"Metals\", \"Mining\", \"Mining\", \"Mining\", \"Metals\", \"Mining\", \"Mining\", \"Mining\", \"Mining\", \"Metals\", \"Mining\", \"Mining\", \"Metals\", \"Mining\", \"Metals\", \"Mining\", \"Mining\", \"Metals\", \"Metals\", \"Metals\", \"Mining\", \"Mining\", \"Mining\", \"Mining\", \"Mining\", \"Metals\", \"Metals\", \"Mining\", \"Mining\", \"Mining\", \"Mining\", \"Mining\", \"Others\", \"Others\", \"Others\", \"Mining\", \"Metals\", \"Metals\", \"Metals\", \"Mining\", \"Mining\", \"Mining\", \"Mining\", \"Metals\", \"Mining\", \"Mining\", \"Mining\", \"Mining\", \"Metals\", \"Mining\", \"Mining\", \"Mining\", \"Mining\", \"Metals\", \"Metals\", \"Metals\", \"Mining\", \"Metals\", \"Mining\", \"Mining\", \"Mining\", \"Metals\", \"Others\", \"Mining\", \"Mining\", \"Metals\", \"Metals\", \"Metals\", \"Metals\", \"Mining\", \"Metals\", \"Mining\", \"Mining\", \"Others\", \"Mining\", \"Metals\", \"Metals\", \"Metals\", \"Mining\", \"Others\", \"Mining\", \"Mining\", \"Mining\", \"Others\", \"Others\", \"Others\", \"Metals\", \"Metals\", \"Mining\", \"Mining\", \"Others\", \"Mining\", \"Metals\", \"Mining\", \"Mining\", \"Mining\", \"Metals\", \"Others\", \"Others\", \"Metals\", \"Mining\", \"Mining\", \"Others\", \"Others\", \"Others\", \"Others\", \"Others\", \"Others\", \"Metals\", \"Mining\", \"Mining\", \"Mining\", \"Metals\", \"Mining\", \"Mining\", \"Mining\", \"Mining\", \"Metals\", \"Mining\", \"Mining\", \"Mining\", \"Mining\", \"Metals\", \"Others\", \"Mining\", \"Metals\", \"Mining\", \"Metals\", \"Mining\", \"Metals\", \"Metals\", \"Others\", \"Metals\", \"Mining\", \"Mining\", \"Mining\", \"Mining\", \"Metals\", \"Others\", \"Mining\", \"Metals\", \"Mining\", \"Others\", \"Mining\", \"Mining\", \"Metals\", \"Mining\", \"Mining\", \"Mining\", \"Metals\", \"Metals\", \"Mining\", \"Mining\", \"Metals\", \"Metals\", \"Metals\", \"Metals\", \"Metals\", \"Mining\", \"Mining\", \"Mining\", \"Metals\", \"Mining\", \"Metals\", \"Mining\", \"Mining\", \"Others\", \"Metals\", \"Others\", \"Metals\", \"Metals\", \"Others\", \"Metals\", \"Metals\", \"Mining\", \"Metals\", \"Mining\", \"Metals\", \"Metals\", \"Mining\", \"Mining\", \"Mining\", \"Mining\", \"Metals\", \"Metals\", \"Mining\", \"Others\", \"Mining\", \"Mining\", \"Mining\", \"Metals\", \"Mining\", \"Mining\", \"Mining\", \"Mining\", \"Metals\", \"Mining\", \"Mining\", \"Mining\", \"Mining\", \"Mining\", \"Metals\", \"Mining\", \"Mining\", \"Metals\", \"Metals\", \"Metals\", \"Mining\", \"Others\", \"Metals\", \"Mining\", \"Mining\", \"Mining\", \"Metals\", \"Mining\", \"Mining\", \"Mining\", \"Mining\", \"Mining\", \"Mining\", \"Mining\", \"Mining\", \"Metals\", \"Mining\", \"Mining\", \"Metals\", \"Metals\", \"Metals\", \"Mining\", \"Metals\", \"Mining\", \"Mining\", \"Metals\", \"Mining\", \"Mining\", \"Metals\", \"Metals\", \"Mining\", \"Mining\", \"Metals\", \"Mining\", \"Mining\", \"Metals\", \"Mining\", \"Metals\", \"Metals\", \"Mining\", \"Mining\", \"Others\", \"Metals\", \"Mining\", \"Mining\", \"Metals\", \"Metals\", \"Metals\", \"Mining\", \"Mining\", \"Mining\", \"Mining\", \"Metals\", \"Others\", \"Mining\", \"Mining\", \"Mining\", \"Mining\", \"Metals\", \"Mining\", \"Others\", \"Mining\", \"Others\", \"Mining\", \"Mining\", \"Mining\", \"Metals\", \"Metals\", \"Mining\", \"Metals\", \"Mining\", \"Metals\", \"Metals\", \"Metals\", \"Metals\", \"Mining\", \"Others\", \"Mining\", \"Mining\", \"Mining\", \"Mining\", \"Mining\", \"Mining\", \"Mining\", \"Mining\", \"Others\", \"Mining\", \"Mining\", \"Mining\", \"Mining\", \"Metals\", \"Others\", \"Others\", \"Others\", \"Mining\", \"Mining\", \"Others\", \"Mining\", \"Mining\", \"Metals\", \"Mining\", \"Others\", \"Others\", \"Metals\", \"Mining\", \"Metals\", \"Mining\", \"Others\", \"Metals\", \"Metals\", \"Metals\", \"Mining\", \"Others\", \"Metals\", \"Mining\", \"Mining\", \"Others\", \"Mining\", \"Mining\", \"Mining\", \"Mining\", \"Others\", \"Mining\", \"Others\", \"Metals\", \"Others\", \"Mining\", \"Mining\", \"Mining\", \"Metals\", \"Mining\", \"Metals\", \"Mining\", \"Mining\", \"Mining\", \"Mining\", \"Mining\", \"Metals\", \"Mining\", \"Others\", \"Mining\", \"Metals\", \"Metals\", \"Mining\", \"Mining\", \"Mining\", \"Others\", \"Metals\", \"Mining\", \"Metals\", \"Mining\", \"Mining\", \"Metals\", \"Mining\", \"Mining\", \"Mining\", \"Mining\", \"Mining\", \"Mining\", \"Mining\", \"Mining\", \"Mining\", \"Metals\", \"Others\", \"Others\", \"Others\", \"Mining\", \"Mining\", \"Mining\", \"Metals\", \"Metals\", \"Mining\"], \"legendgroup\": \"\", \"name\": \"\", \"pull\": [0.2, 0.03, 0.1, 0.03, 0.1], \"rotation\": 90, \"showlegend\": false, \"textinfo\": \"percent+label\", \"type\": \"pie\"}],\n",
              "                        {\"legend\": {\"tracegroupgap\": 0}, \"margin\": {\"t\": 60}, \"template\": {\"data\": {\"bar\": [{\"error_x\": {\"color\": \"rgb(36,36,36)\"}, \"error_y\": {\"color\": \"rgb(36,36,36)\"}, \"marker\": {\"line\": {\"color\": \"rgb(234,234,242)\", \"width\": 0.5}}, \"type\": \"bar\"}], \"barpolar\": [{\"marker\": {\"line\": {\"color\": \"rgb(234,234,242)\", \"width\": 0.5}}, \"type\": \"barpolar\"}], \"carpet\": [{\"aaxis\": {\"endlinecolor\": \"rgb(36,36,36)\", \"gridcolor\": \"white\", \"linecolor\": \"white\", \"minorgridcolor\": \"white\", \"startlinecolor\": \"rgb(36,36,36)\"}, \"baxis\": {\"endlinecolor\": \"rgb(36,36,36)\", \"gridcolor\": \"white\", \"linecolor\": \"white\", \"minorgridcolor\": \"white\", \"startlinecolor\": \"rgb(36,36,36)\"}, \"type\": \"carpet\"}], \"choropleth\": [{\"colorbar\": {\"outlinewidth\": 0, \"tickcolor\": \"rgb(36,36,36)\", \"ticklen\": 8, \"ticks\": \"outside\", \"tickwidth\": 2}, \"type\": \"choropleth\"}], \"contour\": [{\"colorbar\": {\"outlinewidth\": 0, \"tickcolor\": \"rgb(36,36,36)\", \"ticklen\": 8, \"ticks\": \"outside\", \"tickwidth\": 2}, \"colorscale\": [[0.0, \"rgb(2,4,25)\"], [0.06274509803921569, \"rgb(24,15,41)\"], [0.12549019607843137, \"rgb(47,23,57)\"], [0.18823529411764706, \"rgb(71,28,72)\"], [0.25098039215686274, \"rgb(97,30,82)\"], [0.3137254901960784, \"rgb(123,30,89)\"], [0.3764705882352941, \"rgb(150,27,91)\"], [0.4392156862745098, \"rgb(177,22,88)\"], [0.5019607843137255, \"rgb(203,26,79)\"], [0.5647058823529412, \"rgb(223,47,67)\"], [0.6274509803921569, \"rgb(236,76,61)\"], [0.6901960784313725, \"rgb(242,107,73)\"], [0.7529411764705882, \"rgb(244,135,95)\"], [0.8156862745098039, \"rgb(245,162,122)\"], [0.8784313725490196, \"rgb(246,188,153)\"], [0.9411764705882353, \"rgb(247,212,187)\"], [1.0, \"rgb(250,234,220)\"]], \"type\": \"contour\"}], \"contourcarpet\": [{\"colorbar\": {\"outlinewidth\": 0, \"tickcolor\": \"rgb(36,36,36)\", \"ticklen\": 8, \"ticks\": \"outside\", \"tickwidth\": 2}, \"type\": \"contourcarpet\"}], \"heatmap\": [{\"colorbar\": {\"outlinewidth\": 0, \"tickcolor\": \"rgb(36,36,36)\", \"ticklen\": 8, \"ticks\": \"outside\", \"tickwidth\": 2}, \"colorscale\": [[0.0, \"rgb(2,4,25)\"], [0.06274509803921569, \"rgb(24,15,41)\"], [0.12549019607843137, \"rgb(47,23,57)\"], [0.18823529411764706, \"rgb(71,28,72)\"], [0.25098039215686274, \"rgb(97,30,82)\"], [0.3137254901960784, \"rgb(123,30,89)\"], [0.3764705882352941, \"rgb(150,27,91)\"], [0.4392156862745098, \"rgb(177,22,88)\"], [0.5019607843137255, \"rgb(203,26,79)\"], [0.5647058823529412, \"rgb(223,47,67)\"], [0.6274509803921569, \"rgb(236,76,61)\"], [0.6901960784313725, \"rgb(242,107,73)\"], [0.7529411764705882, \"rgb(244,135,95)\"], [0.8156862745098039, \"rgb(245,162,122)\"], [0.8784313725490196, \"rgb(246,188,153)\"], [0.9411764705882353, \"rgb(247,212,187)\"], [1.0, \"rgb(250,234,220)\"]], \"type\": \"heatmap\"}], \"heatmapgl\": [{\"colorbar\": {\"outlinewidth\": 0, \"tickcolor\": \"rgb(36,36,36)\", \"ticklen\": 8, \"ticks\": \"outside\", \"tickwidth\": 2}, \"colorscale\": [[0.0, \"rgb(2,4,25)\"], [0.06274509803921569, \"rgb(24,15,41)\"], [0.12549019607843137, \"rgb(47,23,57)\"], [0.18823529411764706, \"rgb(71,28,72)\"], [0.25098039215686274, \"rgb(97,30,82)\"], [0.3137254901960784, \"rgb(123,30,89)\"], [0.3764705882352941, \"rgb(150,27,91)\"], [0.4392156862745098, \"rgb(177,22,88)\"], [0.5019607843137255, \"rgb(203,26,79)\"], [0.5647058823529412, \"rgb(223,47,67)\"], [0.6274509803921569, \"rgb(236,76,61)\"], [0.6901960784313725, \"rgb(242,107,73)\"], [0.7529411764705882, \"rgb(244,135,95)\"], [0.8156862745098039, \"rgb(245,162,122)\"], [0.8784313725490196, \"rgb(246,188,153)\"], [0.9411764705882353, \"rgb(247,212,187)\"], [1.0, \"rgb(250,234,220)\"]], \"type\": \"heatmapgl\"}], \"histogram\": [{\"marker\": {\"colorbar\": {\"outlinewidth\": 0, \"tickcolor\": \"rgb(36,36,36)\", \"ticklen\": 8, \"ticks\": \"outside\", \"tickwidth\": 2}}, \"type\": \"histogram\"}], \"histogram2d\": [{\"colorbar\": {\"outlinewidth\": 0, \"tickcolor\": \"rgb(36,36,36)\", \"ticklen\": 8, \"ticks\": \"outside\", \"tickwidth\": 2}, \"colorscale\": [[0.0, \"rgb(2,4,25)\"], [0.06274509803921569, \"rgb(24,15,41)\"], [0.12549019607843137, \"rgb(47,23,57)\"], [0.18823529411764706, \"rgb(71,28,72)\"], [0.25098039215686274, \"rgb(97,30,82)\"], [0.3137254901960784, \"rgb(123,30,89)\"], [0.3764705882352941, \"rgb(150,27,91)\"], [0.4392156862745098, \"rgb(177,22,88)\"], [0.5019607843137255, \"rgb(203,26,79)\"], [0.5647058823529412, \"rgb(223,47,67)\"], [0.6274509803921569, \"rgb(236,76,61)\"], [0.6901960784313725, \"rgb(242,107,73)\"], [0.7529411764705882, \"rgb(244,135,95)\"], [0.8156862745098039, \"rgb(245,162,122)\"], [0.8784313725490196, \"rgb(246,188,153)\"], [0.9411764705882353, \"rgb(247,212,187)\"], [1.0, \"rgb(250,234,220)\"]], \"type\": \"histogram2d\"}], \"histogram2dcontour\": [{\"colorbar\": {\"outlinewidth\": 0, \"tickcolor\": \"rgb(36,36,36)\", \"ticklen\": 8, \"ticks\": \"outside\", \"tickwidth\": 2}, \"colorscale\": [[0.0, \"rgb(2,4,25)\"], [0.06274509803921569, \"rgb(24,15,41)\"], [0.12549019607843137, \"rgb(47,23,57)\"], [0.18823529411764706, \"rgb(71,28,72)\"], [0.25098039215686274, \"rgb(97,30,82)\"], [0.3137254901960784, \"rgb(123,30,89)\"], [0.3764705882352941, \"rgb(150,27,91)\"], [0.4392156862745098, \"rgb(177,22,88)\"], [0.5019607843137255, \"rgb(203,26,79)\"], [0.5647058823529412, \"rgb(223,47,67)\"], [0.6274509803921569, \"rgb(236,76,61)\"], [0.6901960784313725, \"rgb(242,107,73)\"], [0.7529411764705882, \"rgb(244,135,95)\"], [0.8156862745098039, \"rgb(245,162,122)\"], [0.8784313725490196, \"rgb(246,188,153)\"], [0.9411764705882353, \"rgb(247,212,187)\"], [1.0, \"rgb(250,234,220)\"]], \"type\": \"histogram2dcontour\"}], \"mesh3d\": [{\"colorbar\": {\"outlinewidth\": 0, \"tickcolor\": \"rgb(36,36,36)\", \"ticklen\": 8, \"ticks\": \"outside\", \"tickwidth\": 2}, \"type\": \"mesh3d\"}], \"parcoords\": [{\"line\": {\"colorbar\": {\"outlinewidth\": 0, \"tickcolor\": \"rgb(36,36,36)\", \"ticklen\": 8, \"ticks\": \"outside\", \"tickwidth\": 2}}, \"type\": \"parcoords\"}], \"pie\": [{\"automargin\": true, \"type\": \"pie\"}], \"scatter\": [{\"marker\": {\"colorbar\": {\"outlinewidth\": 0, \"tickcolor\": \"rgb(36,36,36)\", \"ticklen\": 8, \"ticks\": \"outside\", \"tickwidth\": 2}}, \"type\": \"scatter\"}], \"scatter3d\": [{\"line\": {\"colorbar\": {\"outlinewidth\": 0, \"tickcolor\": \"rgb(36,36,36)\", \"ticklen\": 8, \"ticks\": \"outside\", \"tickwidth\": 2}}, \"marker\": {\"colorbar\": {\"outlinewidth\": 0, \"tickcolor\": \"rgb(36,36,36)\", \"ticklen\": 8, \"ticks\": \"outside\", \"tickwidth\": 2}}, \"type\": \"scatter3d\"}], \"scattercarpet\": [{\"marker\": {\"colorbar\": {\"outlinewidth\": 0, \"tickcolor\": \"rgb(36,36,36)\", \"ticklen\": 8, \"ticks\": \"outside\", \"tickwidth\": 2}}, \"type\": \"scattercarpet\"}], \"scattergeo\": [{\"marker\": {\"colorbar\": {\"outlinewidth\": 0, \"tickcolor\": \"rgb(36,36,36)\", \"ticklen\": 8, \"ticks\": \"outside\", \"tickwidth\": 2}}, \"type\": \"scattergeo\"}], \"scattergl\": [{\"marker\": {\"colorbar\": {\"outlinewidth\": 0, \"tickcolor\": \"rgb(36,36,36)\", \"ticklen\": 8, \"ticks\": \"outside\", \"tickwidth\": 2}}, \"type\": \"scattergl\"}], \"scattermapbox\": [{\"marker\": {\"colorbar\": {\"outlinewidth\": 0, \"tickcolor\": \"rgb(36,36,36)\", \"ticklen\": 8, \"ticks\": \"outside\", \"tickwidth\": 2}}, \"type\": \"scattermapbox\"}], \"scatterpolar\": [{\"marker\": {\"colorbar\": {\"outlinewidth\": 0, \"tickcolor\": \"rgb(36,36,36)\", \"ticklen\": 8, \"ticks\": \"outside\", \"tickwidth\": 2}}, \"type\": \"scatterpolar\"}], \"scatterpolargl\": [{\"marker\": {\"colorbar\": {\"outlinewidth\": 0, \"tickcolor\": \"rgb(36,36,36)\", \"ticklen\": 8, \"ticks\": \"outside\", \"tickwidth\": 2}}, \"type\": \"scatterpolargl\"}], \"scatterternary\": [{\"marker\": {\"colorbar\": {\"outlinewidth\": 0, \"tickcolor\": \"rgb(36,36,36)\", \"ticklen\": 8, \"ticks\": \"outside\", \"tickwidth\": 2}}, \"type\": \"scatterternary\"}], \"surface\": [{\"colorbar\": {\"outlinewidth\": 0, \"tickcolor\": \"rgb(36,36,36)\", \"ticklen\": 8, \"ticks\": \"outside\", \"tickwidth\": 2}, \"colorscale\": [[0.0, \"rgb(2,4,25)\"], [0.06274509803921569, \"rgb(24,15,41)\"], [0.12549019607843137, \"rgb(47,23,57)\"], [0.18823529411764706, \"rgb(71,28,72)\"], [0.25098039215686274, \"rgb(97,30,82)\"], [0.3137254901960784, \"rgb(123,30,89)\"], [0.3764705882352941, \"rgb(150,27,91)\"], [0.4392156862745098, \"rgb(177,22,88)\"], [0.5019607843137255, \"rgb(203,26,79)\"], [0.5647058823529412, \"rgb(223,47,67)\"], [0.6274509803921569, \"rgb(236,76,61)\"], [0.6901960784313725, \"rgb(242,107,73)\"], [0.7529411764705882, \"rgb(244,135,95)\"], [0.8156862745098039, \"rgb(245,162,122)\"], [0.8784313725490196, \"rgb(246,188,153)\"], [0.9411764705882353, \"rgb(247,212,187)\"], [1.0, \"rgb(250,234,220)\"]], \"type\": \"surface\"}], \"table\": [{\"cells\": {\"fill\": {\"color\": \"rgb(231,231,240)\"}, \"line\": {\"color\": \"white\"}}, \"header\": {\"fill\": {\"color\": \"rgb(183,183,191)\"}, \"line\": {\"color\": \"white\"}}, \"type\": \"table\"}]}, \"layout\": {\"annotationdefaults\": {\"arrowcolor\": \"rgb(67,103,167)\"}, \"coloraxis\": {\"colorbar\": {\"outlinewidth\": 0, \"tickcolor\": \"rgb(36,36,36)\", \"ticklen\": 8, \"ticks\": \"outside\", \"tickwidth\": 2}}, \"colorscale\": {\"sequential\": [[0.0, \"rgb(2,4,25)\"], [0.06274509803921569, \"rgb(24,15,41)\"], [0.12549019607843137, \"rgb(47,23,57)\"], [0.18823529411764706, \"rgb(71,28,72)\"], [0.25098039215686274, \"rgb(97,30,82)\"], [0.3137254901960784, \"rgb(123,30,89)\"], [0.3764705882352941, \"rgb(150,27,91)\"], [0.4392156862745098, \"rgb(177,22,88)\"], [0.5019607843137255, \"rgb(203,26,79)\"], [0.5647058823529412, \"rgb(223,47,67)\"], [0.6274509803921569, \"rgb(236,76,61)\"], [0.6901960784313725, \"rgb(242,107,73)\"], [0.7529411764705882, \"rgb(244,135,95)\"], [0.8156862745098039, \"rgb(245,162,122)\"], [0.8784313725490196, \"rgb(246,188,153)\"], [0.9411764705882353, \"rgb(247,212,187)\"], [1.0, \"rgb(250,234,220)\"]], \"sequentialminus\": [[0.0, \"rgb(2,4,25)\"], [0.06274509803921569, \"rgb(24,15,41)\"], [0.12549019607843137, \"rgb(47,23,57)\"], [0.18823529411764706, \"rgb(71,28,72)\"], [0.25098039215686274, \"rgb(97,30,82)\"], [0.3137254901960784, \"rgb(123,30,89)\"], [0.3764705882352941, \"rgb(150,27,91)\"], [0.4392156862745098, \"rgb(177,22,88)\"], [0.5019607843137255, \"rgb(203,26,79)\"], [0.5647058823529412, \"rgb(223,47,67)\"], [0.6274509803921569, \"rgb(236,76,61)\"], [0.6901960784313725, \"rgb(242,107,73)\"], [0.7529411764705882, \"rgb(244,135,95)\"], [0.8156862745098039, \"rgb(245,162,122)\"], [0.8784313725490196, \"rgb(246,188,153)\"], [0.9411764705882353, \"rgb(247,212,187)\"], [1.0, \"rgb(250,234,220)\"]]}, \"colorway\": [\"rgb(76,114,176)\", \"rgb(221,132,82)\", \"rgb(85,168,104)\", \"rgb(196,78,82)\", \"rgb(129,114,179)\", \"rgb(147,120,96)\", \"rgb(218,139,195)\", \"rgb(140,140,140)\", \"rgb(204,185,116)\", \"rgb(100,181,205)\"], \"font\": {\"color\": \"rgb(36,36,36)\"}, \"geo\": {\"bgcolor\": \"white\", \"lakecolor\": \"white\", \"landcolor\": \"rgb(234,234,242)\", \"showlakes\": true, \"showland\": true, \"subunitcolor\": \"white\"}, \"hoverlabel\": {\"align\": \"left\"}, \"hovermode\": \"closest\", \"paper_bgcolor\": \"white\", \"plot_bgcolor\": \"rgb(234,234,242)\", \"polar\": {\"angularaxis\": {\"gridcolor\": \"white\", \"linecolor\": \"white\", \"showgrid\": true, \"ticks\": \"\"}, \"bgcolor\": \"rgb(234,234,242)\", \"radialaxis\": {\"gridcolor\": \"white\", \"linecolor\": \"white\", \"showgrid\": true, \"ticks\": \"\"}}, \"scene\": {\"xaxis\": {\"backgroundcolor\": \"rgb(234,234,242)\", \"gridcolor\": \"white\", \"gridwidth\": 2, \"linecolor\": \"white\", \"showbackground\": true, \"showgrid\": true, \"ticks\": \"\", \"zerolinecolor\": \"white\"}, \"yaxis\": {\"backgroundcolor\": \"rgb(234,234,242)\", \"gridcolor\": \"white\", \"gridwidth\": 2, \"linecolor\": \"white\", \"showbackground\": true, \"showgrid\": true, \"ticks\": \"\", \"zerolinecolor\": \"white\"}, \"zaxis\": {\"backgroundcolor\": \"rgb(234,234,242)\", \"gridcolor\": \"white\", \"gridwidth\": 2, \"linecolor\": \"white\", \"showbackground\": true, \"showgrid\": true, \"ticks\": \"\", \"zerolinecolor\": \"white\"}}, \"shapedefaults\": {\"fillcolor\": \"rgb(67,103,167)\", \"line\": {\"width\": 0}, \"opacity\": 0.5}, \"ternary\": {\"aaxis\": {\"gridcolor\": \"white\", \"linecolor\": \"white\", \"showgrid\": true, \"ticks\": \"\"}, \"baxis\": {\"gridcolor\": \"white\", \"linecolor\": \"white\", \"showgrid\": true, \"ticks\": \"\"}, \"bgcolor\": \"rgb(234,234,242)\", \"caxis\": {\"gridcolor\": \"white\", \"linecolor\": \"white\", \"showgrid\": true, \"ticks\": \"\"}}, \"xaxis\": {\"automargin\": true, \"gridcolor\": \"white\", \"linecolor\": \"white\", \"showgrid\": true, \"ticks\": \"\", \"title\": {\"standoff\": 15}, \"zerolinecolor\": \"white\"}, \"yaxis\": {\"automargin\": true, \"gridcolor\": \"white\", \"linecolor\": \"white\", \"showgrid\": true, \"ticks\": \"\", \"title\": {\"standoff\": 15}, \"zerolinecolor\": \"white\"}}}},\n",
              "                        {\"responsive\": true}\n",
              "                    ).then(function(){\n",
              "                            \n",
              "var gd = document.getElementById('3ddced2e-6e2b-48ee-b2d9-419af0411492');\n",
              "var x = new MutationObserver(function (mutations, observer) {{\n",
              "        var display = window.getComputedStyle(gd).display;\n",
              "        if (!display || display === 'none') {{\n",
              "            console.log([gd, 'removed!']);\n",
              "            Plotly.purge(gd);\n",
              "            observer.disconnect();\n",
              "        }}\n",
              "}});\n",
              "\n",
              "// Listen for the removal of the full notebook cells\n",
              "var notebookContainer = gd.closest('#notebook-container');\n",
              "if (notebookContainer) {{\n",
              "    x.observe(notebookContainer, {childList: true});\n",
              "}}\n",
              "\n",
              "// Listen for the clearing of the current output cell\n",
              "var outputEl = gd.closest('.output');\n",
              "if (outputEl) {{\n",
              "    x.observe(outputEl, {childList: true});\n",
              "}}\n",
              "\n",
              "                        })\n",
              "                };\n",
              "                \n",
              "            </script>\n",
              "        </div>\n",
              "</body>\n",
              "</html>"
            ]
          },
          "metadata": {
            "tags": []
          }
        }
      ]
    },
    {
      "cell_type": "markdown",
      "metadata": {
        "id": "PM_OsGQTXe8N"
      },
      "source": [
        "### Most of the sample data has been taken from Mining industry whereas  from Metals there is 31% samples and from Others 11% samples has been gathered  "
      ]
    },
    {
      "cell_type": "code",
      "metadata": {
        "colab": {
          "base_uri": "https://localhost:8080/",
          "height": 542
        },
        "id": "uwpy4eXVCGR5",
        "outputId": "cba77d17-70bf-4d20-bdc7-c4c2dc49d2b4"
      },
      "source": [
        "# Employee type\n",
        "fig = px.pie(data, names='Employee type', template='seaborn')\n",
        "fig.update_traces(rotation=90, pull=[0.2,0.03,0.1,0.03,0.1], textinfo=\"percent+label\", showlegend=False)\n",
        "fig.show()"
      ],
      "execution_count": 79,
      "outputs": [
        {
          "output_type": "display_data",
          "data": {
            "text/html": [
              "<html>\n",
              "<head><meta charset=\"utf-8\" /></head>\n",
              "<body>\n",
              "    <div>\n",
              "            <script src=\"https://cdnjs.cloudflare.com/ajax/libs/mathjax/2.7.5/MathJax.js?config=TeX-AMS-MML_SVG\"></script><script type=\"text/javascript\">if (window.MathJax) {MathJax.Hub.Config({SVG: {font: \"STIX-Web\"}});}</script>\n",
              "                <script type=\"text/javascript\">window.PlotlyConfig = {MathJaxConfig: 'local'};</script>\n",
              "        <script src=\"https://cdn.plot.ly/plotly-latest.min.js\"></script>    \n",
              "            <div id=\"9fb1c068-0975-439c-9032-bf06c099e193\" class=\"plotly-graph-div\" style=\"height:525px; width:100%;\"></div>\n",
              "            <script type=\"text/javascript\">\n",
              "                \n",
              "                    window.PLOTLYENV=window.PLOTLYENV || {};\n",
              "                    \n",
              "                if (document.getElementById(\"9fb1c068-0975-439c-9032-bf06c099e193\")) {\n",
              "                    Plotly.newPlot(\n",
              "                        '9fb1c068-0975-439c-9032-bf06c099e193',\n",
              "                        [{\"domain\": {\"x\": [0.0, 1.0], \"y\": [0.0, 1.0]}, \"hoverlabel\": {\"namelength\": 0}, \"hovertemplate\": \"Employee type=%{label}\", \"labels\": [\"Third Party\", \"Employee\", \"Third Party (Remote)\", \"Third Party\", \"Third Party\", \"Third Party (Remote)\", \"Employee\", \"Third Party\", \"Third Party (Remote)\", \"Third Party\", \"Employee\", \"Third Party\", \"Employee\", \"Third Party\", \"Employee\", \"Employee\", \"Third Party\", \"Third Party\", \"Employee\", \"Employee\", \"Third Party\", \"Third Party\", \"Third Party\", \"Third Party (Remote)\", \"Third Party\", \"Employee\", \"Employee\", \"Third Party\", \"Employee\", \"Employee\", \"Employee\", \"Employee\", \"Third Party\", \"Third Party\", \"Employee\", \"Third Party (Remote)\", \"Third Party\", \"Employee\", \"Third Party\", \"Employee\", \"Employee\", \"Third Party (Remote)\", \"Third Party\", \"Employee\", \"Employee\", \"Third Party\", \"Employee\", \"Employee\", \"Employee\", \"Third Party (Remote)\", \"Third Party\", \"Third Party\", \"Third Party\", \"Third Party (Remote)\", \"Employee\", \"Third Party (Remote)\", \"Employee\", \"Third Party\", \"Employee\", \"Third Party\", \"Employee\", \"Third Party\", \"Employee\", \"Employee\", \"Employee\", \"Employee\", \"Employee\", \"Third Party\", \"Third Party\", \"Third Party\", \"Employee\", \"Employee\", \"Third Party (Remote)\", \"Third Party\", \"Third Party\", \"Employee\", \"Third Party (Remote)\", \"Third Party (Remote)\", \"Third Party\", \"Third Party\", \"Third Party\", \"Third Party\", \"Employee\", \"Third Party\", \"Third Party\", \"Third Party\", \"Employee\", \"Third Party\", \"Employee\", \"Employee\", \"Third Party\", \"Third Party\", \"Third Party\", \"Employee\", \"Employee\", \"Third Party\", \"Employee\", \"Third Party\", \"Employee\", \"Third Party\", \"Third Party\", \"Third Party (Remote)\", \"Third Party\", \"Employee\", \"Employee\", \"Third Party\", \"Third Party\", \"Third Party (Remote)\", \"Third Party\", \"Third Party\", \"Employee\", \"Third Party (Remote)\", \"Third Party (Remote)\", \"Third Party\", \"Third Party (Remote)\", \"Third Party\", \"Third Party (Remote)\", \"Third Party\", \"Third Party\", \"Employee\", \"Third Party (Remote)\", \"Employee\", \"Employee\", \"Third Party\", \"Third Party\", \"Third Party\", \"Employee\", \"Employee\", \"Employee\", \"Third Party\", \"Third Party\", \"Employee\", \"Employee\", \"Employee\", \"Third Party\", \"Third Party\", \"Third Party\", \"Employee\", \"Employee\", \"Third Party\", \"Employee\", \"Third Party\", \"Employee\", \"Third Party\", \"Third Party\", \"Third Party (Remote)\", \"Employee\", \"Third Party\", \"Third Party\", \"Third Party\", \"Third Party\", \"Third Party\", \"Employee\", \"Third Party\", \"Employee\", \"Third Party\", \"Third Party\", \"Third Party (Remote)\", \"Employee\", \"Third Party\", \"Third Party\", \"Employee\", \"Third Party\", \"Third Party\", \"Third Party\", \"Employee\", \"Third Party\", \"Third Party\", \"Third Party\", \"Third Party\", \"Third Party\", \"Third Party (Remote)\", \"Employee\", \"Employee\", \"Third Party\", \"Third Party\", \"Employee\", \"Employee\", \"Third Party (Remote)\", \"Employee\", \"Employee\", \"Employee\", \"Third Party (Remote)\", \"Third Party\", \"Third Party\", \"Third Party\", \"Employee\", \"Third Party (Remote)\", \"Employee\", \"Employee\", \"Third Party\", \"Employee\", \"Third Party\", \"Employee\", \"Employee\", \"Employee\", \"Employee\", \"Employee\", \"Employee\", \"Employee\", \"Employee\", \"Third Party (Remote)\", \"Third Party\", \"Third Party (Remote)\", \"Third Party\", \"Third Party\", \"Employee\", \"Employee\", \"Employee\", \"Employee\", \"Employee\", \"Third Party\", \"Employee\", \"Employee\", \"Third Party\", \"Third Party\", \"Employee\", \"Third Party\", \"Third Party (Remote)\", \"Third Party\", \"Third Party\", \"Third Party\", \"Employee\", \"Employee\", \"Third Party\", \"Third Party\", \"Employee\", \"Third Party\", \"Third Party\", \"Employee\", \"Employee\", \"Third Party\", \"Employee\", \"Third Party\", \"Third Party (Remote)\", \"Employee\", \"Employee\", \"Third Party (Remote)\", \"Employee\", \"Third Party\", \"Third Party\", \"Employee\", \"Employee\", \"Third Party\", \"Employee\", \"Employee\", \"Employee\", \"Employee\", \"Employee\", \"Employee\", \"Employee\", \"Employee\", \"Employee\", \"Third Party\", \"Third Party\", \"Employee\", \"Employee\", \"Employee\", \"Third Party\", \"Employee\", \"Third Party\", \"Employee\", \"Employee\", \"Third Party\", \"Employee\", \"Third Party (Remote)\", \"Third Party (Remote)\", \"Third Party\", \"Employee\", \"Third Party (Remote)\", \"Employee\", \"Third Party (Remote)\", \"Third Party\", \"Employee\", \"Third Party\", \"Third Party\", \"Employee\", \"Third Party\", \"Third Party\", \"Third Party\", \"Third Party\", \"Employee\", \"Employee\", \"Third Party\", \"Third Party\", \"Third Party (Remote)\", \"Third Party\", \"Employee\", \"Employee\", \"Employee\", \"Employee\", \"Employee\", \"Third Party\", \"Employee\", \"Third Party\", \"Third Party (Remote)\", \"Third Party\", \"Employee\", \"Employee\", \"Employee\", \"Third Party (Remote)\", \"Third Party\", \"Third Party (Remote)\", \"Third Party (Remote)\", \"Third Party\", \"Third Party (Remote)\", \"Third Party\", \"Third Party\", \"Third Party\", \"Third Party\", \"Employee\", \"Employee\", \"Employee\", \"Third Party\", \"Employee\", \"Employee\", \"Third Party\", \"Employee\", \"Third Party\", \"Third Party\", \"Third Party (Remote)\", \"Third Party\", \"Employee\", \"Third Party (Remote)\", \"Third Party (Remote)\", \"Employee\", \"Employee\", \"Employee\", \"Third Party\", \"Third Party\", \"Third Party (Remote)\", \"Third Party\", \"Employee\", \"Third Party\", \"Third Party\", \"Third Party (Remote)\", \"Third Party (Remote)\", \"Employee\", \"Third Party\", \"Third Party\", \"Employee\", \"Third Party\", \"Employee\", \"Third Party (Remote)\", \"Third Party\", \"Third Party\", \"Third Party\", \"Employee\", \"Third Party (Remote)\", \"Third Party\", \"Third Party\", \"Third Party\", \"Third Party\", \"Third Party\", \"Third Party\", \"Third Party\", \"Employee\", \"Third Party (Remote)\", \"Third Party (Remote)\", \"Third Party\", \"Employee\", \"Third Party\", \"Employee\", \"Employee\", \"Third Party (Remote)\", \"Third Party\", \"Third Party\", \"Third Party\", \"Third Party\", \"Third Party\", \"Third Party (Remote)\", \"Third Party (Remote)\", \"Third Party (Remote)\", \"Employee\", \"Third Party\", \"Third Party\", \"Third Party\", \"Third Party\", \"Third Party\", \"Employee\", \"Employee\", \"Employee\", \"Employee\", \"Employee\", \"Employee\", \"Third Party (Remote)\", \"Third Party\", \"Employee\", \"Employee\", \"Third Party\", \"Third Party (Remote)\", \"Employee\", \"Employee\", \"Employee\", \"Third Party\", \"Employee\", \"Third Party\", \"Third Party\", \"Third Party\", \"Employee\", \"Employee\", \"Third Party\", \"Third Party\", \"Third Party\", \"Employee\", \"Third Party\", \"Third Party\", \"Third Party (Remote)\", \"Employee\", \"Third Party\", \"Third Party\", \"Employee\", \"Employee\", \"Third Party\", \"Third Party\", \"Employee\", \"Third Party\", \"Employee\", \"Employee\", \"Employee\", \"Third Party\", \"Employee\", \"Employee\", \"Employee\", \"Third Party\"], \"legendgroup\": \"\", \"name\": \"\", \"pull\": [0.2, 0.03, 0.1, 0.03, 0.1], \"rotation\": 90, \"showlegend\": false, \"textinfo\": \"percent+label\", \"type\": \"pie\"}],\n",
              "                        {\"legend\": {\"tracegroupgap\": 0}, \"margin\": {\"t\": 60}, \"template\": {\"data\": {\"bar\": [{\"error_x\": {\"color\": \"rgb(36,36,36)\"}, \"error_y\": {\"color\": \"rgb(36,36,36)\"}, \"marker\": {\"line\": {\"color\": \"rgb(234,234,242)\", \"width\": 0.5}}, \"type\": \"bar\"}], \"barpolar\": [{\"marker\": {\"line\": {\"color\": \"rgb(234,234,242)\", \"width\": 0.5}}, \"type\": \"barpolar\"}], \"carpet\": [{\"aaxis\": {\"endlinecolor\": \"rgb(36,36,36)\", \"gridcolor\": \"white\", \"linecolor\": \"white\", \"minorgridcolor\": \"white\", \"startlinecolor\": \"rgb(36,36,36)\"}, \"baxis\": {\"endlinecolor\": \"rgb(36,36,36)\", \"gridcolor\": \"white\", \"linecolor\": \"white\", \"minorgridcolor\": \"white\", \"startlinecolor\": \"rgb(36,36,36)\"}, \"type\": \"carpet\"}], \"choropleth\": [{\"colorbar\": {\"outlinewidth\": 0, \"tickcolor\": \"rgb(36,36,36)\", \"ticklen\": 8, \"ticks\": \"outside\", \"tickwidth\": 2}, \"type\": \"choropleth\"}], \"contour\": [{\"colorbar\": {\"outlinewidth\": 0, \"tickcolor\": \"rgb(36,36,36)\", \"ticklen\": 8, \"ticks\": \"outside\", \"tickwidth\": 2}, \"colorscale\": [[0.0, \"rgb(2,4,25)\"], [0.06274509803921569, \"rgb(24,15,41)\"], [0.12549019607843137, \"rgb(47,23,57)\"], [0.18823529411764706, \"rgb(71,28,72)\"], [0.25098039215686274, \"rgb(97,30,82)\"], [0.3137254901960784, \"rgb(123,30,89)\"], [0.3764705882352941, \"rgb(150,27,91)\"], [0.4392156862745098, \"rgb(177,22,88)\"], [0.5019607843137255, \"rgb(203,26,79)\"], [0.5647058823529412, \"rgb(223,47,67)\"], [0.6274509803921569, \"rgb(236,76,61)\"], [0.6901960784313725, \"rgb(242,107,73)\"], [0.7529411764705882, \"rgb(244,135,95)\"], [0.8156862745098039, \"rgb(245,162,122)\"], [0.8784313725490196, \"rgb(246,188,153)\"], [0.9411764705882353, \"rgb(247,212,187)\"], [1.0, \"rgb(250,234,220)\"]], \"type\": \"contour\"}], \"contourcarpet\": [{\"colorbar\": {\"outlinewidth\": 0, \"tickcolor\": \"rgb(36,36,36)\", \"ticklen\": 8, \"ticks\": \"outside\", \"tickwidth\": 2}, \"type\": \"contourcarpet\"}], \"heatmap\": [{\"colorbar\": {\"outlinewidth\": 0, \"tickcolor\": \"rgb(36,36,36)\", \"ticklen\": 8, \"ticks\": \"outside\", \"tickwidth\": 2}, \"colorscale\": [[0.0, \"rgb(2,4,25)\"], [0.06274509803921569, \"rgb(24,15,41)\"], [0.12549019607843137, \"rgb(47,23,57)\"], [0.18823529411764706, \"rgb(71,28,72)\"], [0.25098039215686274, \"rgb(97,30,82)\"], [0.3137254901960784, \"rgb(123,30,89)\"], [0.3764705882352941, \"rgb(150,27,91)\"], [0.4392156862745098, \"rgb(177,22,88)\"], [0.5019607843137255, \"rgb(203,26,79)\"], [0.5647058823529412, \"rgb(223,47,67)\"], [0.6274509803921569, \"rgb(236,76,61)\"], [0.6901960784313725, \"rgb(242,107,73)\"], [0.7529411764705882, \"rgb(244,135,95)\"], [0.8156862745098039, \"rgb(245,162,122)\"], [0.8784313725490196, \"rgb(246,188,153)\"], [0.9411764705882353, \"rgb(247,212,187)\"], [1.0, \"rgb(250,234,220)\"]], \"type\": \"heatmap\"}], \"heatmapgl\": [{\"colorbar\": {\"outlinewidth\": 0, \"tickcolor\": \"rgb(36,36,36)\", \"ticklen\": 8, \"ticks\": \"outside\", \"tickwidth\": 2}, \"colorscale\": [[0.0, \"rgb(2,4,25)\"], [0.06274509803921569, \"rgb(24,15,41)\"], [0.12549019607843137, \"rgb(47,23,57)\"], [0.18823529411764706, \"rgb(71,28,72)\"], [0.25098039215686274, \"rgb(97,30,82)\"], [0.3137254901960784, \"rgb(123,30,89)\"], [0.3764705882352941, \"rgb(150,27,91)\"], [0.4392156862745098, \"rgb(177,22,88)\"], [0.5019607843137255, \"rgb(203,26,79)\"], [0.5647058823529412, \"rgb(223,47,67)\"], [0.6274509803921569, \"rgb(236,76,61)\"], [0.6901960784313725, \"rgb(242,107,73)\"], [0.7529411764705882, \"rgb(244,135,95)\"], [0.8156862745098039, \"rgb(245,162,122)\"], [0.8784313725490196, \"rgb(246,188,153)\"], [0.9411764705882353, \"rgb(247,212,187)\"], [1.0, \"rgb(250,234,220)\"]], \"type\": \"heatmapgl\"}], \"histogram\": [{\"marker\": {\"colorbar\": {\"outlinewidth\": 0, \"tickcolor\": \"rgb(36,36,36)\", \"ticklen\": 8, \"ticks\": \"outside\", \"tickwidth\": 2}}, \"type\": \"histogram\"}], \"histogram2d\": [{\"colorbar\": {\"outlinewidth\": 0, \"tickcolor\": \"rgb(36,36,36)\", \"ticklen\": 8, \"ticks\": \"outside\", \"tickwidth\": 2}, \"colorscale\": [[0.0, \"rgb(2,4,25)\"], [0.06274509803921569, \"rgb(24,15,41)\"], [0.12549019607843137, \"rgb(47,23,57)\"], [0.18823529411764706, \"rgb(71,28,72)\"], [0.25098039215686274, \"rgb(97,30,82)\"], [0.3137254901960784, \"rgb(123,30,89)\"], [0.3764705882352941, \"rgb(150,27,91)\"], [0.4392156862745098, \"rgb(177,22,88)\"], [0.5019607843137255, \"rgb(203,26,79)\"], [0.5647058823529412, \"rgb(223,47,67)\"], [0.6274509803921569, \"rgb(236,76,61)\"], [0.6901960784313725, \"rgb(242,107,73)\"], [0.7529411764705882, \"rgb(244,135,95)\"], [0.8156862745098039, \"rgb(245,162,122)\"], [0.8784313725490196, \"rgb(246,188,153)\"], [0.9411764705882353, \"rgb(247,212,187)\"], [1.0, \"rgb(250,234,220)\"]], \"type\": \"histogram2d\"}], \"histogram2dcontour\": [{\"colorbar\": {\"outlinewidth\": 0, \"tickcolor\": \"rgb(36,36,36)\", \"ticklen\": 8, \"ticks\": \"outside\", \"tickwidth\": 2}, \"colorscale\": [[0.0, \"rgb(2,4,25)\"], [0.06274509803921569, \"rgb(24,15,41)\"], [0.12549019607843137, \"rgb(47,23,57)\"], [0.18823529411764706, \"rgb(71,28,72)\"], [0.25098039215686274, \"rgb(97,30,82)\"], [0.3137254901960784, \"rgb(123,30,89)\"], [0.3764705882352941, \"rgb(150,27,91)\"], [0.4392156862745098, \"rgb(177,22,88)\"], [0.5019607843137255, \"rgb(203,26,79)\"], [0.5647058823529412, \"rgb(223,47,67)\"], [0.6274509803921569, \"rgb(236,76,61)\"], [0.6901960784313725, \"rgb(242,107,73)\"], [0.7529411764705882, \"rgb(244,135,95)\"], [0.8156862745098039, \"rgb(245,162,122)\"], [0.8784313725490196, \"rgb(246,188,153)\"], [0.9411764705882353, \"rgb(247,212,187)\"], [1.0, \"rgb(250,234,220)\"]], \"type\": \"histogram2dcontour\"}], \"mesh3d\": [{\"colorbar\": {\"outlinewidth\": 0, \"tickcolor\": \"rgb(36,36,36)\", \"ticklen\": 8, \"ticks\": \"outside\", \"tickwidth\": 2}, \"type\": \"mesh3d\"}], \"parcoords\": [{\"line\": {\"colorbar\": {\"outlinewidth\": 0, \"tickcolor\": \"rgb(36,36,36)\", \"ticklen\": 8, \"ticks\": \"outside\", \"tickwidth\": 2}}, \"type\": \"parcoords\"}], \"pie\": [{\"automargin\": true, \"type\": \"pie\"}], \"scatter\": [{\"marker\": {\"colorbar\": {\"outlinewidth\": 0, \"tickcolor\": \"rgb(36,36,36)\", \"ticklen\": 8, \"ticks\": \"outside\", \"tickwidth\": 2}}, \"type\": \"scatter\"}], \"scatter3d\": [{\"line\": {\"colorbar\": {\"outlinewidth\": 0, \"tickcolor\": \"rgb(36,36,36)\", \"ticklen\": 8, \"ticks\": \"outside\", \"tickwidth\": 2}}, \"marker\": {\"colorbar\": {\"outlinewidth\": 0, \"tickcolor\": \"rgb(36,36,36)\", \"ticklen\": 8, \"ticks\": \"outside\", \"tickwidth\": 2}}, \"type\": \"scatter3d\"}], \"scattercarpet\": [{\"marker\": {\"colorbar\": {\"outlinewidth\": 0, \"tickcolor\": \"rgb(36,36,36)\", \"ticklen\": 8, \"ticks\": \"outside\", \"tickwidth\": 2}}, \"type\": \"scattercarpet\"}], \"scattergeo\": [{\"marker\": {\"colorbar\": {\"outlinewidth\": 0, \"tickcolor\": \"rgb(36,36,36)\", \"ticklen\": 8, \"ticks\": \"outside\", \"tickwidth\": 2}}, \"type\": \"scattergeo\"}], \"scattergl\": [{\"marker\": {\"colorbar\": {\"outlinewidth\": 0, \"tickcolor\": \"rgb(36,36,36)\", \"ticklen\": 8, \"ticks\": \"outside\", \"tickwidth\": 2}}, \"type\": \"scattergl\"}], \"scattermapbox\": [{\"marker\": {\"colorbar\": {\"outlinewidth\": 0, \"tickcolor\": \"rgb(36,36,36)\", \"ticklen\": 8, \"ticks\": \"outside\", \"tickwidth\": 2}}, \"type\": \"scattermapbox\"}], \"scatterpolar\": [{\"marker\": {\"colorbar\": {\"outlinewidth\": 0, \"tickcolor\": \"rgb(36,36,36)\", \"ticklen\": 8, \"ticks\": \"outside\", \"tickwidth\": 2}}, \"type\": \"scatterpolar\"}], \"scatterpolargl\": [{\"marker\": {\"colorbar\": {\"outlinewidth\": 0, \"tickcolor\": \"rgb(36,36,36)\", \"ticklen\": 8, \"ticks\": \"outside\", \"tickwidth\": 2}}, \"type\": \"scatterpolargl\"}], \"scatterternary\": [{\"marker\": {\"colorbar\": {\"outlinewidth\": 0, \"tickcolor\": \"rgb(36,36,36)\", \"ticklen\": 8, \"ticks\": \"outside\", \"tickwidth\": 2}}, \"type\": \"scatterternary\"}], \"surface\": [{\"colorbar\": {\"outlinewidth\": 0, \"tickcolor\": \"rgb(36,36,36)\", \"ticklen\": 8, \"ticks\": \"outside\", \"tickwidth\": 2}, \"colorscale\": [[0.0, \"rgb(2,4,25)\"], [0.06274509803921569, \"rgb(24,15,41)\"], [0.12549019607843137, \"rgb(47,23,57)\"], [0.18823529411764706, \"rgb(71,28,72)\"], [0.25098039215686274, \"rgb(97,30,82)\"], [0.3137254901960784, \"rgb(123,30,89)\"], [0.3764705882352941, \"rgb(150,27,91)\"], [0.4392156862745098, \"rgb(177,22,88)\"], [0.5019607843137255, \"rgb(203,26,79)\"], [0.5647058823529412, \"rgb(223,47,67)\"], [0.6274509803921569, \"rgb(236,76,61)\"], [0.6901960784313725, \"rgb(242,107,73)\"], [0.7529411764705882, \"rgb(244,135,95)\"], [0.8156862745098039, \"rgb(245,162,122)\"], [0.8784313725490196, \"rgb(246,188,153)\"], [0.9411764705882353, \"rgb(247,212,187)\"], [1.0, \"rgb(250,234,220)\"]], \"type\": \"surface\"}], \"table\": [{\"cells\": {\"fill\": {\"color\": \"rgb(231,231,240)\"}, \"line\": {\"color\": \"white\"}}, \"header\": {\"fill\": {\"color\": \"rgb(183,183,191)\"}, \"line\": {\"color\": \"white\"}}, \"type\": \"table\"}]}, \"layout\": {\"annotationdefaults\": {\"arrowcolor\": \"rgb(67,103,167)\"}, \"coloraxis\": {\"colorbar\": {\"outlinewidth\": 0, \"tickcolor\": \"rgb(36,36,36)\", \"ticklen\": 8, \"ticks\": \"outside\", \"tickwidth\": 2}}, \"colorscale\": {\"sequential\": [[0.0, \"rgb(2,4,25)\"], [0.06274509803921569, \"rgb(24,15,41)\"], [0.12549019607843137, \"rgb(47,23,57)\"], [0.18823529411764706, \"rgb(71,28,72)\"], [0.25098039215686274, \"rgb(97,30,82)\"], [0.3137254901960784, \"rgb(123,30,89)\"], [0.3764705882352941, \"rgb(150,27,91)\"], [0.4392156862745098, \"rgb(177,22,88)\"], [0.5019607843137255, \"rgb(203,26,79)\"], [0.5647058823529412, \"rgb(223,47,67)\"], [0.6274509803921569, \"rgb(236,76,61)\"], [0.6901960784313725, \"rgb(242,107,73)\"], [0.7529411764705882, \"rgb(244,135,95)\"], [0.8156862745098039, \"rgb(245,162,122)\"], [0.8784313725490196, \"rgb(246,188,153)\"], [0.9411764705882353, \"rgb(247,212,187)\"], [1.0, \"rgb(250,234,220)\"]], \"sequentialminus\": [[0.0, \"rgb(2,4,25)\"], [0.06274509803921569, \"rgb(24,15,41)\"], [0.12549019607843137, \"rgb(47,23,57)\"], [0.18823529411764706, \"rgb(71,28,72)\"], [0.25098039215686274, \"rgb(97,30,82)\"], [0.3137254901960784, \"rgb(123,30,89)\"], [0.3764705882352941, \"rgb(150,27,91)\"], [0.4392156862745098, \"rgb(177,22,88)\"], [0.5019607843137255, \"rgb(203,26,79)\"], [0.5647058823529412, \"rgb(223,47,67)\"], [0.6274509803921569, \"rgb(236,76,61)\"], [0.6901960784313725, \"rgb(242,107,73)\"], [0.7529411764705882, \"rgb(244,135,95)\"], [0.8156862745098039, \"rgb(245,162,122)\"], [0.8784313725490196, \"rgb(246,188,153)\"], [0.9411764705882353, \"rgb(247,212,187)\"], [1.0, \"rgb(250,234,220)\"]]}, \"colorway\": [\"rgb(76,114,176)\", \"rgb(221,132,82)\", \"rgb(85,168,104)\", \"rgb(196,78,82)\", \"rgb(129,114,179)\", \"rgb(147,120,96)\", \"rgb(218,139,195)\", \"rgb(140,140,140)\", \"rgb(204,185,116)\", \"rgb(100,181,205)\"], \"font\": {\"color\": \"rgb(36,36,36)\"}, \"geo\": {\"bgcolor\": \"white\", \"lakecolor\": \"white\", \"landcolor\": \"rgb(234,234,242)\", \"showlakes\": true, \"showland\": true, \"subunitcolor\": \"white\"}, \"hoverlabel\": {\"align\": \"left\"}, \"hovermode\": \"closest\", \"paper_bgcolor\": \"white\", \"plot_bgcolor\": \"rgb(234,234,242)\", \"polar\": {\"angularaxis\": {\"gridcolor\": \"white\", \"linecolor\": \"white\", \"showgrid\": true, \"ticks\": \"\"}, \"bgcolor\": \"rgb(234,234,242)\", \"radialaxis\": {\"gridcolor\": \"white\", \"linecolor\": \"white\", \"showgrid\": true, \"ticks\": \"\"}}, \"scene\": {\"xaxis\": {\"backgroundcolor\": \"rgb(234,234,242)\", \"gridcolor\": \"white\", \"gridwidth\": 2, \"linecolor\": \"white\", \"showbackground\": true, \"showgrid\": true, \"ticks\": \"\", \"zerolinecolor\": \"white\"}, \"yaxis\": {\"backgroundcolor\": \"rgb(234,234,242)\", \"gridcolor\": \"white\", \"gridwidth\": 2, \"linecolor\": \"white\", \"showbackground\": true, \"showgrid\": true, \"ticks\": \"\", \"zerolinecolor\": \"white\"}, \"zaxis\": {\"backgroundcolor\": \"rgb(234,234,242)\", \"gridcolor\": \"white\", \"gridwidth\": 2, \"linecolor\": \"white\", \"showbackground\": true, \"showgrid\": true, \"ticks\": \"\", \"zerolinecolor\": \"white\"}}, \"shapedefaults\": {\"fillcolor\": \"rgb(67,103,167)\", \"line\": {\"width\": 0}, \"opacity\": 0.5}, \"ternary\": {\"aaxis\": {\"gridcolor\": \"white\", \"linecolor\": \"white\", \"showgrid\": true, \"ticks\": \"\"}, \"baxis\": {\"gridcolor\": \"white\", \"linecolor\": \"white\", \"showgrid\": true, \"ticks\": \"\"}, \"bgcolor\": \"rgb(234,234,242)\", \"caxis\": {\"gridcolor\": \"white\", \"linecolor\": \"white\", \"showgrid\": true, \"ticks\": \"\"}}, \"xaxis\": {\"automargin\": true, \"gridcolor\": \"white\", \"linecolor\": \"white\", \"showgrid\": true, \"ticks\": \"\", \"title\": {\"standoff\": 15}, \"zerolinecolor\": \"white\"}, \"yaxis\": {\"automargin\": true, \"gridcolor\": \"white\", \"linecolor\": \"white\", \"showgrid\": true, \"ticks\": \"\", \"title\": {\"standoff\": 15}, \"zerolinecolor\": \"white\"}}}},\n",
              "                        {\"responsive\": true}\n",
              "                    ).then(function(){\n",
              "                            \n",
              "var gd = document.getElementById('9fb1c068-0975-439c-9032-bf06c099e193');\n",
              "var x = new MutationObserver(function (mutations, observer) {{\n",
              "        var display = window.getComputedStyle(gd).display;\n",
              "        if (!display || display === 'none') {{\n",
              "            console.log([gd, 'removed!']);\n",
              "            Plotly.purge(gd);\n",
              "            observer.disconnect();\n",
              "        }}\n",
              "}});\n",
              "\n",
              "// Listen for the removal of the full notebook cells\n",
              "var notebookContainer = gd.closest('#notebook-container');\n",
              "if (notebookContainer) {{\n",
              "    x.observe(notebookContainer, {childList: true});\n",
              "}}\n",
              "\n",
              "// Listen for the clearing of the current output cell\n",
              "var outputEl = gd.closest('.output');\n",
              "if (outputEl) {{\n",
              "    x.observe(outputEl, {childList: true});\n",
              "}}\n",
              "\n",
              "                        })\n",
              "                };\n",
              "                \n",
              "            </script>\n",
              "        </div>\n",
              "</body>\n",
              "</html>"
            ]
          },
          "metadata": {
            "tags": []
          }
        }
      ]
    },
    {
      "cell_type": "markdown",
      "metadata": {
        "id": "n6FbAatvYCCq"
      },
      "source": [
        "### The samples for Third Party is 45% whereas 42% samples are from Employee & 13%  samples from Third Party(Remote)\r\n"
      ]
    },
    {
      "cell_type": "code",
      "metadata": {
        "colab": {
          "base_uri": "https://localhost:8080/",
          "height": 598
        },
        "id": "NhzFC3vgCGR5",
        "outputId": "340be5d2-5c2d-40c8-aa5e-8979850c99c8"
      },
      "source": [
        "# Look at the Risk Factors and plot the data\n",
        "\n",
        "plt.figure(figsize=(20,5))\n",
        "descending_order = data['Critical Risk'].value_counts().sort_values(ascending=False).index\n",
        "sns.countplot(x=data['Critical Risk'],order=descending_order)\n",
        "plt.xticks(rotation = 'vertical')"
      ],
      "execution_count": 80,
      "outputs": [
        {
          "output_type": "execute_result",
          "data": {
            "text/plain": [
              "(array([ 0,  1,  2,  3,  4,  5,  6,  7,  8,  9, 10, 11, 12, 13, 14, 15, 16,\n",
              "        17, 18, 19, 20, 21, 22, 23, 24, 25, 26, 27, 28, 29, 30, 31, 32]),\n",
              " <a list of 33 Text major ticklabel objects>)"
            ]
          },
          "metadata": {
            "tags": []
          },
          "execution_count": 80
        },
        {
          "output_type": "display_data",
          "data": {
            "image/png": "[encoded data removed]",
            "text/plain": [
              "<Figure size 1440x360 with 1 Axes>"
            ]
          },
          "metadata": {
            "tags": []
          }
        }
      ]
    },
    {
      "cell_type": "code",
      "metadata": {
        "colab": {
          "base_uri": "https://localhost:8080/",
          "height": 542
        },
        "id": "3oUO3B4GCGR6",
        "outputId": "c4761b5e-6f17-485d-f117-07dc8250e105"
      },
      "source": [
        "## Quarter-wise data to see the mostly affected quarter\n",
        "fig = px.pie(data, names='Quarter', template='seaborn')\n",
        "fig.update_traces(rotation=90, pull=[0.2,0.03,0.1,0.03,0.1], textinfo=\"percent+label\", showlegend=False)\n",
        "fig.show()"
      ],
      "execution_count": 81,
      "outputs": [
        {
          "output_type": "display_data",
          "data": {
            "text/html": [
              "<html>\n",
              "<head><meta charset=\"utf-8\" /></head>\n",
              "<body>\n",
              "    <div>\n",
              "            <script src=\"https://cdnjs.cloudflare.com/ajax/libs/mathjax/2.7.5/MathJax.js?config=TeX-AMS-MML_SVG\"></script><script type=\"text/javascript\">if (window.MathJax) {MathJax.Hub.Config({SVG: {font: \"STIX-Web\"}});}</script>\n",
              "                <script type=\"text/javascript\">window.PlotlyConfig = {MathJaxConfig: 'local'};</script>\n",
              "        <script src=\"https://cdn.plot.ly/plotly-latest.min.js\"></script>    \n",
              "            <div id=\"2f3b4c51-9cb5-4b63-ac75-afcf47afd6f7\" class=\"plotly-graph-div\" style=\"height:525px; width:100%;\"></div>\n",
              "            <script type=\"text/javascript\">\n",
              "                \n",
              "                    window.PLOTLYENV=window.PLOTLYENV || {};\n",
              "                    \n",
              "                if (document.getElementById(\"2f3b4c51-9cb5-4b63-ac75-afcf47afd6f7\")) {\n",
              "                    Plotly.newPlot(\n",
              "                        '2f3b4c51-9cb5-4b63-ac75-afcf47afd6f7',\n",
              "                        [{\"domain\": {\"x\": [0.0, 1.0], \"y\": [0.0, 1.0]}, \"hoverlabel\": {\"namelength\": 0}, \"hovertemplate\": \"Quarter=%{label}\", \"labels\": [\"First\", \"First\", \"Second\", \"Third\", \"Fourth\", \"Fourth\", \"First\", \"First\", \"First\", \"First\", \"First\", \"First\", \"First\", \"First\", \"Second\", \"Second\", \"Second\", \"Third\", \"Third\", \"First\", \"First\", \"Third\", \"Fourth\", \"First\", \"First\", \"First\", \"First\", \"First\", \"First\", \"First\", \"First\", \"First\", \"First\", \"First\", \"First\", \"First\", \"First\", \"First\", \"First\", \"First\", \"First\", \"First\", \"First\", \"First\", \"First\", \"First\", \"Second\", \"Second\", \"Second\", \"Second\", \"Third\", \"Fourth\", \"Fourth\", \"First\", \"Fourth\", \"First\", \"First\", \"First\", \"Fourth\", \"First\", \"First\", \"First\", \"First\", \"First\", \"First\", \"First\", \"First\", \"First\", \"First\", \"First\", \"First\", \"First\", \"First\", \"First\", \"First\", \"First\", \"First\", \"First\", \"Fourth\", \"First\", \"First\", \"First\", \"Second\", \"Second\", \"Second\", \"Third\", \"Third\", \"Fourth\", \"Fourth\", \"Second\", \"Second\", \"Second\", \"Second\", \"Second\", \"Second\", \"Second\", \"Second\", \"Second\", \"Second\", \"Second\", \"Second\", \"Second\", \"Second\", \"Second\", \"Second\", \"Second\", \"First\", \"First\", \"Second\", \"First\", \"Second\", \"Second\", \"Second\", \"Second\", \"Second\", \"Fourth\", \"Fourth\", \"Fourth\", \"Second\", \"Second\", \"Second\", \"Second\", \"Second\", \"Second\", \"Second\", \"Second\", \"Fourth\", \"Second\", \"Second\", \"Second\", \"Second\", \"Second\", \"First\", \"First\", \"First\", \"Second\", \"First\", \"Second\", \"Second\", \"Third\", \"Third\", \"Third\", \"Third\", \"Third\", \"Third\", \"Fourth\", \"Second\", \"Second\", \"Second\", \"Second\", \"Second\", \"Second\", \"Second\", \"Second\", \"Second\", \"Second\", \"Second\", \"Second\", \"Second\", \"Second\", \"Second\", \"Second\", \"First\", \"Second\", \"Second\", \"Third\", \"Third\", \"Third\", \"Third\", \"Third\", \"Fourth\", \"Fourth\", \"Third\", \"Third\", \"Third\", \"Third\", \"Third\", \"Third\", \"Third\", \"Third\", \"Third\", \"Third\", \"First\", \"First\", \"First\", \"First\", \"Second\", \"Fourth\", \"Fourth\", \"Fourth\", \"Third\", \"Third\", \"Third\", \"Third\", \"Third\", \"Third\", \"Third\", \"Third\", \"Third\", \"Third\", \"Third\", \"Third\", \"Third\", \"First\", \"First\", \"Second\", \"First\", \"Second\", \"Second\", \"Second\", \"Second\", \"Third\", \"Fourth\", \"Third\", \"Third\", \"Third\", \"Third\", \"Third\", \"Third\", \"Third\", \"Third\", \"Third\", \"Third\", \"Third\", \"Third\", \"Third\", \"Third\", \"First\", \"First\", \"First\", \"First\", \"First\", \"Second\", \"Third\", \"Fourth\", \"Fourth\", \"Fourth\", \"Fourth\", \"Fourth\", \"Fourth\", \"Fourth\", \"Fourth\", \"Fourth\", \"Fourth\", \"Fourth\", \"Fourth\", \"Fourth\", \"Fourth\", \"Second\", \"Third\", \"Third\", \"Fourth\", \"Fourth\", \"Fourth\", \"Fourth\", \"Fourth\", \"Fourth\", \"Fourth\", \"Fourth\", \"Fourth\", \"Fourth\", \"First\", \"First\", \"First\", \"Third\", \"Third\", \"Third\", \"Fourth\", \"Fourth\", \"Fourth\", \"Fourth\", \"Fourth\", \"Fourth\", \"Fourth\", \"Fourth\", \"Fourth\", \"Fourth\", \"Fourth\", \"Fourth\", \"Fourth\", \"Fourth\", \"Fourth\", \"Fourth\", \"Fourth\", \"Fourth\", \"First\", \"Second\", \"Second\", \"Second\", \"Third\", \"Third\", \"Third\", \"Third\", \"Third\", \"Fourth\", \"Fourth\", \"First\", \"First\", \"First\", \"First\", \"First\", \"First\", \"First\", \"First\", \"First\", \"First\", \"First\", \"First\", \"First\", \"First\", \"First\", \"First\", \"First\", \"First\", \"Second\", \"Second\", \"Third\", \"Third\", \"Third\", \"Third\", \"Third\", \"Third\", \"Third\", \"Third\", \"Third\", \"First\", \"First\", \"First\", \"First\", \"First\", \"First\", \"First\", \"First\", \"First\", \"First\", \"First\", \"First\", \"First\", \"First\", \"First\", \"First\", \"First\", \"First\", \"First\", \"First\", \"First\", \"First\", \"Second\", \"Second\", \"Third\", \"Third\", \"Third\", \"Third\", \"Fourth\", \"First\", \"First\", \"First\", \"First\", \"First\", \"First\", \"First\", \"First\", \"Second\", \"Second\", \"Third\", \"Second\", \"Second\", \"Third\", \"Fourth\", \"Third\", \"Fourth\", \"Fourth\", \"Fourth\", \"Second\", \"Fourth\", \"Second\", \"Second\", \"Second\", \"Second\", \"Second\", \"Second\", \"Second\", \"Second\", \"Second\", \"Second\", \"Second\", \"Second\", \"Second\", \"Second\", \"Fourth\", \"Second\", \"Second\", \"Second\", \"Second\", \"Second\", \"Second\", \"Second\", \"Second\", \"Second\", \"Second\", \"Second\", \"Third\", \"Third\", \"Fourth\", \"Fourth\", \"Fourth\", \"Fourth\", \"Second\", \"Second\", \"Second\", \"Second\", \"Second\", \"Second\", \"Second\", \"Second\", \"Second\", \"Second\", \"Second\", \"Second\", \"Second\", \"Second\", \"Second\", \"Second\", \"Second\", \"Third\"], \"legendgroup\": \"\", \"name\": \"\", \"pull\": [0.2, 0.03, 0.1, 0.03, 0.1], \"rotation\": 90, \"showlegend\": false, \"textinfo\": \"percent+label\", \"type\": \"pie\"}],\n",
              "                        {\"legend\": {\"tracegroupgap\": 0}, \"margin\": {\"t\": 60}, \"template\": {\"data\": {\"bar\": [{\"error_x\": {\"color\": \"rgb(36,36,36)\"}, \"error_y\": {\"color\": \"rgb(36,36,36)\"}, \"marker\": {\"line\": {\"color\": \"rgb(234,234,242)\", \"width\": 0.5}}, \"type\": \"bar\"}], \"barpolar\": [{\"marker\": {\"line\": {\"color\": \"rgb(234,234,242)\", \"width\": 0.5}}, \"type\": \"barpolar\"}], \"carpet\": [{\"aaxis\": {\"endlinecolor\": \"rgb(36,36,36)\", \"gridcolor\": \"white\", \"linecolor\": \"white\", \"minorgridcolor\": \"white\", \"startlinecolor\": \"rgb(36,36,36)\"}, \"baxis\": {\"endlinecolor\": \"rgb(36,36,36)\", \"gridcolor\": \"white\", \"linecolor\": \"white\", \"minorgridcolor\": \"white\", \"startlinecolor\": \"rgb(36,36,36)\"}, \"type\": \"carpet\"}], \"choropleth\": [{\"colorbar\": {\"outlinewidth\": 0, \"tickcolor\": \"rgb(36,36,36)\", \"ticklen\": 8, \"ticks\": \"outside\", \"tickwidth\": 2}, \"type\": \"choropleth\"}], \"contour\": [{\"colorbar\": {\"outlinewidth\": 0, \"tickcolor\": \"rgb(36,36,36)\", \"ticklen\": 8, \"ticks\": \"outside\", \"tickwidth\": 2}, \"colorscale\": [[0.0, \"rgb(2,4,25)\"], [0.06274509803921569, \"rgb(24,15,41)\"], [0.12549019607843137, \"rgb(47,23,57)\"], [0.18823529411764706, \"rgb(71,28,72)\"], [0.25098039215686274, \"rgb(97,30,82)\"], [0.3137254901960784, \"rgb(123,30,89)\"], [0.3764705882352941, \"rgb(150,27,91)\"], [0.4392156862745098, \"rgb(177,22,88)\"], [0.5019607843137255, \"rgb(203,26,79)\"], [0.5647058823529412, \"rgb(223,47,67)\"], [0.6274509803921569, \"rgb(236,76,61)\"], [0.6901960784313725, \"rgb(242,107,73)\"], [0.7529411764705882, \"rgb(244,135,95)\"], [0.8156862745098039, \"rgb(245,162,122)\"], [0.8784313725490196, \"rgb(246,188,153)\"], [0.9411764705882353, \"rgb(247,212,187)\"], [1.0, \"rgb(250,234,220)\"]], \"type\": \"contour\"}], \"contourcarpet\": [{\"colorbar\": {\"outlinewidth\": 0, \"tickcolor\": \"rgb(36,36,36)\", \"ticklen\": 8, \"ticks\": \"outside\", \"tickwidth\": 2}, \"type\": \"contourcarpet\"}], \"heatmap\": [{\"colorbar\": {\"outlinewidth\": 0, \"tickcolor\": \"rgb(36,36,36)\", \"ticklen\": 8, \"ticks\": \"outside\", \"tickwidth\": 2}, \"colorscale\": [[0.0, \"rgb(2,4,25)\"], [0.06274509803921569, \"rgb(24,15,41)\"], [0.12549019607843137, \"rgb(47,23,57)\"], [0.18823529411764706, \"rgb(71,28,72)\"], [0.25098039215686274, \"rgb(97,30,82)\"], [0.3137254901960784, \"rgb(123,30,89)\"], [0.3764705882352941, \"rgb(150,27,91)\"], [0.4392156862745098, \"rgb(177,22,88)\"], [0.5019607843137255, \"rgb(203,26,79)\"], [0.5647058823529412, \"rgb(223,47,67)\"], [0.6274509803921569, \"rgb(236,76,61)\"], [0.6901960784313725, \"rgb(242,107,73)\"], [0.7529411764705882, \"rgb(244,135,95)\"], [0.8156862745098039, \"rgb(245,162,122)\"], [0.8784313725490196, \"rgb(246,188,153)\"], [0.9411764705882353, \"rgb(247,212,187)\"], [1.0, \"rgb(250,234,220)\"]], \"type\": \"heatmap\"}], \"heatmapgl\": [{\"colorbar\": {\"outlinewidth\": 0, \"tickcolor\": \"rgb(36,36,36)\", \"ticklen\": 8, \"ticks\": \"outside\", \"tickwidth\": 2}, \"colorscale\": [[0.0, \"rgb(2,4,25)\"], [0.06274509803921569, \"rgb(24,15,41)\"], [0.12549019607843137, \"rgb(47,23,57)\"], [0.18823529411764706, \"rgb(71,28,72)\"], [0.25098039215686274, \"rgb(97,30,82)\"], [0.3137254901960784, \"rgb(123,30,89)\"], [0.3764705882352941, \"rgb(150,27,91)\"], [0.4392156862745098, \"rgb(177,22,88)\"], [0.5019607843137255, \"rgb(203,26,79)\"], [0.5647058823529412, \"rgb(223,47,67)\"], [0.6274509803921569, \"rgb(236,76,61)\"], [0.6901960784313725, \"rgb(242,107,73)\"], [0.7529411764705882, \"rgb(244,135,95)\"], [0.8156862745098039, \"rgb(245,162,122)\"], [0.8784313725490196, \"rgb(246,188,153)\"], [0.9411764705882353, \"rgb(247,212,187)\"], [1.0, \"rgb(250,234,220)\"]], \"type\": \"heatmapgl\"}], \"histogram\": [{\"marker\": {\"colorbar\": {\"outlinewidth\": 0, \"tickcolor\": \"rgb(36,36,36)\", \"ticklen\": 8, \"ticks\": \"outside\", \"tickwidth\": 2}}, \"type\": \"histogram\"}], \"histogram2d\": [{\"colorbar\": {\"outlinewidth\": 0, \"tickcolor\": \"rgb(36,36,36)\", \"ticklen\": 8, \"ticks\": \"outside\", \"tickwidth\": 2}, \"colorscale\": [[0.0, \"rgb(2,4,25)\"], [0.06274509803921569, \"rgb(24,15,41)\"], [0.12549019607843137, \"rgb(47,23,57)\"], [0.18823529411764706, \"rgb(71,28,72)\"], [0.25098039215686274, \"rgb(97,30,82)\"], [0.3137254901960784, \"rgb(123,30,89)\"], [0.3764705882352941, \"rgb(150,27,91)\"], [0.4392156862745098, \"rgb(177,22,88)\"], [0.5019607843137255, \"rgb(203,26,79)\"], [0.5647058823529412, \"rgb(223,47,67)\"], [0.6274509803921569, \"rgb(236,76,61)\"], [0.6901960784313725, \"rgb(242,107,73)\"], [0.7529411764705882, \"rgb(244,135,95)\"], [0.8156862745098039, \"rgb(245,162,122)\"], [0.8784313725490196, \"rgb(246,188,153)\"], [0.9411764705882353, \"rgb(247,212,187)\"], [1.0, \"rgb(250,234,220)\"]], \"type\": \"histogram2d\"}], \"histogram2dcontour\": [{\"colorbar\": {\"outlinewidth\": 0, \"tickcolor\": \"rgb(36,36,36)\", \"ticklen\": 8, \"ticks\": \"outside\", \"tickwidth\": 2}, \"colorscale\": [[0.0, \"rgb(2,4,25)\"], [0.06274509803921569, \"rgb(24,15,41)\"], [0.12549019607843137, \"rgb(47,23,57)\"], [0.18823529411764706, \"rgb(71,28,72)\"], [0.25098039215686274, \"rgb(97,30,82)\"], [0.3137254901960784, \"rgb(123,30,89)\"], [0.3764705882352941, \"rgb(150,27,91)\"], [0.4392156862745098, \"rgb(177,22,88)\"], [0.5019607843137255, \"rgb(203,26,79)\"], [0.5647058823529412, \"rgb(223,47,67)\"], [0.6274509803921569, \"rgb(236,76,61)\"], [0.6901960784313725, \"rgb(242,107,73)\"], [0.7529411764705882, \"rgb(244,135,95)\"], [0.8156862745098039, \"rgb(245,162,122)\"], [0.8784313725490196, \"rgb(246,188,153)\"], [0.9411764705882353, \"rgb(247,212,187)\"], [1.0, \"rgb(250,234,220)\"]], \"type\": \"histogram2dcontour\"}], \"mesh3d\": [{\"colorbar\": {\"outlinewidth\": 0, \"tickcolor\": \"rgb(36,36,36)\", \"ticklen\": 8, \"ticks\": \"outside\", \"tickwidth\": 2}, \"type\": \"mesh3d\"}], \"parcoords\": [{\"line\": {\"colorbar\": {\"outlinewidth\": 0, \"tickcolor\": \"rgb(36,36,36)\", \"ticklen\": 8, \"ticks\": \"outside\", \"tickwidth\": 2}}, \"type\": \"parcoords\"}], \"pie\": [{\"automargin\": true, \"type\": \"pie\"}], \"scatter\": [{\"marker\": {\"colorbar\": {\"outlinewidth\": 0, \"tickcolor\": \"rgb(36,36,36)\", \"ticklen\": 8, \"ticks\": \"outside\", \"tickwidth\": 2}}, \"type\": \"scatter\"}], \"scatter3d\": [{\"line\": {\"colorbar\": {\"outlinewidth\": 0, \"tickcolor\": \"rgb(36,36,36)\", \"ticklen\": 8, \"ticks\": \"outside\", \"tickwidth\": 2}}, \"marker\": {\"colorbar\": {\"outlinewidth\": 0, \"tickcolor\": \"rgb(36,36,36)\", \"ticklen\": 8, \"ticks\": \"outside\", \"tickwidth\": 2}}, \"type\": \"scatter3d\"}], \"scattercarpet\": [{\"marker\": {\"colorbar\": {\"outlinewidth\": 0, \"tickcolor\": \"rgb(36,36,36)\", \"ticklen\": 8, \"ticks\": \"outside\", \"tickwidth\": 2}}, \"type\": \"scattercarpet\"}], \"scattergeo\": [{\"marker\": {\"colorbar\": {\"outlinewidth\": 0, \"tickcolor\": \"rgb(36,36,36)\", \"ticklen\": 8, \"ticks\": \"outside\", \"tickwidth\": 2}}, \"type\": \"scattergeo\"}], \"scattergl\": [{\"marker\": {\"colorbar\": {\"outlinewidth\": 0, \"tickcolor\": \"rgb(36,36,36)\", \"ticklen\": 8, \"ticks\": \"outside\", \"tickwidth\": 2}}, \"type\": \"scattergl\"}], \"scattermapbox\": [{\"marker\": {\"colorbar\": {\"outlinewidth\": 0, \"tickcolor\": \"rgb(36,36,36)\", \"ticklen\": 8, \"ticks\": \"outside\", \"tickwidth\": 2}}, \"type\": \"scattermapbox\"}], \"scatterpolar\": [{\"marker\": {\"colorbar\": {\"outlinewidth\": 0, \"tickcolor\": \"rgb(36,36,36)\", \"ticklen\": 8, \"ticks\": \"outside\", \"tickwidth\": 2}}, \"type\": \"scatterpolar\"}], \"scatterpolargl\": [{\"marker\": {\"colorbar\": {\"outlinewidth\": 0, \"tickcolor\": \"rgb(36,36,36)\", \"ticklen\": 8, \"ticks\": \"outside\", \"tickwidth\": 2}}, \"type\": \"scatterpolargl\"}], \"scatterternary\": [{\"marker\": {\"colorbar\": {\"outlinewidth\": 0, \"tickcolor\": \"rgb(36,36,36)\", \"ticklen\": 8, \"ticks\": \"outside\", \"tickwidth\": 2}}, \"type\": \"scatterternary\"}], \"surface\": [{\"colorbar\": {\"outlinewidth\": 0, \"tickcolor\": \"rgb(36,36,36)\", \"ticklen\": 8, \"ticks\": \"outside\", \"tickwidth\": 2}, \"colorscale\": [[0.0, \"rgb(2,4,25)\"], [0.06274509803921569, \"rgb(24,15,41)\"], [0.12549019607843137, \"rgb(47,23,57)\"], [0.18823529411764706, \"rgb(71,28,72)\"], [0.25098039215686274, \"rgb(97,30,82)\"], [0.3137254901960784, \"rgb(123,30,89)\"], [0.3764705882352941, \"rgb(150,27,91)\"], [0.4392156862745098, \"rgb(177,22,88)\"], [0.5019607843137255, \"rgb(203,26,79)\"], [0.5647058823529412, \"rgb(223,47,67)\"], [0.6274509803921569, \"rgb(236,76,61)\"], [0.6901960784313725, \"rgb(242,107,73)\"], [0.7529411764705882, \"rgb(244,135,95)\"], [0.8156862745098039, \"rgb(245,162,122)\"], [0.8784313725490196, \"rgb(246,188,153)\"], [0.9411764705882353, \"rgb(247,212,187)\"], [1.0, \"rgb(250,234,220)\"]], \"type\": \"surface\"}], \"table\": [{\"cells\": {\"fill\": {\"color\": \"rgb(231,231,240)\"}, \"line\": {\"color\": \"white\"}}, \"header\": {\"fill\": {\"color\": \"rgb(183,183,191)\"}, \"line\": {\"color\": \"white\"}}, \"type\": \"table\"}]}, \"layout\": {\"annotationdefaults\": {\"arrowcolor\": \"rgb(67,103,167)\"}, \"coloraxis\": {\"colorbar\": {\"outlinewidth\": 0, \"tickcolor\": \"rgb(36,36,36)\", \"ticklen\": 8, \"ticks\": \"outside\", \"tickwidth\": 2}}, \"colorscale\": {\"sequential\": [[0.0, \"rgb(2,4,25)\"], [0.06274509803921569, \"rgb(24,15,41)\"], [0.12549019607843137, \"rgb(47,23,57)\"], [0.18823529411764706, \"rgb(71,28,72)\"], [0.25098039215686274, \"rgb(97,30,82)\"], [0.3137254901960784, \"rgb(123,30,89)\"], [0.3764705882352941, \"rgb(150,27,91)\"], [0.4392156862745098, \"rgb(177,22,88)\"], [0.5019607843137255, \"rgb(203,26,79)\"], [0.5647058823529412, \"rgb(223,47,67)\"], [0.6274509803921569, \"rgb(236,76,61)\"], [0.6901960784313725, \"rgb(242,107,73)\"], [0.7529411764705882, \"rgb(244,135,95)\"], [0.8156862745098039, \"rgb(245,162,122)\"], [0.8784313725490196, \"rgb(246,188,153)\"], [0.9411764705882353, \"rgb(247,212,187)\"], [1.0, \"rgb(250,234,220)\"]], \"sequentialminus\": [[0.0, \"rgb(2,4,25)\"], [0.06274509803921569, \"rgb(24,15,41)\"], [0.12549019607843137, \"rgb(47,23,57)\"], [0.18823529411764706, \"rgb(71,28,72)\"], [0.25098039215686274, \"rgb(97,30,82)\"], [0.3137254901960784, \"rgb(123,30,89)\"], [0.3764705882352941, \"rgb(150,27,91)\"], [0.4392156862745098, \"rgb(177,22,88)\"], [0.5019607843137255, \"rgb(203,26,79)\"], [0.5647058823529412, \"rgb(223,47,67)\"], [0.6274509803921569, \"rgb(236,76,61)\"], [0.6901960784313725, \"rgb(242,107,73)\"], [0.7529411764705882, \"rgb(244,135,95)\"], [0.8156862745098039, \"rgb(245,162,122)\"], [0.8784313725490196, \"rgb(246,188,153)\"], [0.9411764705882353, \"rgb(247,212,187)\"], [1.0, \"rgb(250,234,220)\"]]}, \"colorway\": [\"rgb(76,114,176)\", \"rgb(221,132,82)\", \"rgb(85,168,104)\", \"rgb(196,78,82)\", \"rgb(129,114,179)\", \"rgb(147,120,96)\", \"rgb(218,139,195)\", \"rgb(140,140,140)\", \"rgb(204,185,116)\", \"rgb(100,181,205)\"], \"font\": {\"color\": \"rgb(36,36,36)\"}, \"geo\": {\"bgcolor\": \"white\", \"lakecolor\": \"white\", \"landcolor\": \"rgb(234,234,242)\", \"showlakes\": true, \"showland\": true, \"subunitcolor\": \"white\"}, \"hoverlabel\": {\"align\": \"left\"}, \"hovermode\": \"closest\", \"paper_bgcolor\": \"white\", \"plot_bgcolor\": \"rgb(234,234,242)\", \"polar\": {\"angularaxis\": {\"gridcolor\": \"white\", \"linecolor\": \"white\", \"showgrid\": true, \"ticks\": \"\"}, \"bgcolor\": \"rgb(234,234,242)\", \"radialaxis\": {\"gridcolor\": \"white\", \"linecolor\": \"white\", \"showgrid\": true, \"ticks\": \"\"}}, \"scene\": {\"xaxis\": {\"backgroundcolor\": \"rgb(234,234,242)\", \"gridcolor\": \"white\", \"gridwidth\": 2, \"linecolor\": \"white\", \"showbackground\": true, \"showgrid\": true, \"ticks\": \"\", \"zerolinecolor\": \"white\"}, \"yaxis\": {\"backgroundcolor\": \"rgb(234,234,242)\", \"gridcolor\": \"white\", \"gridwidth\": 2, \"linecolor\": \"white\", \"showbackground\": true, \"showgrid\": true, \"ticks\": \"\", \"zerolinecolor\": \"white\"}, \"zaxis\": {\"backgroundcolor\": \"rgb(234,234,242)\", \"gridcolor\": \"white\", \"gridwidth\": 2, \"linecolor\": \"white\", \"showbackground\": true, \"showgrid\": true, \"ticks\": \"\", \"zerolinecolor\": \"white\"}}, \"shapedefaults\": {\"fillcolor\": \"rgb(67,103,167)\", \"line\": {\"width\": 0}, \"opacity\": 0.5}, \"ternary\": {\"aaxis\": {\"gridcolor\": \"white\", \"linecolor\": \"white\", \"showgrid\": true, \"ticks\": \"\"}, \"baxis\": {\"gridcolor\": \"white\", \"linecolor\": \"white\", \"showgrid\": true, \"ticks\": \"\"}, \"bgcolor\": \"rgb(234,234,242)\", \"caxis\": {\"gridcolor\": \"white\", \"linecolor\": \"white\", \"showgrid\": true, \"ticks\": \"\"}}, \"xaxis\": {\"automargin\": true, \"gridcolor\": \"white\", \"linecolor\": \"white\", \"showgrid\": true, \"ticks\": \"\", \"title\": {\"standoff\": 15}, \"zerolinecolor\": \"white\"}, \"yaxis\": {\"automargin\": true, \"gridcolor\": \"white\", \"linecolor\": \"white\", \"showgrid\": true, \"ticks\": \"\", \"title\": {\"standoff\": 15}, \"zerolinecolor\": \"white\"}}}},\n",
              "                        {\"responsive\": true}\n",
              "                    ).then(function(){\n",
              "                            \n",
              "var gd = document.getElementById('2f3b4c51-9cb5-4b63-ac75-afcf47afd6f7');\n",
              "var x = new MutationObserver(function (mutations, observer) {{\n",
              "        var display = window.getComputedStyle(gd).display;\n",
              "        if (!display || display === 'none') {{\n",
              "            console.log([gd, 'removed!']);\n",
              "            Plotly.purge(gd);\n",
              "            observer.disconnect();\n",
              "        }}\n",
              "}});\n",
              "\n",
              "// Listen for the removal of the full notebook cells\n",
              "var notebookContainer = gd.closest('#notebook-container');\n",
              "if (notebookContainer) {{\n",
              "    x.observe(notebookContainer, {childList: true});\n",
              "}}\n",
              "\n",
              "// Listen for the clearing of the current output cell\n",
              "var outputEl = gd.closest('.output');\n",
              "if (outputEl) {{\n",
              "    x.observe(outputEl, {childList: true});\n",
              "}}\n",
              "\n",
              "                        })\n",
              "                };\n",
              "                \n",
              "            </script>\n",
              "        </div>\n",
              "</body>\n",
              "</html>"
            ]
          },
          "metadata": {
            "tags": []
          }
        }
      ]
    },
    {
      "cell_type": "code",
      "metadata": {
        "colab": {
          "base_uri": "https://localhost:8080/",
          "height": 542
        },
        "id": "lYMv6VZKCGR6",
        "outputId": "fee51ec0-aa3a-4aaa-eb5b-c1ccaf15324a"
      },
      "source": [
        "fig = px.pie(data, names='Local', template='seaborn')\n",
        "fig.update_traces(rotation=90, pull=[0.2,0.03,0.1,0.03,0.1], textinfo=\"percent+label\", showlegend=False)\n",
        "fig.show()"
      ],
      "execution_count": 82,
      "outputs": [
        {
          "output_type": "display_data",
          "data": {
            "text/html": [
              "<html>\n",
              "<head><meta charset=\"utf-8\" /></head>\n",
              "<body>\n",
              "    <div>\n",
              "            <script src=\"https://cdnjs.cloudflare.com/ajax/libs/mathjax/2.7.5/MathJax.js?config=TeX-AMS-MML_SVG\"></script><script type=\"text/javascript\">if (window.MathJax) {MathJax.Hub.Config({SVG: {font: \"STIX-Web\"}});}</script>\n",
              "                <script type=\"text/javascript\">window.PlotlyConfig = {MathJaxConfig: 'local'};</script>\n",
              "        <script src=\"https://cdn.plot.ly/plotly-latest.min.js\"></script>    \n",
              "            <div id=\"5f30f3e1-767c-4d5f-8435-97d1c7754ab2\" class=\"plotly-graph-div\" style=\"height:525px; width:100%;\"></div>\n",
              "            <script type=\"text/javascript\">\n",
              "                \n",
              "                    window.PLOTLYENV=window.PLOTLYENV || {};\n",
              "                    \n",
              "                if (document.getElementById(\"5f30f3e1-767c-4d5f-8435-97d1c7754ab2\")) {\n",
              "                    Plotly.newPlot(\n",
              "                        '5f30f3e1-767c-4d5f-8435-97d1c7754ab2',\n",
              "                        [{\"domain\": {\"x\": [0.0, 1.0], \"y\": [0.0, 1.0]}, \"hoverlabel\": {\"namelength\": 0}, \"hovertemplate\": \"Local=%{label}\", \"labels\": [\"Local_01\", \"Local_02\", \"Local_03\", \"Local_04\", \"Local_04\", \"Local_05\", \"Local_05\", \"Local_04\", \"Local_02\", \"Local_06\", \"Local_03\", \"Local_03\", \"Local_05\", \"Local_01\", \"Local_05\", \"Local_05\", \"Local_04\", \"Local_06\", \"Local_06\", \"Local_06\", \"Local_06\", \"Local_03\", \"Local_03\", \"Local_02\", \"Local_06\", \"Local_06\", \"Local_01\", \"Local_03\", \"Local_01\", \"Local_07\", \"Local_03\", \"Local_03\", \"Local_01\", \"Local_04\", \"Local_05\", \"Local_05\", \"Local_01\", \"Local_07\", \"Local_07\", \"Local_01\", \"Local_02\", \"Local_06\", \"Local_01\", \"Local_08\", \"Local_06\", \"Local_03\", \"Local_06\", \"Local_03\", \"Local_04\", \"Local_03\", \"Local_06\", \"Local_03\", \"Local_03\", \"Local_03\", \"Local_07\", \"Local_06\", \"Local_03\", \"Local_04\", \"Local_05\", \"Local_01\", \"Local_08\", \"Local_04\", \"Local_01\", \"Local_05\", \"Local_05\", \"Local_05\", \"Local_03\", \"Local_01\", \"Local_01\", \"Local_04\", \"Local_03\", \"Local_06\", \"Local_08\", \"Local_03\", \"Local_01\", \"Local_01\", \"Local_01\", \"Local_01\", \"Local_10\", \"Local_10\", \"Local_10\", \"Local_03\", \"Local_09\", \"Local_06\", \"Local_05\", \"Local_03\", \"Local_03\", \"Local_01\", \"Local_01\", \"Local_08\", \"Local_04\", \"Local_04\", \"Local_03\", \"Local_03\", \"Local_05\", \"Local_03\", \"Local_02\", \"Local_01\", \"Local_04\", \"Local_05\", \"Local_05\", \"Local_05\", \"Local_04\", \"Local_05\", \"Local_01\", \"Local_03\", \"Local_04\", \"Local_05\", \"Local_10\", \"Local_04\", \"Local_04\", \"Local_05\", \"Local_05\", \"Local_05\", \"Local_08\", \"Local_03\", \"Local_06\", \"Local_01\", \"Local_01\", \"Local_11\", \"Local_03\", \"Local_05\", \"Local_08\", \"Local_06\", \"Local_03\", \"Local_10\", \"Local_04\", \"Local_04\", \"Local_02\", \"Local_10\", \"Local_10\", \"Local_10\", \"Local_05\", \"Local_05\", \"Local_01\", \"Local_04\", \"Local_10\", \"Local_03\", \"Local_06\", \"Local_04\", \"Local_01\", \"Local_03\", \"Local_06\", \"Local_10\", \"Local_10\", \"Local_05\", \"Local_01\", \"Local_03\", \"Local_10\", \"Local_10\", \"Local_10\", \"Local_10\", \"Local_10\", \"Local_10\", \"Local_08\", \"Local_03\", \"Local_01\", \"Local_03\", \"Local_08\", \"Local_01\", \"Local_01\", \"Local_01\", \"Local_03\", \"Local_06\", \"Local_03\", \"Local_01\", \"Local_03\", \"Local_03\", \"Local_06\", \"Local_10\", \"Local_04\", \"Local_05\", \"Local_03\", \"Local_05\", \"Local_03\", \"Local_06\", \"Local_05\", \"Local_12\", \"Local_08\", \"Local_03\", \"Local_03\", \"Local_07\", \"Local_02\", \"Local_05\", \"Local_10\", \"Local_04\", \"Local_08\", \"Local_02\", \"Local_12\", \"Local_03\", \"Local_01\", \"Local_08\", \"Local_01\", \"Local_03\", \"Local_03\", \"Local_05\", \"Local_05\", \"Local_03\", \"Local_01\", \"Local_05\", \"Local_06\", \"Local_08\", \"Local_06\", \"Local_05\", \"Local_03\", \"Local_03\", \"Local_04\", \"Local_06\", \"Local_02\", \"Local_05\", \"Local_07\", \"Local_03\", \"Local_11\", \"Local_05\", \"Local_10\", \"Local_06\", \"Local_05\", \"Local_10\", \"Local_05\", \"Local_06\", \"Local_03\", \"Local_05\", \"Local_01\", \"Local_06\", \"Local_06\", \"Local_04\", \"Local_04\", \"Local_04\", \"Local_04\", \"Local_05\", \"Local_08\", \"Local_03\", \"Local_10\", \"Local_04\", \"Local_03\", \"Local_04\", \"Local_05\", \"Local_02\", \"Local_03\", \"Local_03\", \"Local_03\", \"Local_05\", \"Local_02\", \"Local_01\", \"Local_01\", \"Local_03\", \"Local_03\", \"Local_08\", \"Local_03\", \"Local_04\", \"Local_08\", \"Local_06\", \"Local_06\", \"Local_04\", \"Local_10\", \"Local_06\", \"Local_04\", \"Local_07\", \"Local_03\", \"Local_08\", \"Local_03\", \"Local_03\", \"Local_03\", \"Local_03\", \"Local_01\", \"Local_01\", \"Local_02\", \"Local_04\", \"Local_08\", \"Local_02\", \"Local_04\", \"Local_05\", \"Local_06\", \"Local_05\", \"Local_03\", \"Local_08\", \"Local_04\", \"Local_04\", \"Local_05\", \"Local_01\", \"Local_03\", \"Local_06\", \"Local_05\", \"Local_04\", \"Local_04\", \"Local_06\", \"Local_01\", \"Local_03\", \"Local_08\", \"Local_04\", \"Local_06\", \"Local_05\", \"Local_01\", \"Local_03\", \"Local_10\", \"Local_08\", \"Local_03\", \"Local_03\", \"Local_08\", \"Local_08\", \"Local_06\", \"Local_04\", \"Local_02\", \"Local_02\", \"Local_04\", \"Local_05\", \"Local_10\", \"Local_03\", \"Local_04\", \"Local_01\", \"Local_01\", \"Local_08\", \"Local_01\", \"Local_10\", \"Local_02\", \"Local_10\", \"Local_04\", \"Local_03\", \"Local_03\", \"Local_08\", \"Local_08\", \"Local_04\", \"Local_06\", \"Local_03\", \"Local_06\", \"Local_08\", \"Local_05\", \"Local_05\", \"Local_03\", \"Local_10\", \"Local_03\", \"Local_04\", \"Local_01\", \"Local_01\", \"Local_04\", \"Local_07\", \"Local_01\", \"Local_01\", \"Local_10\", \"Local_01\", \"Local_07\", \"Local_03\", \"Local_02\", \"Local_06\", \"Local_10\", \"Local_10\", \"Local_10\", \"Local_02\", \"Local_04\", \"Local_10\", \"Local_03\", \"Local_01\", \"Local_05\", \"Local_03\", \"Local_10\", \"Local_10\", \"Local_08\", \"Local_03\", \"Local_06\", \"Local_03\", \"Local_10\", \"Local_05\", \"Local_05\", \"Local_05\", \"Local_02\", \"Local_10\", \"Local_06\", \"Local_03\", \"Local_02\", \"Local_10\", \"Local_03\", \"Local_03\", \"Local_07\", \"Local_01\", \"Local_10\", \"Local_04\", \"Local_10\", \"Local_06\", \"Local_10\", \"Local_07\", \"Local_01\", \"Local_03\", \"Local_05\", \"Local_02\", \"Local_05\", \"Local_02\", \"Local_01\", \"Local_07\", \"Local_07\", \"Local_04\", \"Local_05\", \"Local_03\", \"Local_12\", \"Local_07\", \"Local_06\", \"Local_06\", \"Local_04\", \"Local_04\", \"Local_03\", \"Local_12\", \"Local_05\", \"Local_03\", \"Local_06\", \"Local_04\", \"Local_04\", \"Local_06\", \"Local_01\", \"Local_02\", \"Local_03\", \"Local_03\", \"Local_04\", \"Local_01\", \"Local_01\", \"Local_01\", \"Local_03\", \"Local_05\", \"Local_10\", \"Local_10\", \"Local_10\", \"Local_02\", \"Local_04\", \"Local_03\", \"Local_09\", \"Local_05\", \"Local_04\"], \"legendgroup\": \"\", \"name\": \"\", \"pull\": [0.2, 0.03, 0.1, 0.03, 0.1], \"rotation\": 90, \"showlegend\": false, \"textinfo\": \"percent+label\", \"type\": \"pie\"}],\n",
              "                        {\"legend\": {\"tracegroupgap\": 0}, \"margin\": {\"t\": 60}, \"template\": {\"data\": {\"bar\": [{\"error_x\": {\"color\": \"rgb(36,36,36)\"}, \"error_y\": {\"color\": \"rgb(36,36,36)\"}, \"marker\": {\"line\": {\"color\": \"rgb(234,234,242)\", \"width\": 0.5}}, \"type\": \"bar\"}], \"barpolar\": [{\"marker\": {\"line\": {\"color\": \"rgb(234,234,242)\", \"width\": 0.5}}, \"type\": \"barpolar\"}], \"carpet\": [{\"aaxis\": {\"endlinecolor\": \"rgb(36,36,36)\", \"gridcolor\": \"white\", \"linecolor\": \"white\", \"minorgridcolor\": \"white\", \"startlinecolor\": \"rgb(36,36,36)\"}, \"baxis\": {\"endlinecolor\": \"rgb(36,36,36)\", \"gridcolor\": \"white\", \"linecolor\": \"white\", \"minorgridcolor\": \"white\", \"startlinecolor\": \"rgb(36,36,36)\"}, \"type\": \"carpet\"}], \"choropleth\": [{\"colorbar\": {\"outlinewidth\": 0, \"tickcolor\": \"rgb(36,36,36)\", \"ticklen\": 8, \"ticks\": \"outside\", \"tickwidth\": 2}, \"type\": \"choropleth\"}], \"contour\": [{\"colorbar\": {\"outlinewidth\": 0, \"tickcolor\": \"rgb(36,36,36)\", \"ticklen\": 8, \"ticks\": \"outside\", \"tickwidth\": 2}, \"colorscale\": [[0.0, \"rgb(2,4,25)\"], [0.06274509803921569, \"rgb(24,15,41)\"], [0.12549019607843137, \"rgb(47,23,57)\"], [0.18823529411764706, \"rgb(71,28,72)\"], [0.25098039215686274, \"rgb(97,30,82)\"], [0.3137254901960784, \"rgb(123,30,89)\"], [0.3764705882352941, \"rgb(150,27,91)\"], [0.4392156862745098, \"rgb(177,22,88)\"], [0.5019607843137255, \"rgb(203,26,79)\"], [0.5647058823529412, \"rgb(223,47,67)\"], [0.6274509803921569, \"rgb(236,76,61)\"], [0.6901960784313725, \"rgb(242,107,73)\"], [0.7529411764705882, \"rgb(244,135,95)\"], [0.8156862745098039, \"rgb(245,162,122)\"], [0.8784313725490196, \"rgb(246,188,153)\"], [0.9411764705882353, \"rgb(247,212,187)\"], [1.0, \"rgb(250,234,220)\"]], \"type\": \"contour\"}], \"contourcarpet\": [{\"colorbar\": {\"outlinewidth\": 0, \"tickcolor\": \"rgb(36,36,36)\", \"ticklen\": 8, \"ticks\": \"outside\", \"tickwidth\": 2}, \"type\": \"contourcarpet\"}], \"heatmap\": [{\"colorbar\": {\"outlinewidth\": 0, \"tickcolor\": \"rgb(36,36,36)\", \"ticklen\": 8, \"ticks\": \"outside\", \"tickwidth\": 2}, \"colorscale\": [[0.0, \"rgb(2,4,25)\"], [0.06274509803921569, \"rgb(24,15,41)\"], [0.12549019607843137, \"rgb(47,23,57)\"], [0.18823529411764706, \"rgb(71,28,72)\"], [0.25098039215686274, \"rgb(97,30,82)\"], [0.3137254901960784, \"rgb(123,30,89)\"], [0.3764705882352941, \"rgb(150,27,91)\"], [0.4392156862745098, \"rgb(177,22,88)\"], [0.5019607843137255, \"rgb(203,26,79)\"], [0.5647058823529412, \"rgb(223,47,67)\"], [0.6274509803921569, \"rgb(236,76,61)\"], [0.6901960784313725, \"rgb(242,107,73)\"], [0.7529411764705882, \"rgb(244,135,95)\"], [0.8156862745098039, \"rgb(245,162,122)\"], [0.8784313725490196, \"rgb(246,188,153)\"], [0.9411764705882353, \"rgb(247,212,187)\"], [1.0, \"rgb(250,234,220)\"]], \"type\": \"heatmap\"}], \"heatmapgl\": [{\"colorbar\": {\"outlinewidth\": 0, \"tickcolor\": \"rgb(36,36,36)\", \"ticklen\": 8, \"ticks\": \"outside\", \"tickwidth\": 2}, \"colorscale\": [[0.0, \"rgb(2,4,25)\"], [0.06274509803921569, \"rgb(24,15,41)\"], [0.12549019607843137, \"rgb(47,23,57)\"], [0.18823529411764706, \"rgb(71,28,72)\"], [0.25098039215686274, \"rgb(97,30,82)\"], [0.3137254901960784, \"rgb(123,30,89)\"], [0.3764705882352941, \"rgb(150,27,91)\"], [0.4392156862745098, \"rgb(177,22,88)\"], [0.5019607843137255, \"rgb(203,26,79)\"], [0.5647058823529412, \"rgb(223,47,67)\"], [0.6274509803921569, \"rgb(236,76,61)\"], [0.6901960784313725, \"rgb(242,107,73)\"], [0.7529411764705882, \"rgb(244,135,95)\"], [0.8156862745098039, \"rgb(245,162,122)\"], [0.8784313725490196, \"rgb(246,188,153)\"], [0.9411764705882353, \"rgb(247,212,187)\"], [1.0, \"rgb(250,234,220)\"]], \"type\": \"heatmapgl\"}], \"histogram\": [{\"marker\": {\"colorbar\": {\"outlinewidth\": 0, \"tickcolor\": \"rgb(36,36,36)\", \"ticklen\": 8, \"ticks\": \"outside\", \"tickwidth\": 2}}, \"type\": \"histogram\"}], \"histogram2d\": [{\"colorbar\": {\"outlinewidth\": 0, \"tickcolor\": \"rgb(36,36,36)\", \"ticklen\": 8, \"ticks\": \"outside\", \"tickwidth\": 2}, \"colorscale\": [[0.0, \"rgb(2,4,25)\"], [0.06274509803921569, \"rgb(24,15,41)\"], [0.12549019607843137, \"rgb(47,23,57)\"], [0.18823529411764706, \"rgb(71,28,72)\"], [0.25098039215686274, \"rgb(97,30,82)\"], [0.3137254901960784, \"rgb(123,30,89)\"], [0.3764705882352941, \"rgb(150,27,91)\"], [0.4392156862745098, \"rgb(177,22,88)\"], [0.5019607843137255, \"rgb(203,26,79)\"], [0.5647058823529412, \"rgb(223,47,67)\"], [0.6274509803921569, \"rgb(236,76,61)\"], [0.6901960784313725, \"rgb(242,107,73)\"], [0.7529411764705882, \"rgb(244,135,95)\"], [0.8156862745098039, \"rgb(245,162,122)\"], [0.8784313725490196, \"rgb(246,188,153)\"], [0.9411764705882353, \"rgb(247,212,187)\"], [1.0, \"rgb(250,234,220)\"]], \"type\": \"histogram2d\"}], \"histogram2dcontour\": [{\"colorbar\": {\"outlinewidth\": 0, \"tickcolor\": \"rgb(36,36,36)\", \"ticklen\": 8, \"ticks\": \"outside\", \"tickwidth\": 2}, \"colorscale\": [[0.0, \"rgb(2,4,25)\"], [0.06274509803921569, \"rgb(24,15,41)\"], [0.12549019607843137, \"rgb(47,23,57)\"], [0.18823529411764706, \"rgb(71,28,72)\"], [0.25098039215686274, \"rgb(97,30,82)\"], [0.3137254901960784, \"rgb(123,30,89)\"], [0.3764705882352941, \"rgb(150,27,91)\"], [0.4392156862745098, \"rgb(177,22,88)\"], [0.5019607843137255, \"rgb(203,26,79)\"], [0.5647058823529412, \"rgb(223,47,67)\"], [0.6274509803921569, \"rgb(236,76,61)\"], [0.6901960784313725, \"rgb(242,107,73)\"], [0.7529411764705882, \"rgb(244,135,95)\"], [0.8156862745098039, \"rgb(245,162,122)\"], [0.8784313725490196, \"rgb(246,188,153)\"], [0.9411764705882353, \"rgb(247,212,187)\"], [1.0, \"rgb(250,234,220)\"]], \"type\": \"histogram2dcontour\"}], \"mesh3d\": [{\"colorbar\": {\"outlinewidth\": 0, \"tickcolor\": \"rgb(36,36,36)\", \"ticklen\": 8, \"ticks\": \"outside\", \"tickwidth\": 2}, \"type\": \"mesh3d\"}], \"parcoords\": [{\"line\": {\"colorbar\": {\"outlinewidth\": 0, \"tickcolor\": \"rgb(36,36,36)\", \"ticklen\": 8, \"ticks\": \"outside\", \"tickwidth\": 2}}, \"type\": \"parcoords\"}], \"pie\": [{\"automargin\": true, \"type\": \"pie\"}], \"scatter\": [{\"marker\": {\"colorbar\": {\"outlinewidth\": 0, \"tickcolor\": \"rgb(36,36,36)\", \"ticklen\": 8, \"ticks\": \"outside\", \"tickwidth\": 2}}, \"type\": \"scatter\"}], \"scatter3d\": [{\"line\": {\"colorbar\": {\"outlinewidth\": 0, \"tickcolor\": \"rgb(36,36,36)\", \"ticklen\": 8, \"ticks\": \"outside\", \"tickwidth\": 2}}, \"marker\": {\"colorbar\": {\"outlinewidth\": 0, \"tickcolor\": \"rgb(36,36,36)\", \"ticklen\": 8, \"ticks\": \"outside\", \"tickwidth\": 2}}, \"type\": \"scatter3d\"}], \"scattercarpet\": [{\"marker\": {\"colorbar\": {\"outlinewidth\": 0, \"tickcolor\": \"rgb(36,36,36)\", \"ticklen\": 8, \"ticks\": \"outside\", \"tickwidth\": 2}}, \"type\": \"scattercarpet\"}], \"scattergeo\": [{\"marker\": {\"colorbar\": {\"outlinewidth\": 0, \"tickcolor\": \"rgb(36,36,36)\", \"ticklen\": 8, \"ticks\": \"outside\", \"tickwidth\": 2}}, \"type\": \"scattergeo\"}], \"scattergl\": [{\"marker\": {\"colorbar\": {\"outlinewidth\": 0, \"tickcolor\": \"rgb(36,36,36)\", \"ticklen\": 8, \"ticks\": \"outside\", \"tickwidth\": 2}}, \"type\": \"scattergl\"}], \"scattermapbox\": [{\"marker\": {\"colorbar\": {\"outlinewidth\": 0, \"tickcolor\": \"rgb(36,36,36)\", \"ticklen\": 8, \"ticks\": \"outside\", \"tickwidth\": 2}}, \"type\": \"scattermapbox\"}], \"scatterpolar\": [{\"marker\": {\"colorbar\": {\"outlinewidth\": 0, \"tickcolor\": \"rgb(36,36,36)\", \"ticklen\": 8, \"ticks\": \"outside\", \"tickwidth\": 2}}, \"type\": \"scatterpolar\"}], \"scatterpolargl\": [{\"marker\": {\"colorbar\": {\"outlinewidth\": 0, \"tickcolor\": \"rgb(36,36,36)\", \"ticklen\": 8, \"ticks\": \"outside\", \"tickwidth\": 2}}, \"type\": \"scatterpolargl\"}], \"scatterternary\": [{\"marker\": {\"colorbar\": {\"outlinewidth\": 0, \"tickcolor\": \"rgb(36,36,36)\", \"ticklen\": 8, \"ticks\": \"outside\", \"tickwidth\": 2}}, \"type\": \"scatterternary\"}], \"surface\": [{\"colorbar\": {\"outlinewidth\": 0, \"tickcolor\": \"rgb(36,36,36)\", \"ticklen\": 8, \"ticks\": \"outside\", \"tickwidth\": 2}, \"colorscale\": [[0.0, \"rgb(2,4,25)\"], [0.06274509803921569, \"rgb(24,15,41)\"], [0.12549019607843137, \"rgb(47,23,57)\"], [0.18823529411764706, \"rgb(71,28,72)\"], [0.25098039215686274, \"rgb(97,30,82)\"], [0.3137254901960784, \"rgb(123,30,89)\"], [0.3764705882352941, \"rgb(150,27,91)\"], [0.4392156862745098, \"rgb(177,22,88)\"], [0.5019607843137255, \"rgb(203,26,79)\"], [0.5647058823529412, \"rgb(223,47,67)\"], [0.6274509803921569, \"rgb(236,76,61)\"], [0.6901960784313725, \"rgb(242,107,73)\"], [0.7529411764705882, \"rgb(244,135,95)\"], [0.8156862745098039, \"rgb(245,162,122)\"], [0.8784313725490196, \"rgb(246,188,153)\"], [0.9411764705882353, \"rgb(247,212,187)\"], [1.0, \"rgb(250,234,220)\"]], \"type\": \"surface\"}], \"table\": [{\"cells\": {\"fill\": {\"color\": \"rgb(231,231,240)\"}, \"line\": {\"color\": \"white\"}}, \"header\": {\"fill\": {\"color\": \"rgb(183,183,191)\"}, \"line\": {\"color\": \"white\"}}, \"type\": \"table\"}]}, \"layout\": {\"annotationdefaults\": {\"arrowcolor\": \"rgb(67,103,167)\"}, \"coloraxis\": {\"colorbar\": {\"outlinewidth\": 0, \"tickcolor\": \"rgb(36,36,36)\", \"ticklen\": 8, \"ticks\": \"outside\", \"tickwidth\": 2}}, \"colorscale\": {\"sequential\": [[0.0, \"rgb(2,4,25)\"], [0.06274509803921569, \"rgb(24,15,41)\"], [0.12549019607843137, \"rgb(47,23,57)\"], [0.18823529411764706, \"rgb(71,28,72)\"], [0.25098039215686274, \"rgb(97,30,82)\"], [0.3137254901960784, \"rgb(123,30,89)\"], [0.3764705882352941, \"rgb(150,27,91)\"], [0.4392156862745098, \"rgb(177,22,88)\"], [0.5019607843137255, \"rgb(203,26,79)\"], [0.5647058823529412, \"rgb(223,47,67)\"], [0.6274509803921569, \"rgb(236,76,61)\"], [0.6901960784313725, \"rgb(242,107,73)\"], [0.7529411764705882, \"rgb(244,135,95)\"], [0.8156862745098039, \"rgb(245,162,122)\"], [0.8784313725490196, \"rgb(246,188,153)\"], [0.9411764705882353, \"rgb(247,212,187)\"], [1.0, \"rgb(250,234,220)\"]], \"sequentialminus\": [[0.0, \"rgb(2,4,25)\"], [0.06274509803921569, \"rgb(24,15,41)\"], [0.12549019607843137, \"rgb(47,23,57)\"], [0.18823529411764706, \"rgb(71,28,72)\"], [0.25098039215686274, \"rgb(97,30,82)\"], [0.3137254901960784, \"rgb(123,30,89)\"], [0.3764705882352941, \"rgb(150,27,91)\"], [0.4392156862745098, \"rgb(177,22,88)\"], [0.5019607843137255, \"rgb(203,26,79)\"], [0.5647058823529412, \"rgb(223,47,67)\"], [0.6274509803921569, \"rgb(236,76,61)\"], [0.6901960784313725, \"rgb(242,107,73)\"], [0.7529411764705882, \"rgb(244,135,95)\"], [0.8156862745098039, \"rgb(245,162,122)\"], [0.8784313725490196, \"rgb(246,188,153)\"], [0.9411764705882353, \"rgb(247,212,187)\"], [1.0, \"rgb(250,234,220)\"]]}, \"colorway\": [\"rgb(76,114,176)\", \"rgb(221,132,82)\", \"rgb(85,168,104)\", \"rgb(196,78,82)\", \"rgb(129,114,179)\", \"rgb(147,120,96)\", \"rgb(218,139,195)\", \"rgb(140,140,140)\", \"rgb(204,185,116)\", \"rgb(100,181,205)\"], \"font\": {\"color\": \"rgb(36,36,36)\"}, \"geo\": {\"bgcolor\": \"white\", \"lakecolor\": \"white\", \"landcolor\": \"rgb(234,234,242)\", \"showlakes\": true, \"showland\": true, \"subunitcolor\": \"white\"}, \"hoverlabel\": {\"align\": \"left\"}, \"hovermode\": \"closest\", \"paper_bgcolor\": \"white\", \"plot_bgcolor\": \"rgb(234,234,242)\", \"polar\": {\"angularaxis\": {\"gridcolor\": \"white\", \"linecolor\": \"white\", \"showgrid\": true, \"ticks\": \"\"}, \"bgcolor\": \"rgb(234,234,242)\", \"radialaxis\": {\"gridcolor\": \"white\", \"linecolor\": \"white\", \"showgrid\": true, \"ticks\": \"\"}}, \"scene\": {\"xaxis\": {\"backgroundcolor\": \"rgb(234,234,242)\", \"gridcolor\": \"white\", \"gridwidth\": 2, \"linecolor\": \"white\", \"showbackground\": true, \"showgrid\": true, \"ticks\": \"\", \"zerolinecolor\": \"white\"}, \"yaxis\": {\"backgroundcolor\": \"rgb(234,234,242)\", \"gridcolor\": \"white\", \"gridwidth\": 2, \"linecolor\": \"white\", \"showbackground\": true, \"showgrid\": true, \"ticks\": \"\", \"zerolinecolor\": \"white\"}, \"zaxis\": {\"backgroundcolor\": \"rgb(234,234,242)\", \"gridcolor\": \"white\", \"gridwidth\": 2, \"linecolor\": \"white\", \"showbackground\": true, \"showgrid\": true, \"ticks\": \"\", \"zerolinecolor\": \"white\"}}, \"shapedefaults\": {\"fillcolor\": \"rgb(67,103,167)\", \"line\": {\"width\": 0}, \"opacity\": 0.5}, \"ternary\": {\"aaxis\": {\"gridcolor\": \"white\", \"linecolor\": \"white\", \"showgrid\": true, \"ticks\": \"\"}, \"baxis\": {\"gridcolor\": \"white\", \"linecolor\": \"white\", \"showgrid\": true, \"ticks\": \"\"}, \"bgcolor\": \"rgb(234,234,242)\", \"caxis\": {\"gridcolor\": \"white\", \"linecolor\": \"white\", \"showgrid\": true, \"ticks\": \"\"}}, \"xaxis\": {\"automargin\": true, \"gridcolor\": \"white\", \"linecolor\": \"white\", \"showgrid\": true, \"ticks\": \"\", \"title\": {\"standoff\": 15}, \"zerolinecolor\": \"white\"}, \"yaxis\": {\"automargin\": true, \"gridcolor\": \"white\", \"linecolor\": \"white\", \"showgrid\": true, \"ticks\": \"\", \"title\": {\"standoff\": 15}, \"zerolinecolor\": \"white\"}}}},\n",
              "                        {\"responsive\": true}\n",
              "                    ).then(function(){\n",
              "                            \n",
              "var gd = document.getElementById('5f30f3e1-767c-4d5f-8435-97d1c7754ab2');\n",
              "var x = new MutationObserver(function (mutations, observer) {{\n",
              "        var display = window.getComputedStyle(gd).display;\n",
              "        if (!display || display === 'none') {{\n",
              "            console.log([gd, 'removed!']);\n",
              "            Plotly.purge(gd);\n",
              "            observer.disconnect();\n",
              "        }}\n",
              "}});\n",
              "\n",
              "// Listen for the removal of the full notebook cells\n",
              "var notebookContainer = gd.closest('#notebook-container');\n",
              "if (notebookContainer) {{\n",
              "    x.observe(notebookContainer, {childList: true});\n",
              "}}\n",
              "\n",
              "// Listen for the clearing of the current output cell\n",
              "var outputEl = gd.closest('.output');\n",
              "if (outputEl) {{\n",
              "    x.observe(outputEl, {childList: true});\n",
              "}}\n",
              "\n",
              "                        })\n",
              "                };\n",
              "                \n",
              "            </script>\n",
              "        </div>\n",
              "</body>\n",
              "</html>"
            ]
          },
          "metadata": {
            "tags": []
          }
        }
      ]
    },
    {
      "cell_type": "markdown",
      "metadata": {
        "id": "D91l7GYfCGR7"
      },
      "source": [
        "# Multivariate Analysis"
      ]
    },
    {
      "cell_type": "code",
      "metadata": {
        "id": "hJYgyCL2CGR7"
      },
      "source": [
        "# Helper function for relation between Accident Level/Potential Accident levels and other labels\n",
        "def target_count(df, col1):\n",
        "    fig = plt.figure(figsize = (15, 7.2))\n",
        "    ax = fig.add_subplot(121)\n",
        "    sns.countplot(x = col1, data = df, ax = ax, orient = 'v',\n",
        "                  hue = 'Accident Level').set_title(col1.capitalize() +' count plot by Accident Level', \n",
        "                                                                      fontsize = 13)\n",
        "    plt.legend(labels = df['Accident Level'].unique())\n",
        "    plt.xticks(rotation = 90)\n",
        "    \n",
        "    ax = fig.add_subplot(122)\n",
        "    sns.countplot(x = col1, data = df, ax = ax, orient = 'v', \n",
        "                  hue = 'Potential Accident Level').set_title(col1.capitalize() +' count plot by Potential Accident Level', \n",
        "                                                                      fontsize = 13)\n",
        "    plt.legend(labels = df['Potential Accident Level'].unique())\n",
        "    plt.xticks(rotation = 90)\n",
        "    return plt.show()"
      ],
      "execution_count": 83,
      "outputs": []
    },
    {
      "cell_type": "code",
      "metadata": {
        "colab": {
          "base_uri": "https://localhost:8080/",
          "height": 525
        },
        "id": "YVmor7xhCGR7",
        "outputId": "a768160f-a34a-427a-a0c4-85d6be4f9294"
      },
      "source": [
        "# Gender w.r.t Accident Level and Potential Accident Level\n",
        "target_count(data, 'Gender')"
      ],
      "execution_count": 84,
      "outputs": [
        {
          "output_type": "display_data",
          "data": {
            "image/png": "[encoded data removed]",
            "text/plain": [
              "<Figure size 1080x518.4 with 2 Axes>"
            ]
          },
          "metadata": {
            "tags": []
          }
        }
      ]
    },
    {
      "cell_type": "code",
      "metadata": {
        "colab": {
          "base_uri": "https://localhost:8080/",
          "height": 585
        },
        "id": "XKDyHa1XCGR8",
        "outputId": "f770894d-5e18-438f-f72e-b722ddfdbc3f"
      },
      "source": [
        "target_count(data, 'Employee type')"
      ],
      "execution_count": 85,
      "outputs": [
        {
          "output_type": "display_data",
          "data": {
            "image/png": "[encoded data removed]",
            "text/plain": [
              "<Figure size 1080x518.4 with 2 Axes>"
            ]
          },
          "metadata": {
            "tags": []
          }
        }
      ]
    },
    {
      "cell_type": "code",
      "metadata": {
        "colab": {
          "base_uri": "https://localhost:8080/",
          "height": 522
        },
        "id": "K0c1Waj6CGR8",
        "outputId": "229aae1f-7800-48c3-bd0f-9bfafa1fad39"
      },
      "source": [
        "target_count(data, 'Industry Sector')"
      ],
      "execution_count": 86,
      "outputs": [
        {
          "output_type": "display_data",
          "data": {
            "image/png": "[encoded data removed]",
            "text/plain": [
              "<Figure size 1080x518.4 with 2 Axes>"
            ]
          },
          "metadata": {
            "tags": []
          }
        }
      ]
    },
    {
      "cell_type": "code",
      "metadata": {
        "colab": {
          "base_uri": "https://localhost:8080/",
          "height": 544
        },
        "id": "bds5AoUQCGR8",
        "outputId": "e7e914b0-2b4d-4ed0-dfe3-1923859d68ee"
      },
      "source": [
        "target_count(data, 'Country')"
      ],
      "execution_count": 87,
      "outputs": [
        {
          "output_type": "display_data",
          "data": {
            "image/png": "[encoded data removed]",
            "text/plain": [
              "<Figure size 1080x518.4 with 2 Axes>"
            ]
          },
          "metadata": {
            "tags": []
          }
        }
      ]
    },
    {
      "cell_type": "code",
      "metadata": {
        "colab": {
          "base_uri": "https://localhost:8080/",
          "height": 503
        },
        "id": "i5TbB4EzCGR8",
        "outputId": "06a42b6e-3450-4812-9fac-f0d81538d8e4"
      },
      "source": [
        "target_count(data, 'Month')"
      ],
      "execution_count": 88,
      "outputs": [
        {
          "output_type": "display_data",
          "data": {
            "image/png": "[encoded data removed]",
            "text/plain": [
              "<Figure size 1080x518.4 with 2 Axes>"
            ]
          },
          "metadata": {
            "tags": []
          }
        }
      ]
    },
    {
      "cell_type": "code",
      "metadata": {
        "colab": {
          "base_uri": "https://localhost:8080/",
          "height": 526
        },
        "id": "1swzOCmoCGR9",
        "outputId": "95c14b5d-6d5e-473e-c696-63508f91ebb6"
      },
      "source": [
        "target_count(data, 'Quarter')"
      ],
      "execution_count": 89,
      "outputs": [
        {
          "output_type": "display_data",
          "data": {
            "image/png": "[encoded data removed]",
            "text/plain": [
              "<Figure size 1080x518.4 with 2 Axes>"
            ]
          },
          "metadata": {
            "tags": []
          }
        }
      ]
    },
    {
      "cell_type": "code",
      "metadata": {
        "colab": {
          "base_uri": "https://localhost:8080/",
          "height": 514
        },
        "id": "_RQgQf1HCGR9",
        "outputId": "21154790-6333-48ef-c518-32aa290f842f"
      },
      "source": [
        "target_count(data, 'Year')"
      ],
      "execution_count": 90,
      "outputs": [
        {
          "output_type": "display_data",
          "data": {
            "image/png": "[encoded data removed]",
            "text/plain": [
              "<Figure size 1080x518.4 with 2 Axes>"
            ]
          },
          "metadata": {
            "tags": []
          }
        }
      ]
    },
    {
      "cell_type": "code",
      "metadata": {
        "colab": {
          "base_uri": "https://localhost:8080/",
          "height": 544
        },
        "id": "OPPuyzfuCGR9",
        "outputId": "0dd547d1-2747-4d1a-83da-b25f13aaa4fa"
      },
      "source": [
        "target_count(data, 'Weekday')"
      ],
      "execution_count": 91,
      "outputs": [
        {
          "output_type": "display_data",
          "data": {
            "image/png": "[encoded data removed]",
            "text/plain": [
              "<Figure size 1080x518.4 with 2 Axes>"
            ]
          },
          "metadata": {
            "tags": []
          }
        }
      ]
    },
    {
      "cell_type": "code",
      "metadata": {
        "id": "3ji1WsaxCGR9"
      },
      "source": [
        "# Analyse Coutnry and Employee Type"
      ],
      "execution_count": 92,
      "outputs": []
    },
    {
      "cell_type": "code",
      "metadata": {
        "colab": {
          "base_uri": "https://localhost:8080/",
          "height": 317
        },
        "id": "C_cT7I5mCGR-",
        "outputId": "3980fee7-8223-4b2a-cd6f-ae2a81ed0a13"
      },
      "source": [
        "sns.countplot(x=\"Country\", data=data, hue=\"Employee type\")"
      ],
      "execution_count": 93,
      "outputs": [
        {
          "output_type": "execute_result",
          "data": {
            "text/plain": [
              "<matplotlib.axes._subplots.AxesSubplot at 0x7fdc61d9b940>"
            ]
          },
          "metadata": {
            "tags": []
          },
          "execution_count": 93
        },
        {
          "output_type": "display_data",
          "data": {
            "image/png": "[encoded data removed]",
            "text/plain": [
              "<Figure size 432x288 with 1 Axes>"
            ]
          },
          "metadata": {
            "tags": []
          }
        }
      ]
    },
    {
      "cell_type": "code",
      "metadata": {
        "colab": {
          "base_uri": "https://localhost:8080/",
          "height": 317
        },
        "id": "joB7Px4sCGR-",
        "outputId": "9a19e723-d227-41d2-b8ce-9b3f1dfc2fa8"
      },
      "source": [
        "sns.countplot(x=\"Country\", data=data, hue=\"Industry Sector\")"
      ],
      "execution_count": 94,
      "outputs": [
        {
          "output_type": "execute_result",
          "data": {
            "text/plain": [
              "<matplotlib.axes._subplots.AxesSubplot at 0x7fdc61cd0588>"
            ]
          },
          "metadata": {
            "tags": []
          },
          "execution_count": 94
        },
        {
          "output_type": "display_data",
          "data": {
            "image/png": "[encoded data removed]",
            "text/plain": [
              "<Figure size 432x288 with 1 Axes>"
            ]
          },
          "metadata": {
            "tags": []
          }
        }
      ]
    },
    {
      "cell_type": "code",
      "metadata": {
        "colab": {
          "base_uri": "https://localhost:8080/",
          "height": 317
        },
        "id": "UxusW5BeCGR-",
        "outputId": "8df53269-cbdf-4575-bb67-1b2e05453232"
      },
      "source": [
        "sns.countplot(x=\"Country\", data=data,hue=\"Gender\")"
      ],
      "execution_count": 95,
      "outputs": [
        {
          "output_type": "execute_result",
          "data": {
            "text/plain": [
              "<matplotlib.axes._subplots.AxesSubplot at 0x7fdc61cd0f60>"
            ]
          },
          "metadata": {
            "tags": []
          },
          "execution_count": 95
        },
        {
          "output_type": "display_data",
          "data": {
            "image/png": "[encoded data removed]",
            "text/plain": [
              "<Figure size 432x288 with 1 Axes>"
            ]
          },
          "metadata": {
            "tags": []
          }
        }
      ]
    },
    {
      "cell_type": "code",
      "metadata": {
        "colab": {
          "base_uri": "https://localhost:8080/",
          "height": 317
        },
        "id": "Zf_bX_QJCGR-",
        "outputId": "c98591be-ad3d-49b6-b4a4-4e50b31d59b7"
      },
      "source": [
        "sns.countplot(x=\"Employee type\", data=data,hue=\"Gender\")"
      ],
      "execution_count": 96,
      "outputs": [
        {
          "output_type": "execute_result",
          "data": {
            "text/plain": [
              "<matplotlib.axes._subplots.AxesSubplot at 0x7fdc61d59198>"
            ]
          },
          "metadata": {
            "tags": []
          },
          "execution_count": 96
        },
        {
          "output_type": "display_data",
          "data": {
            "image/png": "[encoded data removed]",
            "text/plain": [
              "<Figure size 432x288 with 1 Axes>"
            ]
          },
          "metadata": {
            "tags": []
          }
        }
      ]
    },
    {
      "cell_type": "code",
      "metadata": {
        "colab": {
          "base_uri": "https://localhost:8080/",
          "height": 667
        },
        "id": "DuiqtdvGCGR_",
        "outputId": "8ce1fb45-ad09-4884-cada-9e60873253f5"
      },
      "source": [
        "fig,axs = plt.subplots(nrows=2,ncols=2,figsize=(15,10))\n",
        "sns.countplot(x=data['Year'],hue='Industry Sector',data=data,ax=axs[0][0])\n",
        "sns.countplot(x=data['Year'],hue='Accident Level',data=data,ax=axs[0][1])\n",
        "sns.countplot(x=data['Industry Sector'],hue='Accident Level',data=data,ax=axs[1][0])\n",
        "sns.countplot(x=data['Accident Level'],hue='Industry Sector',data=data,ax=axs[1][1])"
      ],
      "execution_count": 97,
      "outputs": [
        {
          "output_type": "execute_result",
          "data": {
            "text/plain": [
              "<matplotlib.axes._subplots.AxesSubplot at 0x7fdc629b5470>"
            ]
          },
          "metadata": {
            "tags": []
          },
          "execution_count": 97
        },
        {
          "output_type": "display_data",
          "data": {
            "image/png": "[encoded data removed]",
            "text/plain": [
              "<Figure size 1080x720 with 4 Axes>"
            ]
          },
          "metadata": {
            "tags": []
          }
        }
      ]
    },
    {
      "cell_type": "code",
      "metadata": {
        "id": "7Z9U8eRjCGR_"
      },
      "source": [
        ""
      ],
      "execution_count": 97,
      "outputs": []
    },
    {
      "cell_type": "code",
      "metadata": {
        "colab": {
          "base_uri": "https://localhost:8080/",
          "height": 298
        },
        "id": "FsQO7HEQCGR_",
        "outputId": "dda5893c-ee85-4c10-ce3a-382000a4c097"
      },
      "source": [
        "# Analyse Text Statistics\r\n",
        "data['Description'].str.len().hist() # number of characters in each sentence"
      ],
      "execution_count": 98,
      "outputs": [
        {
          "output_type": "execute_result",
          "data": {
            "text/plain": [
              "<matplotlib.axes._subplots.AxesSubplot at 0x7fdc62cf6358>"
            ]
          },
          "metadata": {
            "tags": []
          },
          "execution_count": 98
        },
        {
          "output_type": "display_data",
          "data": {
            "image/png": "[encoded data removed]",
            "text/plain": [
              "<Figure size 432x288 with 1 Axes>"
            ]
          },
          "metadata": {
            "tags": []
          }
        }
      ]
    },
    {
      "cell_type": "code",
      "metadata": {
        "id": "-UYMzjGrCGR_"
      },
      "source": [
        ""
      ],
      "execution_count": 98,
      "outputs": []
    },
    {
      "cell_type": "code",
      "metadata": {
        "colab": {
          "base_uri": "https://localhost:8080/",
          "height": 298
        },
        "id": "A4Mkuka5CGSA",
        "outputId": "f26a2fc5-d0f6-46e7-ffaf-66a562e72a81"
      },
      "source": [
        "# Number of words in each description\r\n",
        "data['Description'].str.split().map(lambda x: len(x)).hist()"
      ],
      "execution_count": 99,
      "outputs": [
        {
          "output_type": "execute_result",
          "data": {
            "text/plain": [
              "<matplotlib.axes._subplots.AxesSubplot at 0x7fdc61de6cf8>"
            ]
          },
          "metadata": {
            "tags": []
          },
          "execution_count": 99
        },
        {
          "output_type": "display_data",
          "data": {
            "image/png": "[encoded data removed]",
            "text/plain": [
              "<Figure size 432x288 with 1 Axes>"
            ]
          },
          "metadata": {
            "tags": []
          }
        }
      ]
    },
    {
      "cell_type": "code",
      "metadata": {
        "colab": {
          "base_uri": "https://localhost:8080/",
          "height": 298
        },
        "id": "WWT8YbqxCGSA",
        "outputId": "46dc9642-8ff0-45e4-ce4e-fd2392475ddc"
      },
      "source": [
        "# Average Word Length\n",
        "data['Description'].str.split().apply(lambda x : [len(i) for i in x]). \\\n",
        "   map(lambda x: np.mean(x)).hist()"
      ],
      "execution_count": 100,
      "outputs": [
        {
          "output_type": "execute_result",
          "data": {
            "text/plain": [
              "<matplotlib.axes._subplots.AxesSubplot at 0x7fdc61ec9208>"
            ]
          },
          "metadata": {
            "tags": []
          },
          "execution_count": 100
        },
        {
          "output_type": "display_data",
          "data": {
            "image/png": "[encoded data removed]",
            "text/plain": [
              "<Figure size 432x288 with 1 Axes>"
            ]
          },
          "metadata": {
            "tags": []
          }
        }
      ]
    },
    {
      "cell_type": "markdown",
      "metadata": {
        "id": "vP1w6uxpCGSA"
      },
      "source": [
        "# Next steps towards stopword and other text analysis"
      ]
    },
    {
      "cell_type": "code",
      "metadata": {
        "colab": {
          "base_uri": "https://localhost:8080/"
        },
        "id": "JliGGwYlCGSA",
        "outputId": "f0f8a1ca-b1ca-4738-bae8-7b3a38205667"
      },
      "source": [
        "data.columns"
      ],
      "execution_count": 101,
      "outputs": [
        {
          "output_type": "execute_result",
          "data": {
            "text/plain": [
              "Index(['Unnamed: 0', 'Date', 'Country', 'Local', 'Industry Sector',\n",
              "       'Accident Level', 'Potential Accident Level', 'Gender', 'Employee type',\n",
              "       'Critical Risk', 'Description', 'Year', 'Month', 'Day', 'Weekday',\n",
              "       'Quarter'],\n",
              "      dtype='object')"
            ]
          },
          "metadata": {
            "tags": []
          },
          "execution_count": 101
        }
      ]
    },
    {
      "cell_type": "code",
      "metadata": {
        "colab": {
          "base_uri": "https://localhost:8080/"
        },
        "id": "rPW98QlAZV2B",
        "outputId": "8485978a-03b8-498e-baf6-e70602ac9d1c"
      },
      "source": [
        "print(\"*\"*30)\r\n",
        "print(\"Droping unwanted coulmns\")\r\n",
        "data = data.drop(data.columns[[0]],axis=1)\r\n"
      ],
      "execution_count": 102,
      "outputs": [
        {
          "output_type": "stream",
          "text": [
            "******************************\n",
            "Droping unwanted coulmns\n"
          ],
          "name": "stdout"
        }
      ]
    },
    {
      "cell_type": "code",
      "metadata": {
        "colab": {
          "base_uri": "https://localhost:8080/"
        },
        "id": "sDkyb18zZqcD",
        "outputId": "c97ed3fe-c69b-4515-d922-64496eb93da7"
      },
      "source": [
        "# Removing punctuations\r\n",
        "def punct_remover(data):\r\n",
        "  data= data.apply(lambda x: x.translate(str.maketrans('', '', string.punctuation)))\r\n",
        "  print(f'punctuations {string.punctuation} removed from Description coulmn')\r\n",
        "  return data\r\n",
        "\r\n",
        "# Contractions expension\r\n",
        "def contaction_exp(data):\r\n",
        "  data = data.apply(lambda x: contractions.fix(x))\r\n",
        "  print(\"contractions expension on the Description column completed\")\r\n",
        "  return data\r\n",
        "\r\n",
        "# Convert text to lowercase\r\n",
        "def to_lower(data):\r\n",
        "  data = data.apply(lambda x: x.lower())\r\n",
        "  print(\"Converted Description to lowercase\")\r\n",
        "  return data\r\n",
        "\r\n",
        "#Remove single letter word\r\n",
        "def rm_singles(data):\r\n",
        "  data = data.apply(lambda x:re.sub(r'\\b\\w{1}\\b',\"\",x ,flags=re.I))\r\n",
        "  print(\"Removed the single letter from the Description column data\")\r\n",
        "  return data\r\n",
        "\r\n",
        "#Remove NA\r\n",
        "def rm_na(data):\r\n",
        "  data = data.apply(lambda x:re.sub(r'\\bNA\\b',\"\",x ,flags=re.I))\r\n",
        "  print(\"Removed the NA from the Description column data\")\r\n",
        "  return data\r\n",
        "\r\n",
        "\r\n",
        "#Removing the email addresses\r\n",
        "def rm_emails(data):\r\n",
        "  data = data.apply(lambda x: re.sub(r\"\\S+@\\S+\", \"\",x ,flags=re.I))\r\n",
        "  print(\"Removed email id from the Description column data\")\r\n",
        "  return data\r\n",
        "\r\n",
        "#Remove all date formats \r\n",
        "#pattern_str=\"^(?:\\d{1,2}(?:(?:-|/)|(?:th|st|nd|rd)?\\s))?(?:(?:(?:Jan(?:uary)?|Feb(?:ruary)?|Mar(?:ch)?|Apr(?:il)?|May|Jun(?:e)?|Jul(?:y)?|Aug(?:ust)?|Sep(?:tember)?|Oct(?:ober)?|Nov(?:ember)?|Dec(?:ember)?)(?:(?:-|/)|(?:,|\\.)?\\s)?)?(?:\\d{1,2}(?:(?:-|/)|(?:th|st|nd|rd)?\\s))?)(?:\\d{2,4})$\"\r\n",
        "def rm_date_format(data):\r\n",
        "  data = data.apply(lambda x: re.sub(r\"^(?:\\d{1,2}(?:(?:-|/)|(?:th|st|nd|rd)?\\s))?(?:(?:(?:Jan(?:uary)?|Feb(?:ruary)?|Mar(?:ch)?|Apr(?:il)?|May|Jun(?:e)?|Jul(?:y)?|Aug(?:ust)?|Sep(?:tember)?|Oct(?:ober)?|Nov(?:ember)?|Dec(?:ember)?)(?:(?:-|/)|(?:,|\\.)?\\s)?)?(?:\\d{1,2}(?:(?:-|/)|(?:th|st|nd|rd)?\\s))?)(?:\\d{2,4})$\", \"\",x ,flags=re.I))\r\n",
        "  print(\"Removed date from the Description column data\")\r\n",
        "  return data\r\n",
        "\r\n",
        "#Remove digits\r\n",
        "def rm_digit(data):\r\n",
        "  data = data.apply(lambda x: re.sub(r\"\\d\", \"\",x ,flags=re.I))\r\n",
        "  print(\"Removed digits from the Description column data\")\r\n",
        "  return data\r\n",
        "\r\n",
        "# Strip unwanted spaces\r\n",
        "def rm_unwanted_spaces(data):\r\n",
        "  data = data.apply(lambda x: re.sub(' +', ' ', x))\r\n",
        "  print(\"Striped unwanted spaces from the Description column data\")\r\n",
        "  return data\r\n",
        "\r\n",
        "# Removing stopwords\r\n",
        "import nltk\r\n",
        "nltk.download('stopwords')\r\n",
        "from nltk.corpus import stopwords\r\n",
        "stopwords = set(stopwords.words('english'))\r\n",
        "def rm_stopwords(data):\r\n",
        "  data = data.apply(lambda x: ' '.join([word for word in x.split() if word not in stopwords]))\r\n",
        "  print(\"Removed the stopwords in the Description column\")\r\n",
        "  return data"
      ],
      "execution_count": 103,
      "outputs": [
        {
          "output_type": "stream",
          "text": [
            "[nltk_data] Downloading package stopwords to /root/nltk_data...\n",
            "[nltk_data]   Unzipping corpora/stopwords.zip.\n"
          ],
          "name": "stdout"
        }
      ]
    },
    {
      "cell_type": "code",
      "metadata": {
        "id": "FFcKq41Zx6c8",
        "outputId": "6be36585-33db-413e-ceb4-6c4aab89e849",
        "colab": {
          "base_uri": "https://localhost:8080/"
        }
      },
      "source": [
        ""
      ],
      "execution_count": 106,
      "outputs": [
        {
          "output_type": "stream",
          "text": [
            "Converted Description to lowercase\n",
            "Removed the stopwords in the Description column\n"
          ],
          "name": "stdout"
        },
        {
          "output_type": "execute_result",
          "data": {
            "text/plain": [
              "causing          166\n",
              "left             155\n",
              "right            153\n",
              "employee         141\n",
              "hand             117\n",
              "operator         117\n",
              "time              99\n",
              "-                 87\n",
              "one               79\n",
              "activity          68\n",
              "moment            68\n",
              "level             65\n",
              "finger            64\n",
              "collaborator      62\n",
              "injury.           61\n",
              "assistant         58\n",
              "work              58\n",
              "worker            56\n",
              "equipment         55\n",
              "rock              54\n",
              "pipe              54\n",
              "mr.               54\n",
              "accident          53\n",
              "support           53\n",
              "safety            52\n",
              "area              46\n",
              "mesh              43\n",
              "injury            42\n",
              "used              42\n",
              "floor             42\n",
              "part              41\n",
              "metal             41\n",
              "height            41\n",
              "circumstances     39\n",
              "towards           39\n",
              "hit               38\n",
              "medical           38\n",
              "performing        37\n",
              "side              36\n",
              "team              36\n",
              "two               36\n",
              "using             36\n",
              "meters            34\n",
              "pump              34\n",
              "made              34\n",
              "hits              33\n",
              "generating        33\n",
              "injured           33\n",
              "performed         32\n",
              "approximately     32\n",
              "dtype: int64"
            ]
          },
          "metadata": {
            "tags": []
          },
          "execution_count": 106
        }
      ]
    },
    {
      "cell_type": "code",
      "metadata": {
        "colab": {
          "base_uri": "https://localhost:8080/"
        },
        "id": "ykMzBXryZ20X",
        "outputId": "d50ece9a-a7dd-486f-9dd2-688c2232ac15"
      },
      "source": [
        "# cleaning on Description\r\n",
        "data['Description'] = to_lower(data['Description']) # lowering the letters\r\n",
        "data['Description'] = punct_remover(data['Description'])  # removing punctuations \r\n",
        "data['Description'] = contaction_exp(data['Description']) # contaction expansion\r\n",
        "data['Description'] = rm_singles(data['Description'])  # removing single characters\r\n",
        "data['Description'] = rm_na(data['Description'])  # removing NA\r\n",
        "data['Description'] = rm_emails(data['Description']) # removing emails\r\n",
        "data['Description'] = rm_date_format(data['Description']) # removing dates\r\n",
        "data['Description'] = rm_digit(data['Description'])  # removing digits\r\n",
        "data['Description'] = rm_unwanted_spaces(data['Description']) # removing unwanted spaces\r\n",
        "data['Description'] = rm_stopwords(data['Description']) # stopwords removed\r\n",
        "data['Description'].head(10)"
      ],
      "execution_count": 107,
      "outputs": [
        {
          "output_type": "stream",
          "text": [
            "Converted Description to lowercase\n",
            "punctuations !\"#$%&'()*+,-./:;<=>?@[\\]^_`{|}~ removed from Description coulmn\n",
            "contractions expension on the Description column completed\n",
            "Removed the single letter from the Description column data\n",
            "Removed the NA from the Description column data\n",
            "Removed email id from the Description column data\n",
            "Removed date from the Description column data\n",
            "Removed digits from the Description column data\n",
            "Striped unwanted spaces from the Description column data\n",
            "Removed the stopwords in the Description column\n"
          ],
          "name": "stdout"
        },
        {
          "output_type": "execute_result",
          "data": {
            "text/plain": [
              "0    removing drill rod jumbo maintenance superviso...\n",
              "1    activation sodium sulphide pump piping uncoupl...\n",
              "2    substation milpo located level collaborator ex...\n",
              "3    approximately nv cx ob personnel begins task u...\n",
              "4    approximately circumstances mechanics anthony ...\n",
              "5    unloading operation ustulado bag need unclog d...\n",
              "6    collaborator reports street holding left hand ...\n",
              "7    approximately pm mechanic technician josé tecn...\n",
              "8    employee sitting resting area level raise bore...\n",
              "9    moment forklift operator went manipulate big b...\n",
              "Name: Description, dtype: object"
            ]
          },
          "metadata": {
            "tags": []
          },
          "execution_count": 107
        }
      ]
    },
    {
      "cell_type": "code",
      "metadata": {
        "id": "kP2VqE1S0PkR",
        "outputId": "15334b61-2373-448f-8d88-95d416d5c8cc",
        "colab": {
          "base_uri": "https://localhost:8080/"
        }
      },
      "source": [
        "data_split = pd.Series(' '.join(rm_stopwords(to_lower(data.Description))).split()).value_counts( ascending=False)[:50] ## Most used words \r\n",
        "data_split"
      ],
      "execution_count": 108,
      "outputs": [
        {
          "output_type": "stream",
          "text": [
            "Converted Description to lowercase\n",
            "Removed the stopwords in the Description column\n"
          ],
          "name": "stdout"
        },
        {
          "output_type": "execute_result",
          "data": {
            "text/plain": [
              "causing          166\n",
              "hand             166\n",
              "left             160\n",
              "right            155\n",
              "employee         154\n",
              "operator         122\n",
              "injury           105\n",
              "time             101\n",
              "activity          94\n",
              "area              81\n",
              "moment            79\n",
              "one               79\n",
              "equipment         77\n",
              "work              77\n",
              "accident          73\n",
              "level             71\n",
              "collaborator      68\n",
              "finger            68\n",
              "pipe              67\n",
              "floor             65\n",
              "assistant         62\n",
              "worker            60\n",
              "mesh              58\n",
              "support           58\n",
              "cm                55\n",
              "rock              55\n",
              "mr                54\n",
              "safety            53\n",
              "approximately     48\n",
              "meters            48\n",
              "height            47\n",
              "part              45\n",
              "described         45\n",
              "side              43\n",
              "kg                43\n",
              "team              42\n",
              "metal             42\n",
              "used              42\n",
              "face              42\n",
              "injured           41\n",
              "pump              40\n",
              "circumstances     40\n",
              "towards           39\n",
              "gloves            39\n",
              "truck             39\n",
              "hit               38\n",
              "medical           38\n",
              "cut               37\n",
              "performing        37\n",
              "two               36\n",
              "dtype: int64"
            ]
          },
          "metadata": {
            "tags": []
          },
          "execution_count": 108
        }
      ]
    },
    {
      "cell_type": "code",
      "metadata": {
        "id": "_fFvQKlZZ7OD"
      },
      "source": [
        "print(\"Lemetizeing the words\")\r\n",
        "import nltk\r\n",
        "nltk.download('averaged_perceptron_tagger')\r\n",
        "nltk.download('wordnet')\r\n",
        "from nltk.stem import WordNetLemmatizer\r\n",
        "from nltk.corpus import wordnet as wn\r\n",
        "wordNet = WordNetLemmatizer()\r\n",
        "\r\n",
        "def lem(text):\r\n",
        "    pos_dict = {'N': wn.NOUN, 'V': wn.VERB, 'J': wn.ADJ, 'R': wn.ADV }\r\n",
        "    return(' '.join([wordNet.lemmatize(w,pos_dict.get(t, wn.NOUN)) for w,t in nltk.pos_tag(text.split())]))\r\n",
        "\r\n",
        "print('Applying Lemmatizer')\r\n",
        "data['Description'] = data['Description'].apply(lambda x: lem(x))"
      ],
      "execution_count": null,
      "outputs": []
    },
    {
      "cell_type": "code",
      "metadata": {
        "id": "_HZolHis0yVV",
        "outputId": "4b38dffc-4682-4a95-da58-648404c18be7",
        "colab": {
          "base_uri": "https://localhost:8080/"
        }
      },
      "source": [
        "data_split = pd.Series(' '.join(data.Description).split()).value_counts( ascending=True)[:50] ## Least used words \r\n",
        "data_split"
      ],
      "execution_count": 109,
      "outputs": [
        {
          "output_type": "execute_result",
          "data": {
            "text/plain": [
              "distracted    1\n",
              "mini          1\n",
              "inferior      1\n",
              "extraction    1\n",
              "fisherman     1\n",
              "driven        1\n",
              "ronald        1\n",
              "advances      1\n",
              "waiting       1\n",
              "polling       1\n",
              "cadmium       1\n",
              "stairs        1\n",
              "alex          1\n",
              "sa            1\n",
              "antonio       1\n",
              "taking        1\n",
              "comfort       1\n",
              "improve       1\n",
              "settling      1\n",
              "eriks         1\n",
              "extruder      1\n",
              "doosan        1\n",
              "pedal         1\n",
              "flexible      1\n",
              "murilo        1\n",
              "thrust        1\n",
              "opposite      1\n",
              "labor         1\n",
              "remains       1\n",
              "buckets       1\n",
              "band          1\n",
              "kitchen       1\n",
              "trailer       1\n",
              "lxpb          1\n",
              "excessive     1\n",
              "manitou       1\n",
              "toecap        1\n",
              "machinery     1\n",
              "prils         1\n",
              "stylet        1\n",
              "gilton        1\n",
              "dismount      1\n",
              "sulfates      1\n",
              "disposal      1\n",
              "dishes        1\n",
              "rigger        1\n",
              "eka           1\n",
              "clogging      1\n",
              "favor         1\n",
              "ex            1\n",
              "dtype: int64"
            ]
          },
          "metadata": {
            "tags": []
          },
          "execution_count": 109
        }
      ]
    },
    {
      "cell_type": "code",
      "metadata": {
        "id": "RyVz_OhuanQ2"
      },
      "source": [
        "data['Description'].head(10)"
      ],
      "execution_count": null,
      "outputs": []
    },
    {
      "cell_type": "code",
      "metadata": {
        "id": "xU7NHgFjarCK"
      },
      "source": [
        "text=\" \".join(description for description in data.Description )"
      ],
      "execution_count": null,
      "outputs": []
    },
    {
      "cell_type": "code",
      "metadata": {
        "id": "Vh0OcWDTavwt"
      },
      "source": [
        "len(text.split())"
      ],
      "execution_count": null,
      "outputs": []
    },
    {
      "cell_type": "code",
      "metadata": {
        "id": "7ubj8ykBa0Ar"
      },
      "source": [
        "\r\n",
        "# lower max_font_size, change the maximum number of word and lighten the background:\r\n",
        "def plot_wordcloud(text,title):\r\n",
        "  wordcloud = WordCloud(max_font_size=50, max_words=100, background_color=\"white\",width = 350, height = 150,collocations = True).generate(text)\r\n",
        "  plt.figure(figsize=(16,8))\r\n",
        "  plt.imshow(wordcloud, interpolation=\"bilinear\")\r\n",
        "  plt.title(title)\r\n",
        "  plt.axis(\"off\")\r\n",
        "  plt.show()\r\n",
        "\r\n",
        "plot_wordcloud(text,\"Word Cloud of Data\")"
      ],
      "execution_count": null,
      "outputs": []
    },
    {
      "cell_type": "code",
      "metadata": {
        "id": "MvXfSjXja3t0"
      },
      "source": [
        "filter_data = ' '.join((data.loc[data['Industry Sector'] == 'Mining']).Description)\r\n",
        "plot_wordcloud(filter_data,\"Word Cloud of Industry Sector (Mining)\")"
      ],
      "execution_count": null,
      "outputs": []
    },
    {
      "cell_type": "code",
      "metadata": {
        "id": "2rm33gxXa_fT"
      },
      "source": [
        "filter_data = ' '.join((data.loc[data['Industry Sector'] == 'Metals']).Description)\r\n",
        "plot_wordcloud(filter_data,\"Word Cloud of Industry Sector (Metals)\")"
      ],
      "execution_count": null,
      "outputs": []
    },
    {
      "cell_type": "code",
      "metadata": {
        "id": "6rfjwRt-bDaK"
      },
      "source": [
        "filter_data = ' '.join((data.loc[data['Industry Sector'] == 'Others']).Description)\r\n",
        "plot_wordcloud(filter_data,\"Word Cloud of Industry Sector (Others)\")"
      ],
      "execution_count": null,
      "outputs": []
    },
    {
      "cell_type": "code",
      "metadata": {
        "id": "V_D5ugG6bGyz"
      },
      "source": [
        "data['labels'] = data.apply(lambda row: [row['Accident Level'], row['Potential Accident Level']], axis=1)"
      ],
      "execution_count": null,
      "outputs": []
    },
    {
      "cell_type": "code",
      "metadata": {
        "id": "rw_avVLybK6R"
      },
      "source": [
        "data['labels'].head()"
      ],
      "execution_count": null,
      "outputs": []
    },
    {
      "cell_type": "code",
      "metadata": {
        "id": "nBFTgguqbW4U"
      },
      "source": [
        "## One hot encoding \r\n",
        "data.head(2)\r\n"
      ],
      "execution_count": null,
      "outputs": []
    },
    {
      "cell_type": "code",
      "metadata": {
        "id": "-cuqC9t8bXN4"
      },
      "source": [
        "X=data.drop(['Accident Level','Potential Accident Level','Year','Month','Day','Weekday','Quarter','labels'],axis=1)"
      ],
      "execution_count": null,
      "outputs": []
    },
    {
      "cell_type": "code",
      "metadata": {
        "id": "7F5jwOrjbwor"
      },
      "source": [
        "X.head()"
      ],
      "execution_count": null,
      "outputs": []
    },
    {
      "cell_type": "code",
      "metadata": {
        "id": "4wPKb6YIbyJc"
      },
      "source": [
        "X['Country'] = to_lower(X['Country'])\r\n",
        "X['Local'] = to_lower(X['Local'])\r\n",
        "X['Industry Sector'] = to_lower(X['Industry Sector'])\r\n",
        "X['Gender'] = to_lower(X['Gender'])\r\n",
        "X['Employee type'] = to_lower(X['Employee type'])\r\n",
        "X['Critical Risk'] = to_lower(X['Critical Risk'])"
      ],
      "execution_count": null,
      "outputs": []
    },
    {
      "cell_type": "code",
      "metadata": {
        "id": "8lfyN1xGb9lq"
      },
      "source": [
        "X.head()"
      ],
      "execution_count": null,
      "outputs": []
    },
    {
      "cell_type": "code",
      "metadata": {
        "id": "ZFfUCZrPcwpJ"
      },
      "source": [
        "X = pd.get_dummies(X,columns=['Country','Local','Gender','Industry Sector','Employee type','Critical Risk'])"
      ],
      "execution_count": null,
      "outputs": []
    },
    {
      "cell_type": "code",
      "metadata": {
        "id": "OLHouQMHdYy9"
      },
      "source": [
        "X.head()"
      ],
      "execution_count": null,
      "outputs": []
    },
    {
      "cell_type": "code",
      "metadata": {
        "id": "gsr44xBMdboO"
      },
      "source": [
        "y=data['labels']\r\n",
        "y.head()"
      ],
      "execution_count": null,
      "outputs": []
    },
    {
      "cell_type": "code",
      "metadata": {
        "id": "zLmfVl8zdmQn"
      },
      "source": [
        "from sklearn.model_selection import train_test_split\r\n",
        "X_train, X_test, y_train, y_test = train_test_split(X, y, test_size=0.20, random_state=42)\r\n"
      ],
      "execution_count": null,
      "outputs": []
    },
    {
      "cell_type": "code",
      "metadata": {
        "id": "vEgzVHi4drcS"
      },
      "source": [
        "#TFIDF matrix\r\n",
        "import pandas as pd\r\n",
        "from sklearn.feature_extraction.text import TfidfVectorizer\r\n",
        "vectorizer = TfidfVectorizer(ngram_range=(1, 3))\r\n",
        "X_train_tfidf = vectorizer.fit_transform(X_train['Description'])\r\n",
        "X_test_tfidf = vectorizer.transform(X_test['Description'])\r\n",
        "vectorizer.get_feature_names()[:5]"
      ],
      "execution_count": null,
      "outputs": []
    },
    {
      "cell_type": "code",
      "metadata": {
        "id": "BKLNJfWHdw-G"
      },
      "source": [
        "#Creating bag of words\r\n",
        "from sklearn.feature_extraction.text import CountVectorizer\r\n",
        "vectorizer = CountVectorizer(binary=True, ngram_range=(1, 3))\r\n",
        "X_train_bow = vectorizer.fit_transform(X_train['Description'])\r\n",
        "X_test_bow = vectorizer.transform(X_test['Description'])"
      ],
      "execution_count": null,
      "outputs": []
    },
    {
      "cell_type": "code",
      "metadata": {
        "id": "4pMXXUq6d0Ry"
      },
      "source": [
        "vectorizer.get_feature_names()[:5]"
      ],
      "execution_count": null,
      "outputs": []
    },
    {
      "cell_type": "code",
      "metadata": {
        "id": "hK6Fcm--d4Lq"
      },
      "source": [
        "#Creating count vector\r\n",
        "from sklearn.feature_extraction.text import CountVectorizer\r\n",
        "vectorizer = CountVectorizer(ngram_range=(1, 3))\r\n",
        "X_train_cv = vectorizer.fit_transform(X_train['Description'])\r\n",
        "X_test_cv = vectorizer.transform(X_test['Description'])"
      ],
      "execution_count": null,
      "outputs": []
    },
    {
      "cell_type": "code",
      "metadata": {
        "id": "_elxd1ohd70i"
      },
      "source": [
        "vectorizer.get_feature_names()[:5]"
      ],
      "execution_count": null,
      "outputs": []
    },
    {
      "cell_type": "code",
      "metadata": {
        "id": "e92cjEJbd-VG"
      },
      "source": [
        "#view term documant matrix \r\n",
        "df=pd.DataFrame(X_train_tfidf.todense())\r\n",
        "df.head()"
      ],
      "execution_count": null,
      "outputs": []
    },
    {
      "cell_type": "code",
      "metadata": {
        "id": "3Tg_CoBRePeX"
      },
      "source": [
        "print(X_train_tfidf.shape)\r\n",
        "print(X_test_tfidf.shape)"
      ],
      "execution_count": null,
      "outputs": []
    },
    {
      "cell_type": "code",
      "metadata": {
        "id": "JX-eB_6UeCTl"
      },
      "source": [
        "#view BOW matrix \r\n",
        "df=pd.DataFrame(X_train_bow.todense())\r\n",
        "df.head()"
      ],
      "execution_count": null,
      "outputs": []
    },
    {
      "cell_type": "code",
      "metadata": {
        "id": "ICH-tnLYeeto"
      },
      "source": [
        "print(X_train_bow.shape)\r\n",
        "print(X_test_bow.shape)"
      ],
      "execution_count": null,
      "outputs": []
    },
    {
      "cell_type": "code",
      "metadata": {
        "id": "nQEG9n_vemu9"
      },
      "source": [
        "#count vector documant matrix \r\n",
        "df=pd.DataFrame(X_train_cv.todense())\r\n",
        "df.head(50)"
      ],
      "execution_count": null,
      "outputs": []
    },
    {
      "cell_type": "code",
      "metadata": {
        "id": "r48GN6GyerWT"
      },
      "source": [
        "### concatinate TFIDF with other binary features\r\n",
        "X_train=X_train.drop(['Description'],axis=1)\r\n",
        "X_train.columns"
      ],
      "execution_count": null,
      "outputs": []
    },
    {
      "cell_type": "code",
      "metadata": {
        "id": "KSY57HD-fBHY"
      },
      "source": [
        "X_test_bk=X_test.copy()\r\n",
        "X_test=X_test.drop(['Description'],axis=1)\r\n",
        "X_test.head(2)"
      ],
      "execution_count": null,
      "outputs": []
    },
    {
      "cell_type": "code",
      "metadata": {
        "id": "v3CqLz9ufHdt"
      },
      "source": [
        "## concatinate the  X_train & X_train_tfidf\r\n",
        "X_train.head()"
      ],
      "execution_count": null,
      "outputs": []
    },
    {
      "cell_type": "code",
      "metadata": {
        "id": "Naqq4G0zfPf6"
      },
      "source": [
        "final_x_train_tfidf = np.concatenate((X_train.to_numpy(),X_train_tfidf.toarray()),axis=1)\r\n",
        "final_x_train_bow = np.concatenate((X_train.to_numpy(),X_train_bow.toarray()),axis=1)\r\n",
        "final_x_train_cv = np.concatenate((X_train.to_numpy(),X_train_cv.toarray()),axis=1)"
      ],
      "execution_count": null,
      "outputs": []
    },
    {
      "cell_type": "code",
      "metadata": {
        "id": "cNiNP6rKfU4M"
      },
      "source": [
        "final_x_test_tfidf = np.concatenate((X_test.to_numpy(),X_test_tfidf.toarray()),axis=1)\r\n",
        "final_x_test_bow = np.concatenate((X_test.to_numpy(),X_test_bow.toarray()),axis=1)\r\n",
        "final_x_test_cv = np.concatenate((X_test.to_numpy(),X_test_cv.toarray()),axis=1)"
      ],
      "execution_count": null,
      "outputs": []
    },
    {
      "cell_type": "code",
      "metadata": {
        "id": "sLnh8-59fYA8"
      },
      "source": [
        "label_counts = dict()\r\n",
        "\r\n",
        "for labels in data.labels.values:\r\n",
        "    for label in labels:\r\n",
        "        if label in label_counts:\r\n",
        "            label_counts[label] += 1\r\n",
        "        else:\r\n",
        "            label_counts[label] = 1"
      ],
      "execution_count": null,
      "outputs": []
    },
    {
      "cell_type": "code",
      "metadata": {
        "id": "XR1ES2PPfdnQ"
      },
      "source": [
        "label_counts"
      ],
      "execution_count": null,
      "outputs": []
    },
    {
      "cell_type": "code",
      "metadata": {
        "id": "MclwFjS5flFL"
      },
      "source": [
        "# Load a multilabel binarizer and fit it on the labels.\r\n",
        "from sklearn.preprocessing import MultiLabelBinarizer\r\n",
        "mlb = MultiLabelBinarizer(classes=sorted(label_counts.keys()))\r\n",
        "y_train = mlb.fit_transform(y_train)\r\n",
        "y_test = mlb.transform(y_test)\r\n",
        "mlb.classes_"
      ],
      "execution_count": null,
      "outputs": []
    },
    {
      "cell_type": "code",
      "metadata": {
        "id": "UQos7S1vfpDq"
      },
      "source": [
        "from sklearn.multiclass import OneVsRestClassifier\r\n",
        "from sklearn.linear_model import LogisticRegression\r\n",
        "clf_tfidf = LogisticRegression(solver='liblinear')\r\n",
        "clf_bow = LogisticRegression(solver='liblinear')\r\n",
        "clf_cv = LogisticRegression(solver='liblinear')\r\n",
        "\r\n",
        "clf_tfidf = OneVsRestClassifier(clf_tfidf)\r\n",
        "clf_bow = OneVsRestClassifier(clf_bow)\r\n",
        "clf_cv = OneVsRestClassifier(clf_cv)"
      ],
      "execution_count": null,
      "outputs": []
    },
    {
      "cell_type": "code",
      "metadata": {
        "id": "eDOitrvyftjF"
      },
      "source": [
        "clf_tfidf.fit(final_x_train_tfidf, y_train)\r\n",
        "clf_bow.fit(final_x_train_bow, y_train)\r\n",
        "clf_cv.fit(final_x_train_cv, y_train)"
      ],
      "execution_count": null,
      "outputs": []
    },
    {
      "cell_type": "code",
      "metadata": {
        "id": "I9qhN6sHfyF3"
      },
      "source": [
        "predicted_labels_tfidf = clf_tfidf.predict(final_x_test_tfidf)\r\n",
        "predicted_labels_bow = clf_bow.predict(final_x_test_bow)\r\n",
        "predicted_labels_cv = clf_cv.predict(final_x_test_cv)\r\n",
        "\r\n",
        "predicted_scores_tfidf = clf_tfidf.decision_function(final_x_test_tfidf)\r\n",
        "predicted_scores_bow = clf_bow.decision_function(final_x_test_bow)\r\n",
        "predicted_scores_cv = clf_cv.decision_function(final_x_test_cv)\r\n",
        "# print(f\"predicted_scores for TFIDF = {predicted_scores_tfidf}\")\r\n",
        "# print(f\"predicted_scores for BOW = {predicted_scores_bow}\")"
      ],
      "execution_count": null,
      "outputs": []
    },
    {
      "cell_type": "code",
      "metadata": {
        "id": "XWPx_m6Rf5nL"
      },
      "source": [
        "pred_inversed_tfidf = mlb.inverse_transform(predicted_labels_tfidf)\r\n",
        "y_test_inversed_tfidf = mlb.inverse_transform(y_test)\r\n",
        "\r\n",
        "pred_inversed_bow = mlb.inverse_transform(predicted_labels_bow)\r\n",
        "y_test_inversed_bow = mlb.inverse_transform(y_test)\r\n",
        "\r\n",
        "pred_inversed_cv = mlb.inverse_transform(predicted_labels_cv)\r\n",
        "y_test_inversed_cv = mlb.inverse_transform(y_test)"
      ],
      "execution_count": null,
      "outputs": []
    },
    {
      "cell_type": "code",
      "metadata": {
        "id": "MFm01Zflf736"
      },
      "source": [
        "print(X_test_bk['Description'])"
      ],
      "execution_count": null,
      "outputs": []
    },
    {
      "cell_type": "code",
      "metadata": {
        "id": "sXCBi5BbgAMz"
      },
      "source": [
        "print(pred_inversed_tfidf)\r\n",
        "print(pred_inversed_bow)\r\n",
        "print(pred_inversed_cv)"
      ],
      "execution_count": null,
      "outputs": []
    },
    {
      "cell_type": "code",
      "metadata": {
        "id": "V8o2sdrzgSFZ"
      },
      "source": [
        "## TFIDF RESULT\r\n",
        "print(\"*\"*20+\" RESULT USING TFIDF MATRIX \"+\"*\"*20)\r\n",
        "\r\n",
        "for i in range(5):\r\n",
        "    print('Title:\\t{}\\nTrue labels:\\t{}\\nPredicted labels:\\t{}\\n\\n'.format(\r\n",
        "          X_test_bk['Description'][X_test_bk.index[i]],\r\n",
        "        ','.join(y_test_inversed_tfidf[i]),\r\n",
        "        ','.join(pred_inversed_tfidf[i])\r\n",
        "    ))"
      ],
      "execution_count": null,
      "outputs": []
    },
    {
      "cell_type": "code",
      "metadata": {
        "id": "oZqW_Cp9gYl4"
      },
      "source": [
        "## TFIDF RESULT\r\n",
        "print(\"*\"*20+\" RESULT USING BOW MATRIX \"+\"*\"*20)\r\n",
        "\r\n",
        "for i in range(5):\r\n",
        "    print('Title:\\t{}\\nTrue labels:\\t{}\\nPredicted labels:\\t{}\\n\\n'.format(\r\n",
        "        X_test_bk['Description'][X_test_bk.index[i]],\r\n",
        "        ','.join(y_test_inversed_bow[i]),\r\n",
        "        ','.join(pred_inversed_bow[i])\r\n",
        "    ))"
      ],
      "execution_count": null,
      "outputs": []
    },
    {
      "cell_type": "code",
      "metadata": {
        "id": "HeQcXHzfgdzQ"
      },
      "source": [
        "## COUNT VECTOR RESULT\r\n",
        "print(\"*\"*20+\" RESULT USING COUNT VECTOR MATRIX \"+\"*\"*20)\r\n",
        "\r\n",
        "for i in range(5):\r\n",
        "    print('Title:\\t{}\\nTrue labels:\\t{}\\nPredicted labels:\\t{}\\n\\n'.format(\r\n",
        "        X_test_bk['Description'][X_test_bk.index[i]],\r\n",
        "        ','.join(y_test_inversed_cv[i]),\r\n",
        "        ','.join(pred_inversed_cv[i])\r\n",
        "    ))"
      ],
      "execution_count": null,
      "outputs": []
    },
    {
      "cell_type": "code",
      "metadata": {
        "id": "xwX7fQ7agkMu"
      },
      "source": [
        "from sklearn.metrics import accuracy_score\r\n",
        "from sklearn.metrics import f1_score\r\n",
        "from sklearn.metrics import average_precision_score\r\n",
        "from sklearn.metrics import recall_score\r\n",
        "\r\n",
        "def print_evaluation_scores(y_val, predicted):\r\n",
        "    print('Accuracy score: ', accuracy_score(y_val, predicted))\r\n",
        "    print('F1 score: ', f1_score(y_val, predicted, average='micro'))\r\n",
        "    print('Average precision score: ', average_precision_score(y_val, predicted, average='micro'))\r\n",
        "    print('Average recall score: ', recall_score(y_val, predicted, average='micro'))"
      ],
      "execution_count": null,
      "outputs": []
    },
    {
      "cell_type": "code",
      "metadata": {
        "id": "l23p-a-9gpvP"
      },
      "source": [
        "print('With TFIDF the model stats')\r\n",
        "print_evaluation_scores(y_test, predicted_labels_tfidf)"
      ],
      "execution_count": null,
      "outputs": []
    },
    {
      "cell_type": "code",
      "metadata": {
        "id": "GdzA_P4ygsm2"
      },
      "source": [
        "  print('With BOW the model stats')\r\n",
        "print_evaluation_scores(y_test, predicted_labels_bow)"
      ],
      "execution_count": null,
      "outputs": []
    },
    {
      "cell_type": "code",
      "metadata": {
        "id": "2QCiA4JWgvu3"
      },
      "source": [
        "print('With COUNT VECTOR the model stats')\r\n",
        "print_evaluation_scores(y_test, predicted_labels_cv)"
      ],
      "execution_count": null,
      "outputs": []
    },
    {
      "cell_type": "code",
      "metadata": {
        "id": "kd7uwKAXg0__"
      },
      "source": [
        ""
      ],
      "execution_count": null,
      "outputs": []
    }
  ]
}