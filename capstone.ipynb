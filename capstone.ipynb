{
  "nbformat": 4,
  "nbformat_minor": 0,
  "metadata": {
    "colab": {
      "name": "capstone.ipynb",
      "provenance": [],
      "collapsed_sections": [],
      "authorship_tag": "ABX9TyPD34AXZla1mSZpertPV8q9",
      "include_colab_link": true
    },
    "kernelspec": {
      "name": "python3",
      "display_name": "Python 3"
    }
  },
  "cells": [
    {
      "cell_type": "markdown",
      "metadata": {
        "id": "view-in-github",
        "colab_type": "text"
      },
      "source": [
        "<a href=\"https://colab.research.google.com/github/martianjob/chatbot/blob/main/capstone.ipynb\" target=\"_parent\"><img src=\"https://colab.research.google.com/assets/colab-badge.svg\" alt=\"Open In Colab\"/></a>"
      ]
    },
    {
      "cell_type": "code",
      "metadata": {
        "id": "Vf4-pMiZL0S7"
      },
      "source": [
        "import numpy as np\r\n",
        "import pandas as pd\r\n",
        "import os\r\n",
        "import string"
      ],
      "execution_count": null,
      "outputs": []
    },
    {
      "cell_type": "code",
      "metadata": {
        "colab": {
          "base_uri": "https://localhost:8080/"
        },
        "id": "i3O8dbJsMzuY",
        "outputId": "1e598351-5a8a-4604-c357-75a4994adc07"
      },
      "source": [
        "# Mounting Google Drive\r\n",
        "from google.colab import drive\r\n",
        "drive.mount('/content/drive')"
      ],
      "execution_count": null,
      "outputs": [
        {
          "output_type": "stream",
          "text": [
            "Drive already mounted at /content/drive; to attempt to forcibly remount, call drive.mount(\"/content/drive\", force_remount=True).\n"
          ],
          "name": "stdout"
        }
      ]
    },
    {
      "cell_type": "code",
      "metadata": {
        "id": "JjKR8GEKNNL3"
      },
      "source": [
        "\r\n",
        "os.chdir('/content/drive/My Drive/Colab Notebooks/NLP/CAPSTONE/')"
      ],
      "execution_count": null,
      "outputs": []
    },
    {
      "cell_type": "code",
      "metadata": {
        "colab": {
          "base_uri": "https://localhost:8080/",
          "height": 306
        },
        "id": "tDSzVonXNguf",
        "outputId": "fe8467c8-3ecf-4017-e78a-2a9b9700ee17"
      },
      "source": [
        "# locading input data from csv \r\n",
        "data = pd.read_csv(\"IHMStefanini_industrial_safety_and_health_database_with_accidents_description.csv\")\r\n",
        "data.head(5)"
      ],
      "execution_count": null,
      "outputs": [
        {
          "output_type": "execute_result",
          "data": {
            "text/html": [
              "<div>\n",
              "<style scoped>\n",
              "    .dataframe tbody tr th:only-of-type {\n",
              "        vertical-align: middle;\n",
              "    }\n",
              "\n",
              "    .dataframe tbody tr th {\n",
              "        vertical-align: top;\n",
              "    }\n",
              "\n",
              "    .dataframe thead th {\n",
              "        text-align: right;\n",
              "    }\n",
              "</style>\n",
              "<table border=\"1\" class=\"dataframe\">\n",
              "  <thead>\n",
              "    <tr style=\"text-align: right;\">\n",
              "      <th></th>\n",
              "      <th>Unnamed: 0</th>\n",
              "      <th>Data</th>\n",
              "      <th>Countries</th>\n",
              "      <th>Local</th>\n",
              "      <th>Industry Sector</th>\n",
              "      <th>Accident Level</th>\n",
              "      <th>Potential Accident Level</th>\n",
              "      <th>Genre</th>\n",
              "      <th>Employee or Third Party</th>\n",
              "      <th>Critical Risk</th>\n",
              "      <th>Description</th>\n",
              "    </tr>\n",
              "  </thead>\n",
              "  <tbody>\n",
              "    <tr>\n",
              "      <th>0</th>\n",
              "      <td>0</td>\n",
              "      <td>2016-01-01 00:00:00</td>\n",
              "      <td>Country_01</td>\n",
              "      <td>Local_01</td>\n",
              "      <td>Mining</td>\n",
              "      <td>I</td>\n",
              "      <td>IV</td>\n",
              "      <td>Male</td>\n",
              "      <td>Third Party</td>\n",
              "      <td>Pressed</td>\n",
              "      <td>While removing the drill rod of the Jumbo 08 f...</td>\n",
              "    </tr>\n",
              "    <tr>\n",
              "      <th>1</th>\n",
              "      <td>1</td>\n",
              "      <td>2016-01-02 00:00:00</td>\n",
              "      <td>Country_02</td>\n",
              "      <td>Local_02</td>\n",
              "      <td>Mining</td>\n",
              "      <td>I</td>\n",
              "      <td>IV</td>\n",
              "      <td>Male</td>\n",
              "      <td>Employee</td>\n",
              "      <td>Pressurized Systems</td>\n",
              "      <td>During the activation of a sodium sulphide pum...</td>\n",
              "    </tr>\n",
              "    <tr>\n",
              "      <th>2</th>\n",
              "      <td>2</td>\n",
              "      <td>2016-01-06 00:00:00</td>\n",
              "      <td>Country_01</td>\n",
              "      <td>Local_03</td>\n",
              "      <td>Mining</td>\n",
              "      <td>I</td>\n",
              "      <td>III</td>\n",
              "      <td>Male</td>\n",
              "      <td>Third Party (Remote)</td>\n",
              "      <td>Manual Tools</td>\n",
              "      <td>In the sub-station MILPO located at level +170...</td>\n",
              "    </tr>\n",
              "    <tr>\n",
              "      <th>3</th>\n",
              "      <td>3</td>\n",
              "      <td>2016-01-08 00:00:00</td>\n",
              "      <td>Country_01</td>\n",
              "      <td>Local_04</td>\n",
              "      <td>Mining</td>\n",
              "      <td>I</td>\n",
              "      <td>I</td>\n",
              "      <td>Male</td>\n",
              "      <td>Third Party</td>\n",
              "      <td>Others</td>\n",
              "      <td>Being 9:45 am. approximately in the Nv. 1880 C...</td>\n",
              "    </tr>\n",
              "    <tr>\n",
              "      <th>4</th>\n",
              "      <td>4</td>\n",
              "      <td>2016-01-10 00:00:00</td>\n",
              "      <td>Country_01</td>\n",
              "      <td>Local_04</td>\n",
              "      <td>Mining</td>\n",
              "      <td>IV</td>\n",
              "      <td>IV</td>\n",
              "      <td>Male</td>\n",
              "      <td>Third Party</td>\n",
              "      <td>Others</td>\n",
              "      <td>Approximately at 11:45 a.m. in circumstances t...</td>\n",
              "    </tr>\n",
              "  </tbody>\n",
              "</table>\n",
              "</div>"
            ],
            "text/plain": [
              "   Unnamed: 0  ...                                        Description\n",
              "0           0  ...  While removing the drill rod of the Jumbo 08 f...\n",
              "1           1  ...  During the activation of a sodium sulphide pum...\n",
              "2           2  ...  In the sub-station MILPO located at level +170...\n",
              "3           3  ...  Being 9:45 am. approximately in the Nv. 1880 C...\n",
              "4           4  ...  Approximately at 11:45 a.m. in circumstances t...\n",
              "\n",
              "[5 rows x 11 columns]"
            ]
          },
          "metadata": {
            "tags": []
          },
          "execution_count": 99
        }
      ]
    },
    {
      "cell_type": "code",
      "metadata": {
        "id": "mj3A2jzIODSR"
      },
      "source": [
        "data = data.drop(data.columns[[0,1,2,3]],axis=1)\r\n"
      ],
      "execution_count": null,
      "outputs": []
    },
    {
      "cell_type": "code",
      "metadata": {
        "colab": {
          "base_uri": "https://localhost:8080/",
          "height": 271
        },
        "id": "24-noNzdOQHx",
        "outputId": "432ead90-a998-4662-a252-00a1e87f67e7"
      },
      "source": [
        "data.head(5)"
      ],
      "execution_count": null,
      "outputs": [
        {
          "output_type": "execute_result",
          "data": {
            "text/html": [
              "<div>\n",
              "<style scoped>\n",
              "    .dataframe tbody tr th:only-of-type {\n",
              "        vertical-align: middle;\n",
              "    }\n",
              "\n",
              "    .dataframe tbody tr th {\n",
              "        vertical-align: top;\n",
              "    }\n",
              "\n",
              "    .dataframe thead th {\n",
              "        text-align: right;\n",
              "    }\n",
              "</style>\n",
              "<table border=\"1\" class=\"dataframe\">\n",
              "  <thead>\n",
              "    <tr style=\"text-align: right;\">\n",
              "      <th></th>\n",
              "      <th>Industry Sector</th>\n",
              "      <th>Accident Level</th>\n",
              "      <th>Potential Accident Level</th>\n",
              "      <th>Genre</th>\n",
              "      <th>Employee or Third Party</th>\n",
              "      <th>Critical Risk</th>\n",
              "      <th>Description</th>\n",
              "    </tr>\n",
              "  </thead>\n",
              "  <tbody>\n",
              "    <tr>\n",
              "      <th>0</th>\n",
              "      <td>Mining</td>\n",
              "      <td>I</td>\n",
              "      <td>IV</td>\n",
              "      <td>Male</td>\n",
              "      <td>Third Party</td>\n",
              "      <td>Pressed</td>\n",
              "      <td>While removing the drill rod of the Jumbo 08 f...</td>\n",
              "    </tr>\n",
              "    <tr>\n",
              "      <th>1</th>\n",
              "      <td>Mining</td>\n",
              "      <td>I</td>\n",
              "      <td>IV</td>\n",
              "      <td>Male</td>\n",
              "      <td>Employee</td>\n",
              "      <td>Pressurized Systems</td>\n",
              "      <td>During the activation of a sodium sulphide pum...</td>\n",
              "    </tr>\n",
              "    <tr>\n",
              "      <th>2</th>\n",
              "      <td>Mining</td>\n",
              "      <td>I</td>\n",
              "      <td>III</td>\n",
              "      <td>Male</td>\n",
              "      <td>Third Party (Remote)</td>\n",
              "      <td>Manual Tools</td>\n",
              "      <td>In the sub-station MILPO located at level +170...</td>\n",
              "    </tr>\n",
              "    <tr>\n",
              "      <th>3</th>\n",
              "      <td>Mining</td>\n",
              "      <td>I</td>\n",
              "      <td>I</td>\n",
              "      <td>Male</td>\n",
              "      <td>Third Party</td>\n",
              "      <td>Others</td>\n",
              "      <td>Being 9:45 am. approximately in the Nv. 1880 C...</td>\n",
              "    </tr>\n",
              "    <tr>\n",
              "      <th>4</th>\n",
              "      <td>Mining</td>\n",
              "      <td>IV</td>\n",
              "      <td>IV</td>\n",
              "      <td>Male</td>\n",
              "      <td>Third Party</td>\n",
              "      <td>Others</td>\n",
              "      <td>Approximately at 11:45 a.m. in circumstances t...</td>\n",
              "    </tr>\n",
              "  </tbody>\n",
              "</table>\n",
              "</div>"
            ],
            "text/plain": [
              "  Industry Sector  ...                                        Description\n",
              "0          Mining  ...  While removing the drill rod of the Jumbo 08 f...\n",
              "1          Mining  ...  During the activation of a sodium sulphide pum...\n",
              "2          Mining  ...  In the sub-station MILPO located at level +170...\n",
              "3          Mining  ...  Being 9:45 am. approximately in the Nv. 1880 C...\n",
              "4          Mining  ...  Approximately at 11:45 a.m. in circumstances t...\n",
              "\n",
              "[5 rows x 7 columns]"
            ]
          },
          "metadata": {
            "tags": []
          },
          "execution_count": 101
        }
      ]
    },
    {
      "cell_type": "code",
      "metadata": {
        "colab": {
          "base_uri": "https://localhost:8080/"
        },
        "id": "lrZnVZ6_b2T9",
        "outputId": "f2c23cab-7140-47c1-feae-d493b60846f3"
      },
      "source": [
        "# Removing punctuations\r\n",
        "data['Description'] = data['Description'].apply(lambda x: x.translate(str.maketrans('', '', string.punctuation)))\r\n",
        "print(f'punctuations {string.punctuation} removed ')"
      ],
      "execution_count": null,
      "outputs": [
        {
          "output_type": "stream",
          "text": [
            "punctuations !\"#$%&'()*+,-./:;<=>?@[\\]^_`{|}~ removed \n"
          ],
          "name": "stdout"
        }
      ]
    },
    {
      "cell_type": "code",
      "metadata": {
        "colab": {
          "base_uri": "https://localhost:8080/"
        },
        "id": "hE0Z3kZrc2tU",
        "outputId": "0b168bea-4d99-4fe2-bec6-586d2e39394b"
      },
      "source": [
        "# Convert text to lowercase\r\n",
        "data['Description'] = data['Description'].apply(lambda x: x.lower())\r\n",
        "print(\"Converted Description to lowercase\")"
      ],
      "execution_count": null,
      "outputs": [
        {
          "output_type": "stream",
          "text": [
            "Converted Description to lowercase\n"
          ],
          "name": "stdout"
        }
      ]
    },
    {
      "cell_type": "code",
      "metadata": {
        "id": "y4DJmKPkXM8F"
      },
      "source": [
        "#Remove single letter word\r\n",
        "data['Description'] = data['Description'].apply(lambda x:re.sub(r'\\b\\w{1}\\b',\"\",x ,flags=re.I))"
      ],
      "execution_count": null,
      "outputs": []
    },
    {
      "cell_type": "code",
      "metadata": {
        "id": "_m7RrVQFY1K4"
      },
      "source": [
        "#Remove NA\r\n",
        "data['Description'] = data['Description'].apply(lambda x:re.sub(r'\\bNA\\b',\"\",x ,flags=re.I))"
      ],
      "execution_count": null,
      "outputs": []
    },
    {
      "cell_type": "code",
      "metadata": {
        "id": "uRmH8Ab5OKs7"
      },
      "source": [
        "#Removing the email addresses\r\n",
        "data['Description'] = data['Description'].apply(lambda x: re.sub(r\"\\S+@\\S+\", \"\",x ,flags=re.I))\r\n"
      ],
      "execution_count": null,
      "outputs": []
    },
    {
      "cell_type": "code",
      "metadata": {
        "id": "TKeGpoGWRJtw"
      },
      "source": [
        "#Remove all date formats \r\n",
        "#pattern_str=\"^(?:\\d{1,2}(?:(?:-|/)|(?:th|st|nd|rd)?\\s))?(?:(?:(?:Jan(?:uary)?|Feb(?:ruary)?|Mar(?:ch)?|Apr(?:il)?|May|Jun(?:e)?|Jul(?:y)?|Aug(?:ust)?|Sep(?:tember)?|Oct(?:ober)?|Nov(?:ember)?|Dec(?:ember)?)(?:(?:-|/)|(?:,|\\.)?\\s)?)?(?:\\d{1,2}(?:(?:-|/)|(?:th|st|nd|rd)?\\s))?)(?:\\d{2,4})$\"\r\n",
        "data['Description'] = data['Description'].apply(lambda x: re.sub(r\"^(?:\\d{1,2}(?:(?:-|/)|(?:th|st|nd|rd)?\\s))?(?:(?:(?:Jan(?:uary)?|Feb(?:ruary)?|Mar(?:ch)?|Apr(?:il)?|May|Jun(?:e)?|Jul(?:y)?|Aug(?:ust)?|Sep(?:tember)?|Oct(?:ober)?|Nov(?:ember)?|Dec(?:ember)?)(?:(?:-|/)|(?:,|\\.)?\\s)?)?(?:\\d{1,2}(?:(?:-|/)|(?:th|st|nd|rd)?\\s))?)(?:\\d{2,4})$\", \"\",s ,flags=re.I))"
      ],
      "execution_count": null,
      "outputs": []
    },
    {
      "cell_type": "code",
      "metadata": {
        "id": "QagmLSLGSpu5"
      },
      "source": [
        "#Remove digits\r\n",
        "data['Description'] = data['Description'].apply(lambda x: re.sub(r\"\\d\", \"\",x ,flags=re.I))\r\n"
      ],
      "execution_count": null,
      "outputs": []
    },
    {
      "cell_type": "code",
      "metadata": {
        "colab": {
          "base_uri": "https://localhost:8080/"
        },
        "id": "XQL8NQMmeFqP",
        "outputId": "00c92434-3020-4757-e915-e14feda3d83c"
      },
      "source": [
        "import random, re\r\n",
        "# Strip unwanted spaces\r\n",
        "data['Description'] = data['Description'].apply(lambda x: re.sub(' +', ' ', x))\r\n",
        "print(\"Striped unwanted spaces\")\r\n"
      ],
      "execution_count": null,
      "outputs": [
        {
          "output_type": "stream",
          "text": [
            "Striped unwanted spaces\n"
          ],
          "name": "stdout"
        }
      ]
    },
    {
      "cell_type": "code",
      "metadata": {
        "colab": {
          "base_uri": "https://localhost:8080/"
        },
        "id": "tLCQmMa4egik",
        "outputId": "04813db9-b570-4047-91ed-4ac2ab3e07c2"
      },
      "source": [
        "# Removing stopwords\r\n",
        "import nltk\r\n",
        "nltk.download('stopwords')\r\n",
        "from nltk.corpus import stopwords\r\n",
        "stopwords = set(stopwords.words('english'))\r\n",
        "data['Description'] = data['Description'].apply(lambda x: ' '.join([word for word in x.split() if word not in stopwords]))\r\n",
        "print(\"Removed the stopwords in the Description column\")"
      ],
      "execution_count": null,
      "outputs": [
        {
          "output_type": "stream",
          "text": [
            "[nltk_data] Downloading package stopwords to /root/nltk_data...\n",
            "[nltk_data]   Package stopwords is already up-to-date!\n",
            "Removed the stopwords in the Description column\n"
          ],
          "name": "stdout"
        }
      ]
    },
    {
      "cell_type": "code",
      "metadata": {
        "colab": {
          "base_uri": "https://localhost:8080/"
        },
        "id": "wOn2KyQveLYI",
        "outputId": "5be6ce98-bc84-4967-94fd-d5fd5749bb2c"
      },
      "source": [
        "data['Description'].head(10)"
      ],
      "execution_count": null,
      "outputs": [
        {
          "output_type": "execute_result",
          "data": {
            "text/plain": [
              "0    removing drill rod jumbo 08 maintenance superv...\n",
              "1    activation sodium sulphide pump piping uncoupl...\n",
              "2    substation milpo located level 170 collaborato...\n",
              "3    945 approximately nv 1880 cx695 ob7 personnel ...\n",
              "4    approximately 1145 circumstances mechanics ant...\n",
              "5    unloading operation ustulado bag need unclog d...\n",
              "6    collaborator reports street 09 holding left ha...\n",
              "7    approximately 0450 pm mechanic technician josé...\n",
              "8    employee sitting resting area level 326 raise ...\n",
              "9    moment forklift operator went manipulate big b...\n",
              "Name: Description, dtype: object"
            ]
          },
          "metadata": {
            "tags": []
          },
          "execution_count": 106
        }
      ]
    },
    {
      "cell_type": "code",
      "metadata": {
        "colab": {
          "base_uri": "https://localhost:8080/"
        },
        "id": "YzXcVxAeeSlN",
        "outputId": "70064594-cb3c-49ac-fcb4-3ff90c5b33ca"
      },
      "source": [
        "print(\"Lemetizeing the words\")\r\n",
        "import nltk\r\n",
        "nltk.download('averaged_perceptron_tagger')\r\n",
        "nltk.download('wordnet')\r\n",
        "from nltk.stem import WordNetLemmatizer\r\n",
        "from nltk.corpus import wordnet as wn\r\n",
        "wordNet = WordNetLemmatizer()\r\n",
        "#data['Description'] = data['Description'].apply(lambda x: ' '.join([ wordNet.lemmatize(word)  for word in x.split()]))\r\n",
        "\r\n",
        "def lem(text):\r\n",
        "    pos_dict = {'N': wn.NOUN, 'V': wn.VERB, 'J': wn.ADJ, 'R': wn.ADV}\r\n",
        "    return(' '.join([wordNet.lemmatize(w,pos_dict.get(t, wn.NOUN)) for w,t in nltk.pos_tag(text.split())]))\r\n",
        "\r\n",
        "print('Applying Lemmatizer')\r\n",
        "data['Description'] = data['Description'].apply(lambda x: lem(x))"
      ],
      "execution_count": null,
      "outputs": [
        {
          "output_type": "stream",
          "text": [
            "Lemetizeing the words\n",
            "[nltk_data] Downloading package averaged_perceptron_tagger to\n",
            "[nltk_data]     /root/nltk_data...\n",
            "[nltk_data]   Unzipping taggers/averaged_perceptron_tagger.zip.\n",
            "[nltk_data] Downloading package wordnet to /root/nltk_data...\n",
            "[nltk_data]   Package wordnet is already up-to-date!\n",
            "Applying Lemmatizer\n"
          ],
          "name": "stdout"
        }
      ]
    },
    {
      "cell_type": "code",
      "metadata": {
        "colab": {
          "base_uri": "https://localhost:8080/"
        },
        "id": "-xVn7PMSi25K",
        "outputId": "eedc148a-0504-47e9-ff05-f0b5cfe3e7b4"
      },
      "source": [
        "data['Description'].head(10)"
      ],
      "execution_count": null,
      "outputs": [
        {
          "output_type": "execute_result",
          "data": {
            "text/plain": [
              "0    removing drill rod jumbo 08 maintenance superv...\n",
              "1    activation sodium sulphide pump piping uncoupl...\n",
              "2    substation milpo located level 170 collaborato...\n",
              "3    945 approximately nv 1880 cx695 ob7 personnel ...\n",
              "4    approximately 1145 circumstance mechanic antho...\n",
              "5    unloading operation ustulado bag need unclog d...\n",
              "6    collaborator report street 09 holding left han...\n",
              "7    approximately 0450 pm mechanic technician josé...\n",
              "8    employee sitting resting area level 326 raise ...\n",
              "9    moment forklift operator went manipulate big b...\n",
              "Name: Description, dtype: object"
            ]
          },
          "metadata": {
            "tags": []
          },
          "execution_count": 110
        }
      ]
    },
    {
      "cell_type": "code",
      "metadata": {
        "id": "0_JbNXFbi7Pu"
      },
      "source": [
        "wordNet.lemmatize('better')"
      ],
      "execution_count": null,
      "outputs": []
    },
    {
      "cell_type": "code",
      "metadata": {
        "colab": {
          "base_uri": "https://localhost:8080/",
          "height": 35
        },
        "id": "nbsg31yjUfmr",
        "outputId": "784d94fa-179c-4063-bed5-055632533d6c"
      },
      "source": [
        "x=\"NAI Hi NA sanjay a good boy l  NA\"\r\n",
        "#re.sub(r'\\b\\w{1}\\b', \"\",x ,flags=re.I)\r\n",
        "re.sub(r'\\bNA\\b', \"\",x ,flags=re.I)"
      ],
      "execution_count": null,
      "outputs": [
        {
          "output_type": "execute_result",
          "data": {
            "application/vnd.google.colaboratory.intrinsic+json": {
              "type": "string"
            },
            "text/plain": [
              "'NAI Hi  sanjay a good boy l  '"
            ]
          },
          "metadata": {
            "tags": []
          },
          "execution_count": 150
        }
      ]
    },
    {
      "cell_type": "code",
      "metadata": {
        "id": "PMM63KmsMQSV"
      },
      "source": [
        ""
      ],
      "execution_count": null,
      "outputs": []
    }
  ]
}